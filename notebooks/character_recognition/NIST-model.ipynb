{
 "cells": [
  {
   "cell_type": "markdown",
   "metadata": {},
   "source": [
    "# Construction du modèle de reconnaissance de caractère basé sur le dataset MIST\n",
    "\n",
    "Dans ce notebook sera présenté la création du modèle qui permettra de **classifier** les lettres de l'alphabet de a-z et A-Z.\n",
    "\n",
    "Pour ce faire nous allons utiliser le dataset d'images prétraités créés par le notebook [NIST-preprocessing](/notebooks/notebooks/character_recognition/NIST-preprocessing.ipynb)\n",
    "\n",
    "Pour exécuter ce notebook, veillez à ce que le jeu de données soit bien sous la forme suivante.\n",
    "- data\n",
    "    - processed\n",
    "         - NIST-dataset\n",
    "            - train\n",
    "                - a000001.png\n",
    "                - a000002.png\n",
    "                ...\n",
    "                ...\n",
    "                - a00000n.png\n",
    "            - test_set\n",
    "                - a000001.png\n",
    "                - a000002.png\n",
    "                ...\n",
    "                ...\n",
    "                - a00000n.png\n"
   ]
  },
  {
   "cell_type": "markdown",
   "metadata": {},
   "source": [
    "## Importation des dépendances"
   ]
  },
  {
   "cell_type": "code",
   "execution_count": null,
   "metadata": {},
   "outputs": [
    {
     "name": "stderr",
     "output_type": "stream",
     "text": [
      "2023-03-02 15:29:12.786181: I tensorflow/core/platform/cpu_feature_guard.cc:193] This TensorFlow binary is optimized with oneAPI Deep Neural Network Library (oneDNN) to use the following CPU instructions in performance-critical operations:  AVX2 FMA\n",
      "To enable them in other operations, rebuild TensorFlow with the appropriate compiler flags.\n",
      "2023-03-02 15:29:12.911723: W tensorflow/compiler/xla/stream_executor/platform/default/dso_loader.cc:64] Could not load dynamic library 'libcudart.so.11.0'; dlerror: libcudart.so.11.0: cannot open shared object file: No such file or directory; LD_LIBRARY_PATH: :/home/alexandre/Programmes/Python-3.6.4/\n",
      "2023-03-02 15:29:12.911740: I tensorflow/compiler/xla/stream_executor/cuda/cudart_stub.cc:29] Ignore above cudart dlerror if you do not have a GPU set up on your machine.\n",
      "2023-03-02 15:29:13.677172: W tensorflow/compiler/xla/stream_executor/platform/default/dso_loader.cc:64] Could not load dynamic library 'libnvinfer.so.7'; dlerror: libnvinfer.so.7: cannot open shared object file: No such file or directory; LD_LIBRARY_PATH: :/home/alexandre/Programmes/Python-3.6.4/\n",
      "2023-03-02 15:29:13.677447: W tensorflow/compiler/xla/stream_executor/platform/default/dso_loader.cc:64] Could not load dynamic library 'libnvinfer_plugin.so.7'; dlerror: libnvinfer_plugin.so.7: cannot open shared object file: No such file or directory; LD_LIBRARY_PATH: :/home/alexandre/Programmes/Python-3.6.4/\n",
      "2023-03-02 15:29:13.677452: W tensorflow/compiler/tf2tensorrt/utils/py_utils.cc:38] TF-TRT Warning: Cannot dlopen some TensorRT libraries. If you would like to use Nvidia GPU with TensorRT, please make sure the missing libraries mentioned above are installed properly.\n"
     ]
    }
   ],
   "source": [
    "import os\n",
    "from random import shuffle\n",
    "from string import ascii_lowercase, ascii_uppercase\n",
    "\n",
    "import numpy as np\n",
    "import matplotlib.pyplot as plt\n",
    "from sklearn.preprocessing import LabelBinarizer\n",
    "from tensorflow import keras\n",
    "from tensorflow.keras import layers"
   ]
  },
  {
   "cell_type": "markdown",
   "metadata": {},
   "source": [
    "## Définition des paramètres du notebook"
   ]
  },
  {
   "cell_type": "code",
   "execution_count": null,
   "metadata": {},
   "outputs": [],
   "source": [
    "NIST_PROCESSED_PATH = \"../../data/processed/NIST-dataset\"\n",
    "TRAIN_SET_PATH = os.path.join(NIST_PROCESSED_PATH, \"train\")\n",
    "TEST_SET_PATH = os.path.join(NIST_PROCESSED_PATH, \"test\")"
   ]
  },
  {
   "cell_type": "markdown",
   "metadata": {},
   "source": [
    "## Importation du dataset\n",
    "\n",
    "Dans cette section, nous allons charger le dataset afin d'obtenir un train_data_set, train_label_set, ainsi qu'un test_data_set et un test_label_set"
   ]
  },
  {
   "cell_type": "markdown",
   "metadata": {},
   "source": [
    "### Chargement du dataset depuis le disque"
   ]
  },
  {
   "cell_type": "markdown",
   "metadata": {},
   "source": [
    "Déclaration de la fonction qui va charger l'image en récupérant le label associé à celle-ci"
   ]
  },
  {
   "cell_type": "code",
   "execution_count": null,
   "metadata": {},
   "outputs": [],
   "source": [
    "def load_img_to_np_array(file_path):\n",
    "    full_name = os.path.basename(file_path)\n",
    "    file_name = os.path.splitext(full_name)[0]\n",
    "    label = file_name[0]\n",
    "\n",
    "    return label, plt.imread(file_path)"
   ]
  },
  {
   "cell_type": "markdown",
   "metadata": {},
   "source": [
    "Cette fonction vérifie si un fichier est bien un png."
   ]
  },
  {
   "cell_type": "code",
   "execution_count": null,
   "metadata": {},
   "outputs": [
    {
     "name": "stdout",
     "output_type": "stream",
     "text": [
      "AOO1.png est un png ? True\n",
      "AOO1.jpeg est un png ? False\n"
     ]
    }
   ],
   "source": [
    "def is_png(file_name):\n",
    "    extension = file_name.split(\".\")[1]\n",
    "    if extension == \"png\":\n",
    "        return True\n",
    "    return False\n",
    "\n",
    "file_name1 = \"AOO1.png\"\n",
    "file_name2 = \"AOO1.jpeg\"\n",
    "\n",
    "print(f\"{file_name1} est un png ? {is_png(file_name1)}\")\n",
    "print(f\"{file_name2} est un png ? {is_png(file_name2)}\")"
   ]
  },
  {
   "cell_type": "markdown",
   "metadata": {},
   "source": [
    "On récupère tous les fichiers .png dans un repertoire spécifié en paramètre (dir_path)\n"
   ]
  },
  {
   "cell_type": "code",
   "execution_count": null,
   "metadata": {},
   "outputs": [],
   "source": [
    "def select_png_from_dir(dir_path):\n",
    "    files_in_dir = []\n",
    "    with os.scandir(dir_path) as entries:\n",
    "        for entry in entries:\n",
    "            file_name = entry.name\n",
    "            if entry.is_file() and is_png(file_name):\n",
    "                file_path = os.path.join(dir_path, file_name)\n",
    "                files_in_dir.append(file_path)\n",
    "    return files_in_dir"
   ]
  },
  {
   "cell_type": "markdown",
   "metadata": {},
   "source": [
    "On récupère tous les fichiers en extension png dans les répertoires train et test"
   ]
  },
  {
   "cell_type": "code",
   "execution_count": null,
   "metadata": {},
   "outputs": [
    {
     "data": {
      "text/plain": "['../../data/processed/NIST-dataset/train/A000.png',\n '../../data/processed/NIST-dataset/train/a000.png',\n '../../data/processed/NIST-dataset/train/A001.png',\n '../../data/processed/NIST-dataset/train/a001.png',\n '../../data/processed/NIST-dataset/train/A002.png']"
     },
     "execution_count": 6,
     "metadata": {},
     "output_type": "execute_result"
    }
   ],
   "source": [
    "train_img_list = select_png_from_dir(TRAIN_SET_PATH)\n",
    "test_img_list = select_png_from_dir(TEST_SET_PATH)\n",
    "train_img_list[0:5]"
   ]
  },
  {
   "cell_type": "markdown",
   "metadata": {},
   "source": [
    "Cette fonction a pour but de créer un data_set sous forme [ (label, image array), ... ]"
   ]
  },
  {
   "cell_type": "code",
   "execution_count": null,
   "metadata": {},
   "outputs": [],
   "source": [
    "def load_data_set(data_img_list):\n",
    "    data_set = []\n",
    "\n",
    "    for img_path in data_img_list:\n",
    "        elem = load_img_to_np_array(img_path)\n",
    "        data_set.append(elem)\n",
    "\n",
    "    return data_set"
   ]
  },
  {
   "cell_type": "markdown",
   "metadata": {},
   "source": [
    "On créer le set d'entrainement et de test"
   ]
  },
  {
   "cell_type": "code",
   "execution_count": null,
   "metadata": {},
   "outputs": [
    {
     "data": {
      "text/plain": "('a',\n array([[1., 1., 1., ..., 1., 1., 1.],\n        [1., 1., 1., ..., 1., 1., 1.],\n        [1., 1., 1., ..., 1., 1., 1.],\n        ...,\n        [1., 1., 1., ..., 1., 1., 1.],\n        [1., 1., 1., ..., 1., 1., 1.],\n        [1., 1., 1., ..., 1., 1., 1.]], dtype=float32))"
     },
     "execution_count": 8,
     "metadata": {},
     "output_type": "execute_result"
    }
   ],
   "source": [
    "train_set = load_data_set(train_img_list)\n",
    "test_set = load_data_set(test_img_list)\n",
    "test_set[0]"
   ]
  },
  {
   "cell_type": "markdown",
   "metadata": {},
   "source": [
    "## Mélange des sets et codage des labels en chiffre"
   ]
  },
  {
   "cell_type": "markdown",
   "metadata": {},
   "source": [
    "On mélange les sets"
   ]
  },
  {
   "cell_type": "code",
   "execution_count": null,
   "metadata": {},
   "outputs": [],
   "source": [
    "shuffle(train_set)\n",
    "shuffle(test_set)"
   ]
  },
  {
   "cell_type": "markdown",
   "metadata": {},
   "source": [
    "On récupère les données et leurs labels dans des listes distinctes"
   ]
  },
  {
   "cell_type": "code",
   "execution_count": null,
   "metadata": {},
   "outputs": [
    {
     "name": "stdout",
     "output_type": "stream",
     "text": [
      "Q\n",
      "(41, 41)\n"
     ]
    }
   ],
   "source": [
    "y_raw_train, x_raw_train = list(zip(*train_set))\n",
    "y_raw_test, x_raw_test = list(zip(*test_set))\n",
    "print(y_raw_train[0])\n",
    "print(x_raw_train[0].shape)"
   ]
  },
  {
   "cell_type": "markdown",
   "metadata": {},
   "source": [
    "On récupère tous les labels possibles"
   ]
  },
  {
   "cell_type": "code",
   "execution_count": null,
   "metadata": {},
   "outputs": [
    {
     "name": "stdout",
     "output_type": "stream",
     "text": [
      "['a', 'b', 'c', 'd', 'e']\n"
     ]
    }
   ],
   "source": [
    "label_list = [char for char in ascii_lowercase + ascii_uppercase]\n",
    "print(label_list[0:5])"
   ]
  },
  {
   "cell_type": "markdown",
   "source": [
    "On définit l'encoder à utiliser"
   ],
   "metadata": {
    "collapsed": false
   }
  },
  {
   "cell_type": "code",
   "execution_count": 34,
   "outputs": [
    {
     "data": {
      "text/plain": "LabelBinarizer()",
      "text/html": "<style>#sk-container-id-2 {color: black;background-color: white;}#sk-container-id-2 pre{padding: 0;}#sk-container-id-2 div.sk-toggleable {background-color: white;}#sk-container-id-2 label.sk-toggleable__label {cursor: pointer;display: block;width: 100%;margin-bottom: 0;padding: 0.3em;box-sizing: border-box;text-align: center;}#sk-container-id-2 label.sk-toggleable__label-arrow:before {content: \"▸\";float: left;margin-right: 0.25em;color: #696969;}#sk-container-id-2 label.sk-toggleable__label-arrow:hover:before {color: black;}#sk-container-id-2 div.sk-estimator:hover label.sk-toggleable__label-arrow:before {color: black;}#sk-container-id-2 div.sk-toggleable__content {max-height: 0;max-width: 0;overflow: hidden;text-align: left;background-color: #f0f8ff;}#sk-container-id-2 div.sk-toggleable__content pre {margin: 0.2em;color: black;border-radius: 0.25em;background-color: #f0f8ff;}#sk-container-id-2 input.sk-toggleable__control:checked~div.sk-toggleable__content {max-height: 200px;max-width: 100%;overflow: auto;}#sk-container-id-2 input.sk-toggleable__control:checked~label.sk-toggleable__label-arrow:before {content: \"▾\";}#sk-container-id-2 div.sk-estimator input.sk-toggleable__control:checked~label.sk-toggleable__label {background-color: #d4ebff;}#sk-container-id-2 div.sk-label input.sk-toggleable__control:checked~label.sk-toggleable__label {background-color: #d4ebff;}#sk-container-id-2 input.sk-hidden--visually {border: 0;clip: rect(1px 1px 1px 1px);clip: rect(1px, 1px, 1px, 1px);height: 1px;margin: -1px;overflow: hidden;padding: 0;position: absolute;width: 1px;}#sk-container-id-2 div.sk-estimator {font-family: monospace;background-color: #f0f8ff;border: 1px dotted black;border-radius: 0.25em;box-sizing: border-box;margin-bottom: 0.5em;}#sk-container-id-2 div.sk-estimator:hover {background-color: #d4ebff;}#sk-container-id-2 div.sk-parallel-item::after {content: \"\";width: 100%;border-bottom: 1px solid gray;flex-grow: 1;}#sk-container-id-2 div.sk-label:hover label.sk-toggleable__label {background-color: #d4ebff;}#sk-container-id-2 div.sk-serial::before {content: \"\";position: absolute;border-left: 1px solid gray;box-sizing: border-box;top: 0;bottom: 0;left: 50%;z-index: 0;}#sk-container-id-2 div.sk-serial {display: flex;flex-direction: column;align-items: center;background-color: white;padding-right: 0.2em;padding-left: 0.2em;position: relative;}#sk-container-id-2 div.sk-item {position: relative;z-index: 1;}#sk-container-id-2 div.sk-parallel {display: flex;align-items: stretch;justify-content: center;background-color: white;position: relative;}#sk-container-id-2 div.sk-item::before, #sk-container-id-2 div.sk-parallel-item::before {content: \"\";position: absolute;border-left: 1px solid gray;box-sizing: border-box;top: 0;bottom: 0;left: 50%;z-index: -1;}#sk-container-id-2 div.sk-parallel-item {display: flex;flex-direction: column;z-index: 1;position: relative;background-color: white;}#sk-container-id-2 div.sk-parallel-item:first-child::after {align-self: flex-end;width: 50%;}#sk-container-id-2 div.sk-parallel-item:last-child::after {align-self: flex-start;width: 50%;}#sk-container-id-2 div.sk-parallel-item:only-child::after {width: 0;}#sk-container-id-2 div.sk-dashed-wrapped {border: 1px dashed gray;margin: 0 0.4em 0.5em 0.4em;box-sizing: border-box;padding-bottom: 0.4em;background-color: white;}#sk-container-id-2 div.sk-label label {font-family: monospace;font-weight: bold;display: inline-block;line-height: 1.2em;}#sk-container-id-2 div.sk-label-container {text-align: center;}#sk-container-id-2 div.sk-container {/* jupyter's `normalize.less` sets `[hidden] { display: none; }` but bootstrap.min.css set `[hidden] { display: none !important; }` so we also need the `!important` here to be able to override the default hidden behavior on the sphinx rendered scikit-learn.org. See: https://github.com/scikit-learn/scikit-learn/issues/21755 */display: inline-block !important;position: relative;}#sk-container-id-2 div.sk-text-repr-fallback {display: none;}</style><div id=\"sk-container-id-2\" class=\"sk-top-container\"><div class=\"sk-text-repr-fallback\"><pre>LabelBinarizer()</pre><b>In a Jupyter environment, please rerun this cell to show the HTML representation or trust the notebook. <br />On GitHub, the HTML representation is unable to render, please try loading this page with nbviewer.org.</b></div><div class=\"sk-container\" hidden><div class=\"sk-item\"><div class=\"sk-estimator sk-toggleable\"><input class=\"sk-toggleable__control sk-hidden--visually\" id=\"sk-estimator-id-2\" type=\"checkbox\" checked><label for=\"sk-estimator-id-2\" class=\"sk-toggleable__label sk-toggleable__label-arrow\">LabelBinarizer</label><div class=\"sk-toggleable__content\"><pre>LabelBinarizer()</pre></div></div></div></div></div>"
     },
     "execution_count": 34,
     "metadata": {},
     "output_type": "execute_result"
    }
   ],
   "source": [
    "encoder = LabelBinarizer()\n",
    "encoder.fit(label_list)"
   ],
   "metadata": {
    "collapsed": false
   }
  },
  {
   "cell_type": "markdown",
   "source": [
    "On encode nos données au format OneShot"
   ],
   "metadata": {
    "collapsed": false
   }
  },
  {
   "cell_type": "code",
   "execution_count": 36,
   "metadata": {},
   "outputs": [
    {
     "data": {
      "text/plain": "(8454, 52)"
     },
     "execution_count": 36,
     "metadata": {},
     "output_type": "execute_result"
    }
   ],
   "source": [
    "y_train = encoder.transform(y_raw_train)\n",
    "y_test = encoder.transform(y_raw_test)\n",
    "y_train.shape"
   ]
  },
  {
   "cell_type": "code",
   "execution_count": 37,
   "outputs": [
    {
     "data": {
      "text/plain": "(8454, 41, 41)"
     },
     "execution_count": 37,
     "metadata": {},
     "output_type": "execute_result"
    }
   ],
   "source": [
    "x_train = np.array(x_raw_train)\n",
    "x_test = np.array(x_raw_test)\n",
    "x_train.shape"
   ],
   "metadata": {
    "collapsed": false
   }
  },
  {
   "cell_type": "markdown",
   "source": [
    "## Création du modèle de classification"
   ],
   "metadata": {
    "collapsed": false
   }
  },
  {
   "cell_type": "code",
   "execution_count": 38,
   "outputs": [
    {
     "name": "stdout",
     "output_type": "stream",
     "text": [
      "Model: \"sequential_2\"\n",
      "_________________________________________________________________\n",
      " Layer (type)                Output Shape              Param #   \n",
      "=================================================================\n",
      " flatten_2 (Flatten)         (None, 1681)              0         \n",
      "                                                                 \n",
      " dense_8 (Dense)             (None, 100)               168200    \n",
      "                                                                 \n",
      " dense_9 (Dense)             (None, 100)               10100     \n",
      "                                                                 \n",
      " dense_10 (Dense)            (None, 100)               10100     \n",
      "                                                                 \n",
      " dense_11 (Dense)            (None, 52)                5252      \n",
      "                                                                 \n",
      "=================================================================\n",
      "Total params: 193,652\n",
      "Trainable params: 193,652\n",
      "Non-trainable params: 0\n",
      "_________________________________________________________________\n"
     ]
    }
   ],
   "source": [
    "model = keras.Sequential([\n",
    "    keras.Input(shape=(41,41)),\n",
    "    layers.Flatten(input_shape=(41, 41)),\n",
    "    layers.Dense(100, activation=\"relu\"),\n",
    "    layers.Dense(100, activation=\"relu\"),\n",
    "    layers.Dense(100, activation=\"relu\"),\n",
    "    layers.Dense(52, activation=\"softmax\"),\n",
    "])\n",
    "\n",
    "model.compile(optimizer=\"Adam\", loss=\"mse\", metrics=[\"acc\", \"mse\"])\n",
    "model.summary()"
   ],
   "metadata": {
    "collapsed": false
   }
  },
  {
   "cell_type": "markdown",
   "source": [
    "## Entrainement du modèle"
   ],
   "metadata": {
    "collapsed": false
   }
  },
  {
   "cell_type": "code",
   "execution_count": 57,
   "outputs": [
    {
     "name": "stdout",
     "output_type": "stream",
     "text": [
      "Epoch 1/20\n",
      "265/265 [==============================] - 1s 2ms/step - loss: 0.0043 - acc: 0.8506 - mse: 0.0043\n",
      "Epoch 2/20\n",
      "265/265 [==============================] - 1s 2ms/step - loss: 0.0039 - acc: 0.8652 - mse: 0.0039\n",
      "Epoch 3/20\n",
      "265/265 [==============================] - 1s 2ms/step - loss: 0.0039 - acc: 0.8650 - mse: 0.0039\n",
      "Epoch 4/20\n",
      "265/265 [==============================] - 1s 2ms/step - loss: 0.0040 - acc: 0.8620 - mse: 0.0040\n",
      "Epoch 5/20\n",
      "265/265 [==============================] - 1s 2ms/step - loss: 0.0041 - acc: 0.8575 - mse: 0.0041\n",
      "Epoch 6/20\n",
      "265/265 [==============================] - 1s 2ms/step - loss: 0.0038 - acc: 0.8665 - mse: 0.0038\n",
      "Epoch 7/20\n",
      "265/265 [==============================] - 1s 2ms/step - loss: 0.0043 - acc: 0.8508 - mse: 0.0043\n",
      "Epoch 8/20\n",
      "265/265 [==============================] - 1s 2ms/step - loss: 0.0036 - acc: 0.8777 - mse: 0.0036\n",
      "Epoch 9/20\n",
      "265/265 [==============================] - 1s 2ms/step - loss: 0.0039 - acc: 0.8649 - mse: 0.0039\n",
      "Epoch 10/20\n",
      "265/265 [==============================] - 1s 2ms/step - loss: 0.0041 - acc: 0.8599 - mse: 0.0041\n",
      "Epoch 11/20\n",
      "265/265 [==============================] - 1s 2ms/step - loss: 0.0037 - acc: 0.8731 - mse: 0.0037\n",
      "Epoch 12/20\n",
      "265/265 [==============================] - 1s 2ms/step - loss: 0.0037 - acc: 0.8718 - mse: 0.0037\n",
      "Epoch 13/20\n",
      "265/265 [==============================] - 1s 2ms/step - loss: 0.0038 - acc: 0.8685 - mse: 0.0038\n",
      "Epoch 14/20\n",
      "265/265 [==============================] - 1s 2ms/step - loss: 0.0037 - acc: 0.8736 - mse: 0.0037\n",
      "Epoch 15/20\n",
      "265/265 [==============================] - 1s 2ms/step - loss: 0.0039 - acc: 0.8685 - mse: 0.0039\n",
      "Epoch 16/20\n",
      "265/265 [==============================] - 1s 2ms/step - loss: 0.0036 - acc: 0.8744 - mse: 0.0036\n",
      "Epoch 17/20\n",
      "265/265 [==============================] - 1s 2ms/step - loss: 0.0036 - acc: 0.8772 - mse: 0.0036\n",
      "Epoch 18/20\n",
      "265/265 [==============================] - 1s 2ms/step - loss: 0.0038 - acc: 0.8686 - mse: 0.0038\n",
      "Epoch 19/20\n",
      "265/265 [==============================] - 1s 2ms/step - loss: 0.0038 - acc: 0.8698 - mse: 0.0038\n",
      "Epoch 20/20\n",
      "265/265 [==============================] - 1s 2ms/step - loss: 0.0036 - acc: 0.8772 - mse: 0.0036\n"
     ]
    },
    {
     "data": {
      "text/plain": "<keras.callbacks.History at 0x7f72d0dc94e0>"
     },
     "execution_count": 57,
     "metadata": {},
     "output_type": "execute_result"
    }
   ],
   "source": [
    "model.fit(x_train, y_train, epochs=20)"
   ],
   "metadata": {
    "collapsed": false
   }
  },
  {
   "cell_type": "markdown",
   "source": [
    "## Test du modèle sur le jeu de test"
   ],
   "metadata": {
    "collapsed": false
   }
  },
  {
   "cell_type": "code",
   "execution_count": 58,
   "outputs": [
    {
     "name": "stdout",
     "output_type": "stream",
     "text": [
      "114/114 - 0s - loss: 0.0108 - acc: 0.6412 - mse: 0.0108 - 138ms/epoch - 1ms/step\n"
     ]
    },
    {
     "data": {
      "text/plain": "[0.010805310681462288, 0.6411813497543335, 0.010805310681462288]"
     },
     "execution_count": 58,
     "metadata": {},
     "output_type": "execute_result"
    }
   ],
   "source": [
    "model.evaluate(x_test, y_test, verbose=2)"
   ],
   "metadata": {
    "collapsed": false
   }
  }
 ],
 "metadata": {
  "kernelspec": {
   "display_name": "Python 3 (ipykernel)",
   "language": "python",
   "name": "python3"
  },
  "language_info": {
   "codemirror_mode": {
    "name": "ipython",
    "version": 3
   },
   "file_extension": ".py",
   "mimetype": "text/x-python",
   "name": "python",
   "nbconvert_exporter": "python",
   "pygments_lexer": "ipython3",
   "version": "3.10.6"
  }
 },
 "nbformat": 4,
 "nbformat_minor": 1
}
