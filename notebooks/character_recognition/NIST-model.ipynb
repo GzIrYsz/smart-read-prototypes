{
 "cells": [
  {
   "cell_type": "markdown",
   "metadata": {},
   "source": [
    "# Construction du modèle de reconnaissance de caractère basé sur le dataset MIST\n",
    "\n",
    "Dans ce notebook sera présenté la création du modèle qui permettra de **classifier** les lettres de l'alphabet de a-z et A-Z.\n",
    "\n",
    "Pour ce faire nous allons utiliser le dataset d'images prétraités créés par le notebook [NIST-preprocessing](/notebooks/notebooks/character_recognition/NIST-preprocessing.ipynb)\n",
    "\n",
    "Pour exécuter ce notebook, veillez à ce que le jeu de données soit bien sous la forme suivante.\n",
    "- data\n",
    "    - processed\n",
    "         - NIST-dataset\n",
    "            - train\n",
    "                - a000001.png\n",
    "                - a000002.png\n",
    "                ...\n",
    "                ...\n",
    "                - a00000n.png\n",
    "            - test_set\n",
    "                - a000001.png\n",
    "                - a000002.png\n",
    "                ...\n",
    "                ...\n",
    "                - a00000n.png\n"
   ]
  },
  {
   "cell_type": "markdown",
   "metadata": {},
   "source": [
    "## Importation des dépendances"
   ]
  },
  {
   "cell_type": "code",
   "execution_count": 36,
   "metadata": {},
   "outputs": [],
   "source": [
    "import os\n",
    "from random import shuffle\n",
    "from string import ascii_lowercase, ascii_uppercase\n",
    "\n",
    "import numpy as np\n",
    "import matplotlib.pyplot as plt\n",
    "from sklearn.preprocessing import LabelBinarizer\n",
    "from tensorflow import keras\n",
    "from tensorflow.keras import layers"
   ]
  },
  {
   "cell_type": "code",
   "execution_count": 37,
   "outputs": [
    {
     "name": "stdout",
     "output_type": "stream",
     "text": [
      "Num of GPUs Available:  0\n"
     ]
    },
    {
     "data": {
      "text/plain": "[name: \"/device:CPU:0\"\n device_type: \"CPU\"\n memory_limit: 268435456\n locality {\n }\n incarnation: 13510354965348025898\n xla_global_id: -1]"
     },
     "execution_count": 37,
     "metadata": {},
     "output_type": "execute_result"
    }
   ],
   "source": [
    "import tensorflow as tf\n",
    "from tensorflow.python.client import device_lib\n",
    "\n",
    "print(\"Num of GPUs Available: \", len(tf.config.list_physical_devices('GPU')))\n",
    "device_lib.list_local_devices()"
   ],
   "metadata": {
    "collapsed": false
   }
  },
  {
   "cell_type": "code",
   "execution_count": 38,
   "outputs": [
    {
     "data": {
      "text/plain": "False"
     },
     "execution_count": 38,
     "metadata": {},
     "output_type": "execute_result"
    }
   ],
   "source": [
    "tf.test.is_built_with_cuda()\n",
    "tf.test.is_gpu_available(cuda_only=False, min_cuda_compute_capability=None)"
   ],
   "metadata": {
    "collapsed": false
   }
  },
  {
   "cell_type": "markdown",
   "metadata": {},
   "source": [
    "## Définition des paramètres du notebook"
   ]
  },
  {
   "cell_type": "code",
   "execution_count": 39,
   "metadata": {},
   "outputs": [],
   "source": [
    "NIST_PROCESSED_PATH = \"../../data/processed/NIST-dataset\"\n",
    "TRAIN_SET_PATH = os.path.join(NIST_PROCESSED_PATH, \"train\")\n",
    "TEST_SET_PATH = os.path.join(NIST_PROCESSED_PATH, \"test\")"
   ]
  },
  {
   "cell_type": "markdown",
   "metadata": {},
   "source": [
    "## Importation du dataset\n",
    "\n",
    "Dans cette section, nous allons charger le dataset afin d'obtenir un train_data_set, train_label_set, ainsi qu'un test_data_set et un test_label_set"
   ]
  },
  {
   "cell_type": "markdown",
   "metadata": {},
   "source": [
    "### Chargement du dataset depuis le disque"
   ]
  },
  {
   "cell_type": "markdown",
   "metadata": {},
   "source": [
    "Déclaration de la fonction qui va charger l'image en récupérant le label associé à celle-ci"
   ]
  },
  {
   "cell_type": "code",
   "execution_count": 40,
   "metadata": {},
   "outputs": [],
   "source": [
    "def load_img_to_np_array(file_path):\n",
    "    full_name = os.path.basename(file_path)\n",
    "    file_name = os.path.splitext(full_name)[0]\n",
    "    label = file_name[0]\n",
    "\n",
    "    return label, plt.imread(file_path)"
   ]
  },
  {
   "cell_type": "markdown",
   "metadata": {},
   "source": [
    "Cette fonction vérifie si un fichier est bien un png."
   ]
  },
  {
   "cell_type": "code",
   "execution_count": 41,
   "metadata": {},
   "outputs": [
    {
     "name": "stdout",
     "output_type": "stream",
     "text": [
      "AOO1.png est un png ? True\n",
      "AOO1.jpeg est un png ? False\n"
     ]
    }
   ],
   "source": [
    "def is_png(file_name):\n",
    "    extension = file_name.split(\".\")[1]\n",
    "    if extension == \"png\":\n",
    "        return True\n",
    "    return False\n",
    "\n",
    "file_name1 = \"AOO1.png\"\n",
    "file_name2 = \"AOO1.jpeg\"\n",
    "\n",
    "print(f\"{file_name1} est un png ? {is_png(file_name1)}\")\n",
    "print(f\"{file_name2} est un png ? {is_png(file_name2)}\")"
   ]
  },
  {
   "cell_type": "markdown",
   "metadata": {},
   "source": [
    "On récupère tous les fichiers .png dans un repertoire spécifié en paramètre (dir_path)\n"
   ]
  },
  {
   "cell_type": "code",
   "execution_count": 42,
   "metadata": {},
   "outputs": [],
   "source": [
    "def select_png_from_dir(dir_path):\n",
    "    files_in_dir = []\n",
    "    with os.scandir(dir_path) as entries:\n",
    "        for entry in entries:\n",
    "            file_name = entry.name\n",
    "            if entry.is_file() and is_png(file_name):\n",
    "                file_path = os.path.join(dir_path, file_name)\n",
    "                files_in_dir.append(file_path)\n",
    "    return files_in_dir"
   ]
  },
  {
   "cell_type": "markdown",
   "metadata": {},
   "source": [
    "On récupère tous les fichiers en extension png dans les répertoires train et test"
   ]
  },
  {
   "cell_type": "code",
   "execution_count": 43,
   "metadata": {},
   "outputs": [
    {
     "data": {
      "text/plain": "['../../data/processed/NIST-dataset\\\\train\\\\a0000.png',\n '../../data/processed/NIST-dataset\\\\train\\\\a0001.png',\n '../../data/processed/NIST-dataset\\\\train\\\\A0002.png',\n '../../data/processed/NIST-dataset\\\\train\\\\A0004.png',\n '../../data/processed/NIST-dataset\\\\train\\\\A0006.png']"
     },
     "execution_count": 43,
     "metadata": {},
     "output_type": "execute_result"
    }
   ],
   "source": [
    "train_img_list = select_png_from_dir(TRAIN_SET_PATH)\n",
    "test_img_list = select_png_from_dir(TEST_SET_PATH)\n",
    "train_img_list[0:5]"
   ]
  },
  {
   "cell_type": "markdown",
   "metadata": {},
   "source": [
    "Cette fonction a pour but de créer un data_set sous forme [ (label, image array), ... ]"
   ]
  },
  {
   "cell_type": "code",
   "execution_count": 44,
   "metadata": {},
   "outputs": [],
   "source": [
    "def load_data_set(data_img_list):\n",
    "    data_set = []\n",
    "\n",
    "    for img_path in data_img_list:\n",
    "        elem = load_img_to_np_array(img_path)\n",
    "        data_set.append(elem)\n",
    "\n",
    "    return data_set"
   ]
  },
  {
   "cell_type": "markdown",
   "metadata": {},
   "source": [
    "On créer le set d'entrainement et de test"
   ]
  },
  {
   "cell_type": "code",
   "execution_count": 45,
   "metadata": {},
   "outputs": [
    {
     "data": {
      "text/plain": "('A',\n array([[0.99607843, 0.99607843, 0.99607843, ..., 0.99607843, 0.99607843,\n         0.99607843],\n        [0.99607843, 0.99607843, 0.99607843, ..., 0.99607843, 0.99607843,\n         0.99607843],\n        [0.99607843, 0.99607843, 0.99607843, ..., 0.99607843, 0.99607843,\n         0.99607843],\n        ...,\n        [0.99607843, 0.99607843, 0.99607843, ..., 0.99607843, 0.99607843,\n         0.99607843],\n        [0.99607843, 0.99607843, 0.99607843, ..., 0.99607843, 0.99607843,\n         0.99607843],\n        [0.99607843, 0.99607843, 0.99607843, ..., 0.99607843, 0.99607843,\n         0.99607843]], dtype=float32))"
     },
     "execution_count": 45,
     "metadata": {},
     "output_type": "execute_result"
    }
   ],
   "source": [
    "train_set = load_data_set(train_img_list)\n",
    "test_set = load_data_set(test_img_list)\n",
    "test_set[0]"
   ]
  },
  {
   "cell_type": "markdown",
   "metadata": {},
   "source": [
    "## Mélange des sets et codage des labels en chiffre"
   ]
  },
  {
   "cell_type": "markdown",
   "metadata": {},
   "source": [
    "On mélange les sets"
   ]
  },
  {
   "cell_type": "code",
   "execution_count": 46,
   "metadata": {},
   "outputs": [],
   "source": [
    "shuffle(train_set)\n",
    "shuffle(test_set)"
   ]
  },
  {
   "cell_type": "markdown",
   "metadata": {},
   "source": [
    "On récupère les données et leurs labels dans des listes distinctes"
   ]
  },
  {
   "cell_type": "code",
   "execution_count": 47,
   "metadata": {},
   "outputs": [
    {
     "name": "stdout",
     "output_type": "stream",
     "text": [
      "A\n",
      "(41, 41)\n"
     ]
    }
   ],
   "source": [
    "y_raw_train, x_raw_train = list(zip(*train_set))\n",
    "y_raw_test, x_raw_test = list(zip(*test_set))\n",
    "print(y_raw_train[0])\n",
    "print(x_raw_train[0].shape)"
   ]
  },
  {
   "cell_type": "markdown",
   "metadata": {},
   "source": [
    "On récupère tous les labels possibles"
   ]
  },
  {
   "cell_type": "code",
   "execution_count": 48,
   "metadata": {},
   "outputs": [
    {
     "name": "stdout",
     "output_type": "stream",
     "text": [
      "['a', 'b', 'c', 'd', 'e']\n"
     ]
    }
   ],
   "source": [
    "label_list = [char for char in ascii_lowercase + ascii_uppercase]\n",
    "print(label_list[0:5])"
   ]
  },
  {
   "cell_type": "markdown",
   "source": [
    "On définit l'encoder à utiliser"
   ],
   "metadata": {
    "collapsed": false
   }
  },
  {
   "cell_type": "code",
   "execution_count": 49,
   "outputs": [
    {
     "data": {
      "text/plain": "LabelBinarizer()",
      "text/html": "<style>#sk-container-id-2 {color: black;background-color: white;}#sk-container-id-2 pre{padding: 0;}#sk-container-id-2 div.sk-toggleable {background-color: white;}#sk-container-id-2 label.sk-toggleable__label {cursor: pointer;display: block;width: 100%;margin-bottom: 0;padding: 0.3em;box-sizing: border-box;text-align: center;}#sk-container-id-2 label.sk-toggleable__label-arrow:before {content: \"▸\";float: left;margin-right: 0.25em;color: #696969;}#sk-container-id-2 label.sk-toggleable__label-arrow:hover:before {color: black;}#sk-container-id-2 div.sk-estimator:hover label.sk-toggleable__label-arrow:before {color: black;}#sk-container-id-2 div.sk-toggleable__content {max-height: 0;max-width: 0;overflow: hidden;text-align: left;background-color: #f0f8ff;}#sk-container-id-2 div.sk-toggleable__content pre {margin: 0.2em;color: black;border-radius: 0.25em;background-color: #f0f8ff;}#sk-container-id-2 input.sk-toggleable__control:checked~div.sk-toggleable__content {max-height: 200px;max-width: 100%;overflow: auto;}#sk-container-id-2 input.sk-toggleable__control:checked~label.sk-toggleable__label-arrow:before {content: \"▾\";}#sk-container-id-2 div.sk-estimator input.sk-toggleable__control:checked~label.sk-toggleable__label {background-color: #d4ebff;}#sk-container-id-2 div.sk-label input.sk-toggleable__control:checked~label.sk-toggleable__label {background-color: #d4ebff;}#sk-container-id-2 input.sk-hidden--visually {border: 0;clip: rect(1px 1px 1px 1px);clip: rect(1px, 1px, 1px, 1px);height: 1px;margin: -1px;overflow: hidden;padding: 0;position: absolute;width: 1px;}#sk-container-id-2 div.sk-estimator {font-family: monospace;background-color: #f0f8ff;border: 1px dotted black;border-radius: 0.25em;box-sizing: border-box;margin-bottom: 0.5em;}#sk-container-id-2 div.sk-estimator:hover {background-color: #d4ebff;}#sk-container-id-2 div.sk-parallel-item::after {content: \"\";width: 100%;border-bottom: 1px solid gray;flex-grow: 1;}#sk-container-id-2 div.sk-label:hover label.sk-toggleable__label {background-color: #d4ebff;}#sk-container-id-2 div.sk-serial::before {content: \"\";position: absolute;border-left: 1px solid gray;box-sizing: border-box;top: 0;bottom: 0;left: 50%;z-index: 0;}#sk-container-id-2 div.sk-serial {display: flex;flex-direction: column;align-items: center;background-color: white;padding-right: 0.2em;padding-left: 0.2em;position: relative;}#sk-container-id-2 div.sk-item {position: relative;z-index: 1;}#sk-container-id-2 div.sk-parallel {display: flex;align-items: stretch;justify-content: center;background-color: white;position: relative;}#sk-container-id-2 div.sk-item::before, #sk-container-id-2 div.sk-parallel-item::before {content: \"\";position: absolute;border-left: 1px solid gray;box-sizing: border-box;top: 0;bottom: 0;left: 50%;z-index: -1;}#sk-container-id-2 div.sk-parallel-item {display: flex;flex-direction: column;z-index: 1;position: relative;background-color: white;}#sk-container-id-2 div.sk-parallel-item:first-child::after {align-self: flex-end;width: 50%;}#sk-container-id-2 div.sk-parallel-item:last-child::after {align-self: flex-start;width: 50%;}#sk-container-id-2 div.sk-parallel-item:only-child::after {width: 0;}#sk-container-id-2 div.sk-dashed-wrapped {border: 1px dashed gray;margin: 0 0.4em 0.5em 0.4em;box-sizing: border-box;padding-bottom: 0.4em;background-color: white;}#sk-container-id-2 div.sk-label label {font-family: monospace;font-weight: bold;display: inline-block;line-height: 1.2em;}#sk-container-id-2 div.sk-label-container {text-align: center;}#sk-container-id-2 div.sk-container {/* jupyter's `normalize.less` sets `[hidden] { display: none; }` but bootstrap.min.css set `[hidden] { display: none !important; }` so we also need the `!important` here to be able to override the default hidden behavior on the sphinx rendered scikit-learn.org. See: https://github.com/scikit-learn/scikit-learn/issues/21755 */display: inline-block !important;position: relative;}#sk-container-id-2 div.sk-text-repr-fallback {display: none;}</style><div id=\"sk-container-id-2\" class=\"sk-top-container\"><div class=\"sk-text-repr-fallback\"><pre>LabelBinarizer()</pre><b>In a Jupyter environment, please rerun this cell to show the HTML representation or trust the notebook. <br />On GitHub, the HTML representation is unable to render, please try loading this page with nbviewer.org.</b></div><div class=\"sk-container\" hidden><div class=\"sk-item\"><div class=\"sk-estimator sk-toggleable\"><input class=\"sk-toggleable__control sk-hidden--visually\" id=\"sk-estimator-id-2\" type=\"checkbox\" checked><label for=\"sk-estimator-id-2\" class=\"sk-toggleable__label sk-toggleable__label-arrow\">LabelBinarizer</label><div class=\"sk-toggleable__content\"><pre>LabelBinarizer()</pre></div></div></div></div></div>"
     },
     "execution_count": 49,
     "metadata": {},
     "output_type": "execute_result"
    }
   ],
   "source": [
    "encoder = LabelBinarizer()\n",
    "encoder.fit(label_list)"
   ],
   "metadata": {
    "collapsed": false
   }
  },
  {
   "cell_type": "markdown",
   "source": [
    "On encode nos données au format OneShot"
   ],
   "metadata": {
    "collapsed": false
   }
  },
  {
   "cell_type": "code",
   "execution_count": 50,
   "metadata": {},
   "outputs": [
    {
     "data": {
      "text/plain": "(233868, 52)"
     },
     "execution_count": 50,
     "metadata": {},
     "output_type": "execute_result"
    }
   ],
   "source": [
    "y_train = encoder.transform(y_raw_train)\n",
    "y_test = encoder.transform(y_raw_test)\n",
    "y_train.shape"
   ]
  },
  {
   "cell_type": "code",
   "execution_count": 51,
   "outputs": [
    {
     "data": {
      "text/plain": "(233868, 41, 41)"
     },
     "execution_count": 51,
     "metadata": {},
     "output_type": "execute_result"
    }
   ],
   "source": [
    "x_train = np.array(x_raw_train)\n",
    "x_test = np.array(x_raw_test)\n",
    "x_train.shape"
   ],
   "metadata": {
    "collapsed": false
   }
  },
  {
   "cell_type": "markdown",
   "source": [
    "## Création du modèle de classification"
   ],
   "metadata": {
    "collapsed": false
   }
  },
  {
   "cell_type": "code",
   "execution_count": 58,
   "outputs": [
    {
     "name": "stdout",
     "output_type": "stream",
     "text": [
      "Model: \"sequential_3\"\n",
      "_________________________________________________________________\n",
      " Layer (type)                Output Shape              Param #   \n",
      "=================================================================\n",
      " flatten_3 (Flatten)         (None, 1681)              0         \n",
      "                                                                 \n",
      " dense_17 (Dense)            (None, 100)               168200    \n",
      "                                                                 \n",
      " dense_18 (Dense)            (None, 100)               10100     \n",
      "                                                                 \n",
      " dense_19 (Dense)            (None, 100)               10100     \n",
      "                                                                 \n",
      " dense_20 (Dense)            (None, 100)               10100     \n",
      "                                                                 \n",
      " dense_21 (Dense)            (None, 52)                5252      \n",
      "                                                                 \n",
      "=================================================================\n",
      "Total params: 203,752\n",
      "Trainable params: 203,752\n",
      "Non-trainable params: 0\n",
      "_________________________________________________________________\n"
     ]
    }
   ],
   "source": [
    "model = keras.Sequential([\n",
    "    keras.Input(shape=(41,41)),\n",
    "    layers.Flatten(input_shape=(41, 41)),\n",
    "    layers.Dense(100, activation=\"relu\"),\n",
    "    layers.Dense(100, activation=\"relu\"),\n",
    "    layers.Dense(100, activation=\"relu\"),\n",
    "    layers.Dense(100, activation=\"relu\"),\n",
    "    layers.Dense(52, activation=\"softmax\"),\n",
    "])\n",
    "\n",
    "model.compile(optimizer=\"sgd\", loss=\"categorical_crossentropy\", metrics=[\"acc\"])\n",
    "model.summary()"
   ],
   "metadata": {
    "collapsed": false
   }
  },
  {
   "cell_type": "markdown",
   "source": [
    "## Entrainement du modèle"
   ],
   "metadata": {
    "collapsed": false
   }
  },
  {
   "cell_type": "code",
   "execution_count": 59,
   "outputs": [
    {
     "name": "stdout",
     "output_type": "stream",
     "text": [
      "Epoch 1/20\n",
      "7309/7309 [==============================] - 14s 2ms/step - loss: 2.0038 - acc: 0.4603\n",
      "Epoch 2/20\n",
      "7309/7309 [==============================] - 14s 2ms/step - loss: 1.2742 - acc: 0.6050\n",
      "Epoch 3/20\n",
      "7309/7309 [==============================] - 15s 2ms/step - loss: 1.0987 - acc: 0.6397\n",
      "Epoch 4/20\n",
      "7309/7309 [==============================] - 14s 2ms/step - loss: 1.0105 - acc: 0.6571\n",
      "Epoch 5/20\n",
      "7309/7309 [==============================] - 14s 2ms/step - loss: 0.9533 - acc: 0.6693\n",
      "Epoch 6/20\n",
      "7309/7309 [==============================] - 15s 2ms/step - loss: 0.9142 - acc: 0.6782\n",
      "Epoch 7/20\n",
      "7309/7309 [==============================] - 14s 2ms/step - loss: 0.8830 - acc: 0.6842\n",
      "Epoch 8/20\n",
      "7309/7309 [==============================] - 14s 2ms/step - loss: 0.8592 - acc: 0.6894\n",
      "Epoch 9/20\n",
      "7309/7309 [==============================] - 14s 2ms/step - loss: 0.8409 - acc: 0.6921\n",
      "Epoch 10/20\n",
      "7309/7309 [==============================] - 14s 2ms/step - loss: 0.8227 - acc: 0.6963\n",
      "Epoch 11/20\n",
      "7309/7309 [==============================] - 14s 2ms/step - loss: 0.8088 - acc: 0.6989\n",
      "Epoch 12/20\n",
      "7309/7309 [==============================] - 15s 2ms/step - loss: 0.7961 - acc: 0.7019\n",
      "Epoch 13/20\n",
      "7309/7309 [==============================] - 13s 2ms/step - loss: 0.7861 - acc: 0.7032\n",
      "Epoch 14/20\n",
      "7309/7309 [==============================] - 14s 2ms/step - loss: 0.7756 - acc: 0.7062\n",
      "Epoch 15/20\n",
      "7309/7309 [==============================] - 13s 2ms/step - loss: 0.7675 - acc: 0.7086\n",
      "Epoch 16/20\n",
      "7309/7309 [==============================] - 13s 2ms/step - loss: 0.7588 - acc: 0.7095\n",
      "Epoch 17/20\n",
      "7309/7309 [==============================] - 14s 2ms/step - loss: 0.7513 - acc: 0.7117\n",
      "Epoch 18/20\n",
      "7309/7309 [==============================] - 14s 2ms/step - loss: 0.7456 - acc: 0.7129\n",
      "Epoch 19/20\n",
      "7309/7309 [==============================] - 14s 2ms/step - loss: 0.7389 - acc: 0.7148\n",
      "Epoch 20/20\n",
      "7309/7309 [==============================] - 14s 2ms/step - loss: 0.7335 - acc: 0.7152\n"
     ]
    },
    {
     "data": {
      "text/plain": "<keras.callbacks.History at 0x247eec40ed0>"
     },
     "execution_count": 59,
     "metadata": {},
     "output_type": "execute_result"
    }
   ],
   "source": [
    "model.fit(x_train, y_train, epochs=20)"
   ],
   "metadata": {
    "collapsed": false
   }
  },
  {
   "cell_type": "markdown",
   "source": [
    "## Test du modèle sur le jeu de test"
   ],
   "metadata": {
    "collapsed": false
   }
  },
  {
   "cell_type": "code",
   "execution_count": 60,
   "outputs": [
    {
     "name": "stdout",
     "output_type": "stream",
     "text": [
      "3546/3546 - 4s - loss: 0.8178 - acc: 0.6923 - 4s/epoch - 1ms/step\n"
     ]
    },
    {
     "data": {
      "text/plain": "[0.8177857398986816, 0.6923456788063049]"
     },
     "execution_count": 60,
     "metadata": {},
     "output_type": "execute_result"
    }
   ],
   "source": [
    "model.evaluate(x_test, y_test, verbose=2)"
   ],
   "metadata": {
    "collapsed": false
   }
  }
 ],
 "metadata": {
  "kernelspec": {
   "display_name": "Python 3 (ipykernel)",
   "language": "python",
   "name": "python3"
  },
  "language_info": {
   "codemirror_mode": {
    "name": "ipython",
    "version": 3
   },
   "file_extension": ".py",
   "mimetype": "text/x-python",
   "name": "python",
   "nbconvert_exporter": "python",
   "pygments_lexer": "ipython3",
   "version": "3.10.6"
  }
 },
 "nbformat": 4,
 "nbformat_minor": 1
}
