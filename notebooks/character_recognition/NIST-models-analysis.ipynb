{
 "cells": [
  {
   "cell_type": "markdown",
   "source": [
    "# Analyse des modèles de reconnaissance de caractères basés sur le dataset NIST\n",
    "\n",
    "Le but de ce notebook est d'analyser différents modèles créés pour la reconnaissance des caractères manuscrits. Les modèles ont été entrainés sur le dataset [NIST Special Database 19](https://www.nist.gov/srd/nist-special-database-19)."
   ],
   "metadata": {
    "collapsed": false
   }
  },
  {
   "cell_type": "markdown",
   "source": [
    "## Importation des dépendances\n",
    "\n",
    "Les dépendances nécessaires à l'analyse de ces models sont :\n",
    "- [tensorflow](https://www.tensorflow.org/?hl=fr)\n",
    "- [matplotlib](https://matplotlib.org/)\n",
    "- [pandas](https://pandas.pydata.org/)"
   ],
   "metadata": {
    "collapsed": false
   }
  },
  {
   "cell_type": "code",
   "execution_count": 1,
   "metadata": {
    "collapsed": true,
    "ExecuteTime": {
     "end_time": "2023-05-02T09:56:17.896910900Z",
     "start_time": "2023-05-02T09:56:14.120947800Z"
    }
   },
   "outputs": [],
   "source": [
    "import os\n",
    "import multiprocessing as mp\n",
    "from typing import Literal\n",
    "from string import ascii_letters\n",
    "\n",
    "import numpy as np\n",
    "import pandas as pd\n",
    "import tensorflow as tf\n",
    "import matplotlib.pyplot as plt\n",
    "from src.util import DatasetLoader\n",
    "from sklearn.preprocessing import LabelBinarizer\n",
    "from tensorflow import keras"
   ]
  },
  {
   "cell_type": "markdown",
   "source": [
    "## Définition des paramètres\n",
    "\n",
    "On définit ici les paramètres du notebook :\n",
    "- l'emplacement des modèles entrainés\n",
    "- l'emplacement des datasets\n",
    "- l'emplacement du dataset de test\n",
    "- la taille des images du dataset\n",
    "- la taille des chunks utilisés lors du chargement du dataset"
   ],
   "metadata": {
    "collapsed": false
   }
  },
  {
   "cell_type": "code",
   "execution_count": 2,
   "outputs": [],
   "source": [
    "MODELS_DIR = \"../../models\"\n",
    "NIST_PROCESSED_PATH = \"../../data/processed/NIST-dataset\"\n",
    "TEST_SET_PATH = os.path.join(NIST_PROCESSED_PATH, \"test\", \"nist_processed_test.csv\")\n",
    "IMG_SIZE = 41\n",
    "CHUNK_SIZE = 25000"
   ],
   "metadata": {
    "collapsed": false,
    "ExecuteTime": {
     "end_time": "2023-05-02T09:56:17.901956500Z",
     "start_time": "2023-05-02T09:56:17.898847800Z"
    }
   }
  },
  {
   "cell_type": "markdown",
   "source": [
    "## Chargement du dataset de test\n",
    "\n",
    "On crée ici le `DatasetLoader` et on charge le jeu de données."
   ],
   "metadata": {
    "collapsed": false
   }
  },
  {
   "cell_type": "code",
   "execution_count": 3,
   "outputs": [],
   "source": [
    "loader = DatasetLoader(IMG_SIZE)"
   ],
   "metadata": {
    "collapsed": false,
    "ExecuteTime": {
     "end_time": "2023-05-02T09:56:17.915925500Z",
     "start_time": "2023-05-02T09:56:17.903436400Z"
    }
   }
  },
  {
   "cell_type": "code",
   "execution_count": 4,
   "outputs": [],
   "source": [
    "def get_x_y_from_csv_multi_process(\n",
    "            path: str,\n",
    "            chunk_size: int,\n",
    "            engine: Literal[\"c\", \"python\", \"pyarrow\", \"python-fwf\"] = \"c\"\n",
    "    ) -> tuple:\n",
    "        chunks = pd.read_csv(path,   engine=engine, chunksize=chunk_size)\n",
    "        cpu_count = mp.cpu_count()\n",
    "\n",
    "        with mp.Pool(cpu_count) as pool:\n",
    "            data_list = [data for data in pool.map(loader.get_y_and_x_set_from_dataframe, chunks)]\n",
    "\n",
    "        data = list(zip(*data_list))\n",
    "        y_set = np.concatenate(data[0])\n",
    "        x_set = np.concatenate(data[1])\n",
    "\n",
    "        return y_set, x_set"
   ],
   "metadata": {
    "collapsed": false,
    "ExecuteTime": {
     "end_time": "2023-05-02T09:56:17.923184400Z",
     "start_time": "2023-05-02T09:56:17.918930700Z"
    }
   }
  },
  {
   "cell_type": "code",
   "execution_count": 5,
   "outputs": [],
   "source": [
    "y, x = get_x_y_from_csv_multi_process(TEST_SET_PATH, CHUNK_SIZE)"
   ],
   "metadata": {
    "collapsed": false,
    "ExecuteTime": {
     "end_time": "2023-05-02T09:56:39.143471900Z",
     "start_time": "2023-05-02T09:56:17.924696300Z"
    }
   }
  },
  {
   "cell_type": "code",
   "execution_count": 6,
   "outputs": [
    {
     "name": "stdout",
     "output_type": "stream",
     "text": [
      "(123391, 41, 41)\n",
      "(123391, 1)\n"
     ]
    }
   ],
   "source": [
    "print(x.shape)\n",
    "print(y.shape)"
   ],
   "metadata": {
    "collapsed": false,
    "ExecuteTime": {
     "end_time": "2023-05-02T09:56:39.150956200Z",
     "start_time": "2023-05-02T09:56:39.144891100Z"
    }
   }
  },
  {
   "cell_type": "markdown",
   "source": [
    "## Encodage des labels\n",
    "\n",
    "Afin de pouvoir tester le modèle, on encode les labels utilisés pour la classification. On commence par construire un encodeur adapté à nos labels."
   ],
   "metadata": {
    "collapsed": false
   }
  },
  {
   "cell_type": "code",
   "execution_count": 7,
   "outputs": [
    {
     "data": {
      "text/plain": "LabelBinarizer()",
      "text/html": "<style>#sk-container-id-1 {color: black;background-color: white;}#sk-container-id-1 pre{padding: 0;}#sk-container-id-1 div.sk-toggleable {background-color: white;}#sk-container-id-1 label.sk-toggleable__label {cursor: pointer;display: block;width: 100%;margin-bottom: 0;padding: 0.3em;box-sizing: border-box;text-align: center;}#sk-container-id-1 label.sk-toggleable__label-arrow:before {content: \"▸\";float: left;margin-right: 0.25em;color: #696969;}#sk-container-id-1 label.sk-toggleable__label-arrow:hover:before {color: black;}#sk-container-id-1 div.sk-estimator:hover label.sk-toggleable__label-arrow:before {color: black;}#sk-container-id-1 div.sk-toggleable__content {max-height: 0;max-width: 0;overflow: hidden;text-align: left;background-color: #f0f8ff;}#sk-container-id-1 div.sk-toggleable__content pre {margin: 0.2em;color: black;border-radius: 0.25em;background-color: #f0f8ff;}#sk-container-id-1 input.sk-toggleable__control:checked~div.sk-toggleable__content {max-height: 200px;max-width: 100%;overflow: auto;}#sk-container-id-1 input.sk-toggleable__control:checked~label.sk-toggleable__label-arrow:before {content: \"▾\";}#sk-container-id-1 div.sk-estimator input.sk-toggleable__control:checked~label.sk-toggleable__label {background-color: #d4ebff;}#sk-container-id-1 div.sk-label input.sk-toggleable__control:checked~label.sk-toggleable__label {background-color: #d4ebff;}#sk-container-id-1 input.sk-hidden--visually {border: 0;clip: rect(1px 1px 1px 1px);clip: rect(1px, 1px, 1px, 1px);height: 1px;margin: -1px;overflow: hidden;padding: 0;position: absolute;width: 1px;}#sk-container-id-1 div.sk-estimator {font-family: monospace;background-color: #f0f8ff;border: 1px dotted black;border-radius: 0.25em;box-sizing: border-box;margin-bottom: 0.5em;}#sk-container-id-1 div.sk-estimator:hover {background-color: #d4ebff;}#sk-container-id-1 div.sk-parallel-item::after {content: \"\";width: 100%;border-bottom: 1px solid gray;flex-grow: 1;}#sk-container-id-1 div.sk-label:hover label.sk-toggleable__label {background-color: #d4ebff;}#sk-container-id-1 div.sk-serial::before {content: \"\";position: absolute;border-left: 1px solid gray;box-sizing: border-box;top: 0;bottom: 0;left: 50%;z-index: 0;}#sk-container-id-1 div.sk-serial {display: flex;flex-direction: column;align-items: center;background-color: white;padding-right: 0.2em;padding-left: 0.2em;position: relative;}#sk-container-id-1 div.sk-item {position: relative;z-index: 1;}#sk-container-id-1 div.sk-parallel {display: flex;align-items: stretch;justify-content: center;background-color: white;position: relative;}#sk-container-id-1 div.sk-item::before, #sk-container-id-1 div.sk-parallel-item::before {content: \"\";position: absolute;border-left: 1px solid gray;box-sizing: border-box;top: 0;bottom: 0;left: 50%;z-index: -1;}#sk-container-id-1 div.sk-parallel-item {display: flex;flex-direction: column;z-index: 1;position: relative;background-color: white;}#sk-container-id-1 div.sk-parallel-item:first-child::after {align-self: flex-end;width: 50%;}#sk-container-id-1 div.sk-parallel-item:last-child::after {align-self: flex-start;width: 50%;}#sk-container-id-1 div.sk-parallel-item:only-child::after {width: 0;}#sk-container-id-1 div.sk-dashed-wrapped {border: 1px dashed gray;margin: 0 0.4em 0.5em 0.4em;box-sizing: border-box;padding-bottom: 0.4em;background-color: white;}#sk-container-id-1 div.sk-label label {font-family: monospace;font-weight: bold;display: inline-block;line-height: 1.2em;}#sk-container-id-1 div.sk-label-container {text-align: center;}#sk-container-id-1 div.sk-container {/* jupyter's `normalize.less` sets `[hidden] { display: none; }` but bootstrap.min.css set `[hidden] { display: none !important; }` so we also need the `!important` here to be able to override the default hidden behavior on the sphinx rendered scikit-learn.org. See: https://github.com/scikit-learn/scikit-learn/issues/21755 */display: inline-block !important;position: relative;}#sk-container-id-1 div.sk-text-repr-fallback {display: none;}</style><div id=\"sk-container-id-1\" class=\"sk-top-container\"><div class=\"sk-text-repr-fallback\"><pre>LabelBinarizer()</pre><b>In a Jupyter environment, please rerun this cell to show the HTML representation or trust the notebook. <br />On GitHub, the HTML representation is unable to render, please try loading this page with nbviewer.org.</b></div><div class=\"sk-container\" hidden><div class=\"sk-item\"><div class=\"sk-estimator sk-toggleable\"><input class=\"sk-toggleable__control sk-hidden--visually\" id=\"sk-estimator-id-1\" type=\"checkbox\" checked><label for=\"sk-estimator-id-1\" class=\"sk-toggleable__label sk-toggleable__label-arrow\">LabelBinarizer</label><div class=\"sk-toggleable__content\"><pre>LabelBinarizer()</pre></div></div></div></div></div>"
     },
     "execution_count": 7,
     "metadata": {},
     "output_type": "execute_result"
    }
   ],
   "source": [
    "labels = list(ascii_letters)\n",
    "encoder = LabelBinarizer()\n",
    "encoder.fit(labels)"
   ],
   "metadata": {
    "collapsed": false,
    "ExecuteTime": {
     "end_time": "2023-05-02T09:56:39.206869200Z",
     "start_time": "2023-05-02T09:56:39.152005200Z"
    }
   }
  },
  {
   "cell_type": "markdown",
   "source": [
    "On encode ensuite les labels de notre dataset."
   ],
   "metadata": {
    "collapsed": false
   }
  },
  {
   "cell_type": "code",
   "execution_count": 8,
   "outputs": [],
   "source": [
    "y_encoded = encoder.transform(y)"
   ],
   "metadata": {
    "collapsed": false,
    "ExecuteTime": {
     "end_time": "2023-05-02T09:56:39.257751900Z",
     "start_time": "2023-05-02T09:56:39.177320500Z"
    }
   }
  },
  {
   "cell_type": "markdown",
   "source": [
    "## Chargement des modèles entrainés\n",
    "\n",
    "On charge ici les modèles déjà entrainés par nos soins."
   ],
   "metadata": {
    "collapsed": false
   }
  },
  {
   "cell_type": "code",
   "execution_count": 9,
   "outputs": [],
   "source": [
    "models1_path = []\n",
    "models2_path = []\n",
    "for model_dir in os.scandir(MODELS_DIR):\n",
    "    if \"-1-\" in model_dir.name:\n",
    "        models1_path.append(os.path.join(MODELS_DIR, model_dir.name, \"model\"))\n",
    "    elif \"-2-\" in model_dir.name:\n",
    "        models2_path.append(os.path.join(MODELS_DIR, model_dir.name, \"model\"))"
   ],
   "metadata": {
    "collapsed": false,
    "ExecuteTime": {
     "end_time": "2023-05-02T09:56:39.270396200Z",
     "start_time": "2023-05-02T09:56:39.260748800Z"
    }
   }
  },
  {
   "cell_type": "code",
   "execution_count": 10,
   "outputs": [
    {
     "name": "stdout",
     "output_type": "stream",
     "text": [
      "['../../models\\\\20230501-1-204211\\\\model', '../../models\\\\20230501-1-204503\\\\model', '../../models\\\\20230501-1-204804\\\\model', '../../models\\\\20230501-1-205316\\\\model', '../../models\\\\20230501-1-210220\\\\model', '../../models\\\\20230501-1-214336\\\\model']\n",
      "['../../models\\\\20230501-2-204211\\\\model', '../../models\\\\20230501-2-220919\\\\model', '../../models\\\\20230501-2-221254\\\\model', '../../models\\\\20230501-2-221612\\\\model', '../../models\\\\20230501-2-221940\\\\model', '../../models\\\\20230502-2-094013\\\\model']\n"
     ]
    }
   ],
   "source": [
    "print(models1_path)\n",
    "print(models2_path)"
   ],
   "metadata": {
    "collapsed": false,
    "ExecuteTime": {
     "end_time": "2023-05-02T09:56:39.275156100Z",
     "start_time": "2023-05-02T09:56:39.270396200Z"
    }
   }
  },
  {
   "cell_type": "code",
   "execution_count": 11,
   "outputs": [],
   "source": [
    "models1: [keras.Model] = []\n",
    "for model1_path in models1_path:\n",
    "    models1.append(keras.models.load_model(model1_path))\n",
    "\n",
    "models2: [keras.Model] = []\n",
    "for model2_path in models2_path:\n",
    "    models2.append(keras.models.load_model(model2_path))"
   ],
   "metadata": {
    "collapsed": false,
    "ExecuteTime": {
     "end_time": "2023-05-02T09:56:42.762825200Z",
     "start_time": "2023-05-02T09:56:39.275156100Z"
    }
   }
  },
  {
   "cell_type": "code",
   "execution_count": 12,
   "outputs": [
    {
     "name": "stdout",
     "output_type": "stream",
     "text": [
      "Model: \"sequential\"\n",
      "_________________________________________________________________\n",
      " Layer (type)                Output Shape              Param #   \n",
      "=================================================================\n",
      " flatten (Flatten)           (None, 1681)              0         \n",
      "                                                                 \n",
      " dense (Dense)               (None, 866)               1456612   \n",
      "                                                                 \n",
      " dense_1 (Dense)             (None, 52)                45084     \n",
      "                                                                 \n",
      "=================================================================\n",
      "Total params: 1,501,696\n",
      "Trainable params: 1,501,696\n",
      "Non-trainable params: 0\n",
      "_________________________________________________________________\n",
      "Model: \"sequential_1\"\n",
      "_________________________________________________________________\n",
      " Layer (type)                Output Shape              Param #   \n",
      "=================================================================\n",
      " flatten_1 (Flatten)         (None, 1681)              0         \n",
      "                                                                 \n",
      " dense_2 (Dense)             (None, 866)               1456612   \n",
      "                                                                 \n",
      " dense_3 (Dense)             (None, 212)               183804    \n",
      "                                                                 \n",
      " dense_4 (Dense)             (None, 52)                11076     \n",
      "                                                                 \n",
      "=================================================================\n",
      "Total params: 1,651,492\n",
      "Trainable params: 1,651,492\n",
      "Non-trainable params: 0\n",
      "_________________________________________________________________\n",
      "Model: \"sequential_2\"\n",
      "_________________________________________________________________\n",
      " Layer (type)                Output Shape              Param #   \n",
      "=================================================================\n",
      " flatten_2 (Flatten)         (None, 1681)              0         \n",
      "                                                                 \n",
      " dense_5 (Dense)             (None, 866)               1456612   \n",
      "                                                                 \n",
      " dense_6 (Dense)             (None, 212)               183804    \n",
      "                                                                 \n",
      " dense_7 (Dense)             (None, 105)               22365     \n",
      "                                                                 \n",
      " dense_8 (Dense)             (None, 52)                5512      \n",
      "                                                                 \n",
      "=================================================================\n",
      "Total params: 1,668,293\n",
      "Trainable params: 1,668,293\n",
      "Non-trainable params: 0\n",
      "_________________________________________________________________\n",
      "Model: \"sequential_3\"\n",
      "_________________________________________________________________\n",
      " Layer (type)                Output Shape              Param #   \n",
      "=================================================================\n",
      " flatten_3 (Flatten)         (None, 1681)              0         \n",
      "                                                                 \n",
      " dense_9 (Dense)             (None, 866)               1456612   \n",
      "                                                                 \n",
      " dense_10 (Dense)            (None, 212)               183804    \n",
      "                                                                 \n",
      " dense_11 (Dense)            (None, 105)               22365     \n",
      "                                                                 \n",
      " dense_12 (Dense)            (None, 74)                7844      \n",
      "                                                                 \n",
      " dense_13 (Dense)            (None, 52)                3900      \n",
      "                                                                 \n",
      "=================================================================\n",
      "Total params: 1,674,525\n",
      "Trainable params: 1,674,525\n",
      "Non-trainable params: 0\n",
      "_________________________________________________________________\n",
      "Model: \"sequential_4\"\n",
      "_________________________________________________________________\n",
      " Layer (type)                Output Shape              Param #   \n",
      "=================================================================\n",
      " flatten_4 (Flatten)         (None, 1681)              0         \n",
      "                                                                 \n",
      " dense_14 (Dense)            (None, 866)               1456612   \n",
      "                                                                 \n",
      " dense_15 (Dense)            (None, 212)               183804    \n",
      "                                                                 \n",
      " dense_16 (Dense)            (None, 105)               22365     \n",
      "                                                                 \n",
      " dense_17 (Dense)            (None, 74)                7844      \n",
      "                                                                 \n",
      " dense_18 (Dense)            (None, 62)                4650      \n",
      "                                                                 \n",
      " dense_19 (Dense)            (None, 52)                3276      \n",
      "                                                                 \n",
      "=================================================================\n",
      "Total params: 1,678,551\n",
      "Trainable params: 1,678,551\n",
      "Non-trainable params: 0\n",
      "_________________________________________________________________\n",
      "Model: \"sequential_5\"\n",
      "_________________________________________________________________\n",
      " Layer (type)                Output Shape              Param #   \n",
      "=================================================================\n",
      " flatten_5 (Flatten)         (None, 1681)              0         \n",
      "                                                                 \n",
      " dense_20 (Dense)            (None, 866)               1456612   \n",
      "                                                                 \n",
      " dense_21 (Dense)            (None, 212)               183804    \n",
      "                                                                 \n",
      " dense_22 (Dense)            (None, 105)               22365     \n",
      "                                                                 \n",
      " dense_23 (Dense)            (None, 74)                7844      \n",
      "                                                                 \n",
      " dense_24 (Dense)            (None, 62)                4650      \n",
      "                                                                 \n",
      " dense_25 (Dense)            (None, 57)                3591      \n",
      "                                                                 \n",
      " dense_26 (Dense)            (None, 52)                3016      \n",
      "                                                                 \n",
      "=================================================================\n",
      "Total params: 1,681,882\n",
      "Trainable params: 1,681,882\n",
      "Non-trainable params: 0\n",
      "_________________________________________________________________\n",
      "Model: \"sequential\"\n",
      "_________________________________________________________________\n",
      " Layer (type)                Output Shape              Param #   \n",
      "=================================================================\n",
      " flatten (Flatten)           (None, 1681)              0         \n",
      "                                                                 \n",
      " dense (Dense)               (None, 866)               1456612   \n",
      "                                                                 \n",
      " dense_1 (Dense)             (None, 52)                45084     \n",
      "                                                                 \n",
      "=================================================================\n",
      "Total params: 1,501,696\n",
      "Trainable params: 1,501,696\n",
      "Non-trainable params: 0\n",
      "_________________________________________________________________\n",
      "Model: \"sequential_6\"\n",
      "_________________________________________________________________\n",
      " Layer (type)                Output Shape              Param #   \n",
      "=================================================================\n",
      " flatten_6 (Flatten)         (None, 1681)              0         \n",
      "                                                                 \n",
      " dense_27 (Dense)            (None, 866)               1456612   \n",
      "                                                                 \n",
      " dense_28 (Dense)            (None, 433)               375411    \n",
      "                                                                 \n",
      " dense_29 (Dense)            (None, 52)                22568     \n",
      "                                                                 \n",
      "=================================================================\n",
      "Total params: 1,854,591\n",
      "Trainable params: 1,854,591\n",
      "Non-trainable params: 0\n",
      "_________________________________________________________________\n",
      "Model: \"sequential_7\"\n",
      "_________________________________________________________________\n",
      " Layer (type)                Output Shape              Param #   \n",
      "=================================================================\n",
      " flatten_7 (Flatten)         (None, 1681)              0         \n",
      "                                                                 \n",
      " dense_30 (Dense)            (None, 866)               1456612   \n",
      "                                                                 \n",
      " dense_31 (Dense)            (None, 577)               500259    \n",
      "                                                                 \n",
      " dense_32 (Dense)            (None, 288)               166464    \n",
      "                                                                 \n",
      " dense_33 (Dense)            (None, 52)                15028     \n",
      "                                                                 \n",
      "=================================================================\n",
      "Total params: 2,138,363\n",
      "Trainable params: 2,138,363\n",
      "Non-trainable params: 0\n",
      "_________________________________________________________________\n",
      "Model: \"sequential_8\"\n",
      "_________________________________________________________________\n",
      " Layer (type)                Output Shape              Param #   \n",
      "=================================================================\n",
      " flatten_8 (Flatten)         (None, 1681)              0         \n",
      "                                                                 \n",
      " dense_34 (Dense)            (None, 866)               1456612   \n",
      "                                                                 \n",
      " dense_35 (Dense)            (None, 649)               562683    \n",
      "                                                                 \n",
      " dense_36 (Dense)            (None, 432)               280800    \n",
      "                                                                 \n",
      " dense_37 (Dense)            (None, 215)               93095     \n",
      "                                                                 \n",
      " dense_38 (Dense)            (None, 52)                11232     \n",
      "                                                                 \n",
      "=================================================================\n",
      "Total params: 2,404,422\n",
      "Trainable params: 2,404,422\n",
      "Non-trainable params: 0\n",
      "_________________________________________________________________\n",
      "Model: \"sequential_9\"\n",
      "_________________________________________________________________\n",
      " Layer (type)                Output Shape              Param #   \n",
      "=================================================================\n",
      " flatten_9 (Flatten)         (None, 1681)              0         \n",
      "                                                                 \n",
      " dense_39 (Dense)            (None, 866)               1456612   \n",
      "                                                                 \n",
      " dense_40 (Dense)            (None, 693)               600831    \n",
      "                                                                 \n",
      " dense_41 (Dense)            (None, 520)               360880    \n",
      "                                                                 \n",
      " dense_42 (Dense)            (None, 347)               180787    \n",
      "                                                                 \n",
      " dense_43 (Dense)            (None, 174)               60552     \n",
      "                                                                 \n",
      " dense_44 (Dense)            (None, 52)                9100      \n",
      "                                                                 \n",
      "=================================================================\n",
      "Total params: 2,668,762\n",
      "Trainable params: 2,668,762\n",
      "Non-trainable params: 0\n",
      "_________________________________________________________________\n",
      "Model: \"sequential\"\n",
      "_________________________________________________________________\n",
      " Layer (type)                Output Shape              Param #   \n",
      "=================================================================\n",
      " flatten (Flatten)           (None, 1681)              0         \n",
      "                                                                 \n",
      " dense (Dense)               (None, 866)               1456612   \n",
      "                                                                 \n",
      " dense_1 (Dense)             (None, 722)               625974    \n",
      "                                                                 \n",
      " dense_2 (Dense)             (None, 578)               417894    \n",
      "                                                                 \n",
      " dense_3 (Dense)             (None, 434)               251286    \n",
      "                                                                 \n",
      " dense_4 (Dense)             (None, 290)               126150    \n",
      "                                                                 \n",
      " dense_5 (Dense)             (None, 146)               42486     \n",
      "                                                                 \n",
      " dense_6 (Dense)             (None, 52)                7644      \n",
      "                                                                 \n",
      "=================================================================\n",
      "Total params: 2,928,046\n",
      "Trainable params: 2,928,046\n",
      "Non-trainable params: 0\n",
      "_________________________________________________________________\n"
     ]
    }
   ],
   "source": [
    "for model in models1 + models2:\n",
    "    model.summary()"
   ],
   "metadata": {
    "collapsed": false,
    "ExecuteTime": {
     "end_time": "2023-05-02T09:56:42.948935300Z",
     "start_time": "2023-05-02T09:56:42.766323900Z"
    }
   }
  },
  {
   "cell_type": "code",
   "execution_count": 13,
   "outputs": [
    {
     "name": "stdout",
     "output_type": "stream",
     "text": [
      "Flatten\n",
      "Dense\n",
      "Dense\n"
     ]
    }
   ],
   "source": [
    "for model in models1:\n",
    "    for layer in model.layers:\n",
    "        print(layer.__class__.__name__)\n",
    "    break"
   ],
   "metadata": {
    "collapsed": false
   }
  },
  {
   "cell_type": "code",
   "execution_count": 14,
   "outputs": [],
   "source": [
    "model1_data = pd.DataFrame(columns=[\"dense_count\", \"err_validation\"])\n",
    "model2_data = pd.DataFrame(columns=[\"dense_count\", \"err_validation\"])"
   ],
   "metadata": {
    "collapsed": false,
    "ExecuteTime": {
     "end_time": "2023-05-02T09:56:42.974982600Z",
     "start_time": "2023-05-02T09:56:42.962548100Z"
    }
   }
  },
  {
   "cell_type": "code",
   "execution_count": 15,
   "outputs": [
    {
     "name": "stdout",
     "output_type": "stream",
     "text": [
      "3856/3856 - 10s - loss: 0.7747 - acc: 0.7660 - 10s/epoch - 3ms/step\n",
      "3856/3856 - 10s - loss: 0.8183 - acc: 0.7447 - 10s/epoch - 3ms/step\n",
      "3856/3856 - 10s - loss: 0.6345 - acc: 0.7970 - 10s/epoch - 3ms/step\n",
      "3856/3856 - 11s - loss: 0.5856 - acc: 0.8089 - 11s/epoch - 3ms/step\n",
      "3856/3856 - 10s - loss: 0.5751 - acc: 0.8102 - 10s/epoch - 3ms/step\n",
      "3856/3856 - 11s - loss: 0.5972 - acc: 0.8042 - 11s/epoch - 3ms/step\n",
      "3856/3856 - 10s - loss: 0.7747 - acc: 0.7660 - 10s/epoch - 3ms/step\n",
      "3856/3856 - 12s - loss: 0.6647 - acc: 0.7912 - 12s/epoch - 3ms/step\n",
      "3856/3856 - 13s - loss: 0.5862 - acc: 0.8097 - 13s/epoch - 3ms/step\n",
      "3856/3856 - 14s - loss: 0.5298 - acc: 0.8259 - 14s/epoch - 4ms/step\n",
      "3856/3856 - 16s - loss: 0.5453 - acc: 0.8139 - 16s/epoch - 4ms/step\n",
      "3856/3856 - 18s - loss: 0.5383 - acc: 0.8141 - 18s/epoch - 5ms/step\n"
     ]
    }
   ],
   "source": [
    "for model in models1:\n",
    "    nb_dense = -1\n",
    "    for layer in model.layers:\n",
    "        if isinstance(layer, keras.layers.Dense):\n",
    "            nb_dense += 1\n",
    "    eval_data = model.evaluate(x, y_encoded, verbose=2)\n",
    "    model1_data.loc[len(model1_data)] = [nb_dense, eval_data[0]]\n",
    "\n",
    "for model in models2:\n",
    "    nb_dense = -1\n",
    "    for layer in model.layers:\n",
    "        if isinstance(layer, keras.layers.Dense):\n",
    "            nb_dense += 1\n",
    "    eval_data = model.evaluate(x, y_encoded, verbose=2)\n",
    "    model2_data.loc[len(model2_data)] = [nb_dense, eval_data[0]]"
   ],
   "metadata": {
    "collapsed": false,
    "ExecuteTime": {
     "end_time": "2023-05-02T09:59:08.703043700Z",
     "start_time": "2023-05-02T09:56:42.967480700Z"
    }
   }
  },
  {
   "cell_type": "code",
   "execution_count": 16,
   "outputs": [
    {
     "data": {
      "text/plain": "<Figure size 640x480 with 1 Axes>",
      "image/png": "[encoded data removed]"
     },
     "metadata": {},
     "output_type": "display_data"
    }
   ],
   "source": [
    "plt.plot(model1_data[\"dense_count\"], model1_data[\"err_validation\"], label=\"Méthode de la racine\")\n",
    "plt.plot(model2_data[\"dense_count\"], model2_data[\"err_validation\"], label=\"Méthode de la moyenne\")\n",
    "\n",
    "#plt.title(\"Courbe de validation de l'erreur\")\n",
    "plt.xticks(range(1, 7))\n",
    "plt.xlabel(\"Nombre de couches\")\n",
    "plt.ylabel(\"Erreur de validation\")\n",
    "plt.legend()\n",
    "\n",
    "plt.savefig(\"fig.png\")\n",
    "plt.show()"
   ],
   "metadata": {
    "collapsed": false,
    "ExecuteTime": {
     "end_time": "2023-05-02T09:59:08.928168500Z",
     "start_time": "2023-05-02T09:59:08.705561500Z"
    }
   }
  }
 ],
 "metadata": {
  "kernelspec": {
   "display_name": "Python 3",
   "language": "python",
   "name": "python3"
  },
  "language_info": {
   "codemirror_mode": {
    "name": "ipython",
    "version": 2
   },
   "file_extension": ".py",
   "mimetype": "text/x-python",
   "name": "python",
   "nbconvert_exporter": "python",
   "pygments_lexer": "ipython2",
   "version": "2.7.6"
  }
 },
 "nbformat": 4,
 "nbformat_minor": 0
}
