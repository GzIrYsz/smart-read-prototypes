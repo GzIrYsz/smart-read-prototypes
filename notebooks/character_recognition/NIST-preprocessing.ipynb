{
 "cells": [
  {
   "cell_type": "markdown",
   "metadata": {},
   "source": [
    "# Construction du dataset pour la Reconnaissance Optique de caractère et préprocessing à partir du fichier csv fabriqué par le notebook \"NIST-indexing\"\n",
    "\n",
    "Dans ce notebook sera présenté le pré-traitement du jeu de donnée [NIST 2nd](https://www.nist.gov/srd/nist-special-database-19) afin d'obtenir un nouveau jeu de donnée données plus facilement utilisable pour notre algorithme de reconnaissance de caractère\n",
    "\n",
    "Ce pré-traitement de donnée aura plusieurs objectifs :\n",
    "- Charger les images du dataset\n",
    "- Appliquer des pré-traitements sur celle-ci\n",
    "- Fabriquer un set d'entrainement et un set de test\n",
    "\n",
    "**structure du nouveau dataset obtenu:**\n",
    " - NIST-dataset\n",
    "    - train_set\n",
    "        - a\n",
    "            - a000001.png\n",
    "            - a000002.png\n",
    "            ...\n",
    "            ...\n",
    "            - a00000n.png\n",
    "        - b ....\n",
    "        ...\n",
    "        - z ...\n",
    "    - test_set\n",
    "        - a\n",
    "            - a000001.png\n",
    "            - a000002.png\n",
    "            ...\n",
    "            ...\n",
    "            - a00000n.png\n",
    "        - b ....\n",
    "        ...\n",
    "        - z ..."
   ]
  },
  {
   "cell_type": "markdown",
   "metadata": {},
   "source": [
    "## Importation des dépendances"
   ]
  },
  {
   "cell_type": "code",
   "execution_count": 1,
   "metadata": {},
   "outputs": [],
   "source": [
    "import os\n",
    "from os import path, mkdir\n",
    "import multiprocessing as mp\n",
    "\n",
    "import pandas as pd\n",
    "import numpy as np\n",
    "import matplotlib.pyplot as plt\n",
    "from skimage.color import rgb2gray\n",
    "from skimage.transform import resize, rescale\n",
    "from skimage.util import crop"
   ]
  },
  {
   "cell_type": "markdown",
   "source": [
    "## Chargement du dataframe obtenu par le notebook indexing"
   ],
   "metadata": {
    "collapsed": false
   }
  },
  {
   "cell_type": "code",
   "execution_count": 2,
   "outputs": [],
   "source": [
    "dataset_indexing_frame = pd.read_csv(\"../../data/processed/NIST-dataset/nist.csv\", chunksize=10)\n",
    "sample_indexing_frame = next(dataset_indexing_frame)"
   ],
   "metadata": {
    "collapsed": false
   }
  },
  {
   "cell_type": "markdown",
   "metadata": {},
   "source": [
    "## Définition des parmètres souhaités pour le prétraitement des image"
   ]
  },
  {
   "cell_type": "code",
   "execution_count": 3,
   "metadata": {},
   "outputs": [],
   "source": [
    "NEW_IMAGE_SIZE = (50, 50)\n",
    "PERCENT_OF_TRAIN_SET = 0.7\n",
    "CROP_PX = 30\n",
    "RESCALE_PERCENT = 0.6\n",
    "INPUT_INDEXED_DATASET = \"../../data/processed/NIST-dataset/nist.csv\"\n",
    "OUTPUT_PROCESSED_DATASET = \"../../data/processed/NIST-dataset/\"\n",
    "CHUNKSIZE = 25000\n",
    "ENGINE=\"c\""
   ]
  },
  {
   "cell_type": "markdown",
   "metadata": {},
   "source": [
    "## Définition de la fonction de prétraitement d'image\n",
    "Les objectifs du prétraitement des images sont de réduire la dimension des images afin de faciliter l'entrainement de notre modèle.\n",
    "Pour ce faire, lors du prétraitement, nous allons transformer l'image *rgb* en image *noire et blanche*. Toujours pour réduire la dimension de l'image, on va effectuer un rognage sur les bords de celle-ci afin de garder uniquement les informations essentielles de l'image c'est-à-dire le dessin de la lettre. Et pour finir on va redimensionner l'image pour réduire une fois de plus sa *dimension*."
   ]
  },
  {
   "cell_type": "code",
   "execution_count": 4,
   "metadata": {},
   "outputs": [],
   "source": [
    "def preprocessing(image_path):\n",
    "    img = plt.imread(image_path)\n",
    "    img_gray_scale = rgb2gray(img)\n",
    "    img_gray_scale_cropped = crop(img_gray_scale, CROP_PX)\n",
    "    image_processed = rescale(img_gray_scale_cropped, RESCALE_PERCENT)\n",
    "\n",
    "    return np.round(image_processed, decimals=0).astype(np.uint8)"
   ]
  },
  {
   "cell_type": "code",
   "execution_count": 5,
   "metadata": {},
   "outputs": [
    {
     "data": {
      "text/plain": "dtype('uint8')"
     },
     "execution_count": 5,
     "metadata": {},
     "output_type": "execute_result"
    }
   ],
   "source": [
    "image_number = 5\n",
    "image_path = path.join(sample_indexing_frame[\"old_path\"][image_number], sample_indexing_frame[\"old_file_name\"][image_number])\n",
    "original_image = plt.imread(image_path)\n",
    "preprocessed_img = preprocessing(image_path)\n",
    "preprocessed_img.dtype"
   ]
  },
  {
   "cell_type": "markdown",
   "metadata": {},
   "source": [
    "Avant prétraitement"
   ]
  },
  {
   "cell_type": "code",
   "execution_count": 6,
   "metadata": {},
   "outputs": [
    {
     "data": {
      "text/plain": "<Figure size 640x480 with 1 Axes>",
      "image/png": "[encoded data removed]"
     },
     "metadata": {},
     "output_type": "display_data"
    }
   ],
   "source": [
    "plt.imshow(original_image)\n",
    "plt.show()"
   ]
  },
  {
   "cell_type": "markdown",
   "metadata": {},
   "source": [
    "Après prétraitement"
   ]
  },
  {
   "cell_type": "code",
   "execution_count": 7,
   "metadata": {},
   "outputs": [
    {
     "data": {
      "text/plain": "<Figure size 640x480 with 1 Axes>",
      "image/png": "[encoded data removed]"
     },
     "metadata": {},
     "output_type": "display_data"
    }
   ],
   "source": [
    "plt.imshow(preprocessed_img)\n",
    "plt.show()"
   ]
  },
  {
   "cell_type": "markdown",
   "metadata": {},
   "source": [
    "Comparaison des dimensions des images avant et après le prétraitement."
   ]
  },
  {
   "cell_type": "code",
   "execution_count": 8,
   "metadata": {},
   "outputs": [
    {
     "name": "stdout",
     "output_type": "stream",
     "text": [
      "(128, 128, 3)\n",
      "(41, 41)\n"
     ]
    }
   ],
   "source": [
    "print(original_image.shape)\n",
    "print(preprocessed_img.shape)"
   ]
  },
  {
   "cell_type": "markdown",
   "metadata": {},
   "source": [
    "## Sauvegarde du dataest avec les images prétraités\n",
    "\n",
    "Dans cette section, nous allons définir les fonctions qui nous permettront de sauvegarder notre dataset prétraité sur le disque en interprétant les informations du dataframe indexé."
   ]
  },
  {
   "cell_type": "markdown",
   "metadata": {},
   "source": [
    "### Fonction de sauvegarde du dataframe\n",
    "\n",
    "Cette fonction est chargée de sauvegarder de prétraiter les images et de les sauvegarder au bon endroit conformément au dataframe passé en paramètre"
   ]
  },
  {
   "cell_type": "code",
   "execution_count": 9,
   "metadata": {},
   "outputs": [],
   "source": [
    "def get_labeled_processed_img(dataframe):\n",
    "    data = []\n",
    "    for index, row in dataframe.iterrows():\n",
    "        image_old_path = path.join(row[\"old_path\"], row[\"old_file_name\"])\n",
    "        label = row[\"letter\"]\n",
    "        pretreated_img = preprocessing(image_old_path)\n",
    "        data.append((label, pretreated_img))\n",
    "\n",
    "    return data"
   ]
  },
  {
   "cell_type": "code",
   "execution_count": 10,
   "metadata": {},
   "outputs": [],
   "source": [
    "def get_compatible_x_shape_for_save(x_set):\n",
    "    x, y, z = x_set.shape\n",
    "    return x_set.reshape(x, y * z)"
   ]
  },
  {
   "cell_type": "code",
   "execution_count": 11,
   "metadata": {},
   "outputs": [],
   "source": [
    "def get_labeled_processed_img_dataframe(dataframe):\n",
    "    data = get_labeled_processed_img(dataframe)\n",
    "    y_raw_set, x_raw_set = list(zip(*data))\n",
    "    y_set = np.array(y_raw_set)\n",
    "    x_set = get_compatible_x_shape_for_save(np.array(x_raw_set))\n",
    "\n",
    "    x_set_frame = pd.DataFrame(x_set, columns=[f\"x{i}\" for i in range(x_set.shape[1])])\n",
    "    y_set_frame = pd.DataFrame(y_set, columns=[\"label\"])\n",
    "\n",
    "    return pd.concat([y_set_frame, x_set_frame], axis=1)"
   ]
  },
  {
   "cell_type": "code",
   "execution_count": 12,
   "outputs": [],
   "source": [
    "def get_labeled_processed_img_dataframe_multi_proc(path, engine, chunk_size):\n",
    "    chunks = pd.read_csv(path, chunksize=chunk_size, engine=engine)\n",
    "    cpu_count = mp.cpu_count()\n",
    "\n",
    "    with mp.Pool(cpu_count) as pool:\n",
    "        dataframe_list = [data for data in pool.map(get_labeled_processed_img_dataframe, chunks)]\n",
    "\n",
    "    return pd.concat(dataframe_list, ignore_index=True)"
   ],
   "metadata": {
    "collapsed": false
   }
  },
  {
   "cell_type": "markdown",
   "metadata": {},
   "source": [
    "### Fabriquer le train set et le test set\n",
    "\n",
    " Pour cela nous avons la fonction définie ci-dessous est chargée de séparer le dataset indexé initial contenu dans un dataframe pour enfin retourner un dataframe contenant le train set et un autre dataframe contenant le test set"
   ]
  },
  {
   "cell_type": "code",
   "execution_count": 13,
   "outputs": [],
   "source": [
    "def get_train_and_test_set(dataframe, percent_of_train):\n",
    "    if len(dataframe) == 0:\n",
    "        raise ValueError(\"DataFrame is empty\")\n",
    "    if percent_of_train < 0 or percent_of_train > 1:\n",
    "        raise ValueError(\"percent_of_train should be between 0 and 1\")\n",
    "\n",
    "    train_size = int(len(dataframe) * percent_of_train)\n",
    "    dataframe_train = dataframe.sample(n=train_size, random_state=60)\n",
    "    dataframe_test = dataframe.drop(dataframe_train.index)\n",
    "    return dataframe_train, dataframe_test\n"
   ],
   "metadata": {
    "collapsed": false
   }
  },
  {
   "cell_type": "markdown",
   "metadata": {},
   "source": [
    "### On utilise les fonctions définis dans ci-dessus afin de sauvegarder proprement le dataset"
   ]
  },
  {
   "cell_type": "code",
   "execution_count": 14,
   "outputs": [],
   "source": [
    "def save_csv_chunks(dataframe, path, chunk_size):\n",
    "    dataframe.to_csv(path_or_buf=path, chunksize=chunk_size)"
   ],
   "metadata": {
    "collapsed": false
   }
  },
  {
   "cell_type": "markdown",
   "source": [
    "### On effectue le pré-traitement et on sauvegarde le dataset"
   ],
   "metadata": {
    "collapsed": false
   }
  },
  {
   "cell_type": "code",
   "execution_count": 15,
   "metadata": {},
   "outputs": [
    {
     "name": "stdout",
     "output_type": "stream",
     "text": [
      "  label  x0  x1  x2  x3  x4  x5  x6  x7  x8  ...  x1671  x1672  x1673  x1674  \\\n",
      "0     a   1   1   1   1   1   1   1   1   1  ...      1      1      1      1   \n",
      "1     a   1   1   1   1   1   1   1   1   1  ...      1      1      1      1   \n",
      "2     a   1   1   1   1   1   1   1   1   1  ...      1      1      1      1   \n",
      "3     a   1   1   1   1   1   1   1   1   1  ...      1      1      1      1   \n",
      "4     a   1   1   1   1   1   1   1   1   1  ...      1      1      1      1   \n",
      "\n",
      "   x1675  x1676  x1677  x1678  x1679  x1680  \n",
      "0      1      1      1      1      1      1  \n",
      "1      1      1      1      1      1      1  \n",
      "2      1      1      1      1      1      1  \n",
      "3      1      1      1      1      1      1  \n",
      "4      1      1      1      1      1      1  \n",
      "\n",
      "[5 rows x 1682 columns]\n"
     ]
    }
   ],
   "source": [
    "dataset_processed_frame = get_labeled_processed_img_dataframe_multi_proc(INPUT_INDEXED_DATASET, engine=ENGINE, chunk_size=CHUNKSIZE)\n",
    "df_train, df_test = get_train_and_test_set(dataset_processed_frame, PERCENT_OF_TRAIN_SET)\n",
    "\n",
    "print(dataset_processed_frame.head())\n",
    "\n",
    "train_dir = path.join(OUTPUT_PROCESSED_DATASET, \"train\")\n",
    "test_dir = path.join(OUTPUT_PROCESSED_DATASET, \"test\")\n",
    "\n",
    "if not os.path.exists(train_dir):\n",
    "    mkdir(train_dir)\n",
    "if not os.path.exists(test_dir):\n",
    "    mkdir(test_dir)\n",
    "\n",
    "save_csv_chunks(df_train, path.join(train_dir, \"nist_processed_train.csv\"), CHUNKSIZE)\n",
    "save_csv_chunks(df_test, path.join(test_dir, \"nist_processed_test.csv\"), CHUNKSIZE)"
   ]
  }
 ],
 "metadata": {
  "kernelspec": {
   "display_name": "Python 3 (ipykernel)",
   "language": "python",
   "name": "python3"
  },
  "language_info": {
   "codemirror_mode": {
    "name": "ipython",
    "version": 3
   },
   "file_extension": ".py",
   "mimetype": "text/x-python",
   "name": "python",
   "nbconvert_exporter": "python",
   "pygments_lexer": "ipython3",
   "version": "3.8.10"
  }
 },
 "nbformat": 4,
 "nbformat_minor": 1
}
