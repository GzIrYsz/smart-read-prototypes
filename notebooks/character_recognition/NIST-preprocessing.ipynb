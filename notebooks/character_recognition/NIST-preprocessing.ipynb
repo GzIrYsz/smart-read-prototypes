{
 "cells": [
  {
   "cell_type": "markdown",
   "metadata": {},
   "source": [
    "# Construction du dataset pour la Reconnaissance Optique de caractère et préprocessing à partir du fichier csv fabriqué par le notebook \"NIST-indexing\"\n",
    "\n",
    "Dans ce notebook sera présenté le pré-traitement du jeu de donnée [NIST 2nd](https://www.nist.gov/srd/nist-special-database-19) afin d'obtenir un nouveau jeu de donnée données plus facilement utilisable pour notre algorithme de reconnaissance de caractère\n",
    "\n",
    "Ce pré-traitement de donnée aura plusieurs objectifs :\n",
    "- Charger les images du dataset\n",
    "- Appliquer des pré-traitements sur celle-ci\n",
    "- Fabriquer un set d'entrainement et un set de test\n",
    "\n",
    "**structure du nouveau dataset obtenu:**\n",
    " - NIST-dataset\n",
    "    - train_set\n",
    "        - a\n",
    "            - a000001.png\n",
    "            - a000002.png\n",
    "            ...\n",
    "            ...\n",
    "            - a00000n.png\n",
    "        - b ....\n",
    "        ...\n",
    "        - z ...\n",
    "    - test_set\n",
    "        - a\n",
    "            - a000001.png\n",
    "            - a000002.png\n",
    "            ...\n",
    "            ...\n",
    "            - a00000n.png\n",
    "        - b ....\n",
    "        ...\n",
    "        - z ..."
   ]
  },
  {
   "cell_type": "markdown",
   "metadata": {},
   "source": [
    "## Importation des dépendances"
   ]
  },
  {
   "cell_type": "code",
   "execution_count": 1,
   "metadata": {},
   "outputs": [],
   "source": [
    "import os\n",
    "from os import path, mkdir\n",
    "import pandas as pd\n",
    "import numpy as np\n",
    "import matplotlib.pyplot as plt\n",
    "from skimage.color import rgb2gray\n",
    "from skimage.transform import resize, rescale\n",
    "from skimage.util import crop"
   ]
  },
  {
   "cell_type": "markdown",
   "metadata": {},
   "source": [
    "## Chargement du dataframe obtenu par le notebook indexing"
   ]
  },
  {
   "cell_type": "code",
   "execution_count": 2,
   "metadata": {},
   "outputs": [
    {
     "data": {
      "text/plain": "   Unnamed: 0.1  Unnamed: 0 letter  hsf_number    old_file_name new_file_name  \\\n0             0           0      a           0  hsf_0_00210.png     a0000.png   \n1             1           1      a           0  hsf_0_01890.png     a0010.png   \n2             2           2      a           0  hsf_0_02711.png     a0020.png   \n3             3           3      a           0  hsf_0_03485.png     a0030.png   \n4             4           4      a           0  hsf_0_01265.png     a0040.png   \n\n                               old_path                           new_path  \n0  ../../data/raw/NIST-dataset/61/hsf_0  ../../data/processed/NIST-dataset  \n1  ../../data/raw/NIST-dataset/61/hsf_0  ../../data/processed/NIST-dataset  \n2  ../../data/raw/NIST-dataset/61/hsf_0  ../../data/processed/NIST-dataset  \n3  ../../data/raw/NIST-dataset/61/hsf_0  ../../data/processed/NIST-dataset  \n4  ../../data/raw/NIST-dataset/61/hsf_0  ../../data/processed/NIST-dataset  ",
      "text/html": "<div>\n<style scoped>\n    .dataframe tbody tr th:only-of-type {\n        vertical-align: middle;\n    }\n\n    .dataframe tbody tr th {\n        vertical-align: top;\n    }\n\n    .dataframe thead th {\n        text-align: right;\n    }\n</style>\n<table border=\"1\" class=\"dataframe\">\n  <thead>\n    <tr style=\"text-align: right;\">\n      <th></th>\n      <th>Unnamed: 0.1</th>\n      <th>Unnamed: 0</th>\n      <th>letter</th>\n      <th>hsf_number</th>\n      <th>old_file_name</th>\n      <th>new_file_name</th>\n      <th>old_path</th>\n      <th>new_path</th>\n    </tr>\n  </thead>\n  <tbody>\n    <tr>\n      <th>0</th>\n      <td>0</td>\n      <td>0</td>\n      <td>a</td>\n      <td>0</td>\n      <td>hsf_0_00210.png</td>\n      <td>a0000.png</td>\n      <td>../../data/raw/NIST-dataset/61/hsf_0</td>\n      <td>../../data/processed/NIST-dataset</td>\n    </tr>\n    <tr>\n      <th>1</th>\n      <td>1</td>\n      <td>1</td>\n      <td>a</td>\n      <td>0</td>\n      <td>hsf_0_01890.png</td>\n      <td>a0010.png</td>\n      <td>../../data/raw/NIST-dataset/61/hsf_0</td>\n      <td>../../data/processed/NIST-dataset</td>\n    </tr>\n    <tr>\n      <th>2</th>\n      <td>2</td>\n      <td>2</td>\n      <td>a</td>\n      <td>0</td>\n      <td>hsf_0_02711.png</td>\n      <td>a0020.png</td>\n      <td>../../data/raw/NIST-dataset/61/hsf_0</td>\n      <td>../../data/processed/NIST-dataset</td>\n    </tr>\n    <tr>\n      <th>3</th>\n      <td>3</td>\n      <td>3</td>\n      <td>a</td>\n      <td>0</td>\n      <td>hsf_0_03485.png</td>\n      <td>a0030.png</td>\n      <td>../../data/raw/NIST-dataset/61/hsf_0</td>\n      <td>../../data/processed/NIST-dataset</td>\n    </tr>\n    <tr>\n      <th>4</th>\n      <td>4</td>\n      <td>4</td>\n      <td>a</td>\n      <td>0</td>\n      <td>hsf_0_01265.png</td>\n      <td>a0040.png</td>\n      <td>../../data/raw/NIST-dataset/61/hsf_0</td>\n      <td>../../data/processed/NIST-dataset</td>\n    </tr>\n  </tbody>\n</table>\n</div>"
     },
     "execution_count": 2,
     "metadata": {},
     "output_type": "execute_result"
    }
   ],
   "source": [
    "dataset_indexing_frame = pd.read_csv(\"../../data/processed/NIST-dataset/nist.csv\")\n",
    "dataset_indexing_frame.head(5)"
   ]
  },
  {
   "cell_type": "markdown",
   "metadata": {},
   "source": [
    "## Définition des parmètres souhaités pour le prétraitement des image"
   ]
  },
  {
   "cell_type": "code",
   "execution_count": 3,
   "metadata": {},
   "outputs": [],
   "source": [
    "NEW_IMAGE_SIZE = (50, 50)\n",
    "PERCENT_OF_TRAIN_SET = 0.7\n",
    "CROP_PX = 30\n",
    "RESCALE_PERCENT = 0.6\n",
    "OUTPUT_PROCESSED_DATASET = \"../../data/processed/NIST-dataset/\""
   ]
  },
  {
   "cell_type": "markdown",
   "metadata": {},
   "source": [
    "## Définition de la fonction de prétraitement d'image\n",
    "Les objectifs du prétraitement des images sont de réduire la dimension des images afin de faciliter l'entrainement de notre modèle.\n",
    "Pour ce faire, lors du prétraitement, nous allons transformer l'image *rgb* en image *noire et blanche*. Toujours pour réduire la dimension de l'image, on va effectuer un rognage sur les bords de celle-ci afin de garder uniquement les informations essentielles de l'image c'est-à-dire le dessin de la lettre. Et pour finir on va redimensionner l'image pour réduire une fois de plus sa *dimension*."
   ]
  },
  {
   "cell_type": "code",
   "execution_count": 4,
   "metadata": {},
   "outputs": [],
   "source": [
    "def preprocessing(image_path):\n",
    "    img = plt.imread(image_path)\n",
    "    img_gray_scale = rgb2gray(img)\n",
    "    img_gray_scale_cropped = crop(img_gray_scale, CROP_PX)\n",
    "    image_processed = rescale(img_gray_scale_cropped, RESCALE_PERCENT)\n",
    "\n",
    "    return np.round(image_processed, decimals=0).astype(np.uint8)"
   ]
  },
  {
   "cell_type": "code",
   "execution_count": 5,
   "metadata": {},
   "outputs": [
    {
     "data": {
      "text/plain": "dtype('uint8')"
     },
     "execution_count": 5,
     "metadata": {},
     "output_type": "execute_result"
    }
   ],
   "source": [
    "image_number = 19\n",
    "image_path = path.join(dataset_indexing_frame[\"old_path\"][image_number], dataset_indexing_frame[\"old_file_name\"][image_number])\n",
    "original_image = plt.imread(image_path)\n",
    "preprocessed_img = preprocessing(image_path)\n",
    "preprocessed_img.dtype"
   ]
  },
  {
   "cell_type": "markdown",
   "metadata": {},
   "source": [
    "Avant prétraitement"
   ]
  },
  {
   "cell_type": "code",
   "execution_count": 6,
   "metadata": {},
   "outputs": [
    {
     "data": {
      "text/plain": "<Figure size 640x480 with 1 Axes>",
      "image/png": "[encoded data removed]"
     },
     "metadata": {},
     "output_type": "display_data"
    }
   ],
   "source": [
    "plt.imshow(original_image)\n",
    "plt.show()"
   ]
  },
  {
   "cell_type": "markdown",
   "metadata": {},
   "source": [
    "Après prétraitement"
   ]
  },
  {
   "cell_type": "code",
   "execution_count": 7,
   "metadata": {},
   "outputs": [
    {
     "data": {
      "text/plain": "<Figure size 640x480 with 1 Axes>",
      "image/png": "[encoded data removed]"
     },
     "metadata": {},
     "output_type": "display_data"
    }
   ],
   "source": [
    "plt.imshow(preprocessed_img)\n",
    "plt.show()"
   ]
  },
  {
   "cell_type": "markdown",
   "metadata": {},
   "source": [
    "Comparaison des dimensions des images avant et après le prétraitement."
   ]
  },
  {
   "cell_type": "code",
   "execution_count": 8,
   "metadata": {},
   "outputs": [
    {
     "name": "stdout",
     "output_type": "stream",
     "text": [
      "(128, 128, 3)\n",
      "(41, 41)\n"
     ]
    }
   ],
   "source": [
    "print(original_image.shape)\n",
    "print(preprocessed_img.shape)"
   ]
  },
  {
   "cell_type": "markdown",
   "metadata": {},
   "source": [
    "## Sauvegarde du dataest avec les images prétraités\n",
    "\n",
    "Dans cette section, nous allons définir les fonctions qui nous permettront de sauvegarder notre dataset prétraité sur le disque en interprétant les informations du dataframe indexé."
   ]
  },
  {
   "cell_type": "markdown",
   "metadata": {},
   "source": [
    "### Fonction de sauvegarde du dataframe\n",
    "\n",
    "Cette fonction est chargée de sauvegarder de prétraiter les images et de les sauvegarder au bon endroit conformément au dataframe passé en paramètre"
   ]
  },
  {
   "cell_type": "code",
   "execution_count": 9,
   "metadata": {},
   "outputs": [],
   "source": [
    "def get_labeled_processed_img(dataframe):\n",
    "    data = []\n",
    "    for index, row in dataframe.iterrows():\n",
    "        image_old_path = path.join(row[\"old_path\"], row[\"old_file_name\"])\n",
    "        label = row[\"letter\"]\n",
    "        pretreated_img = preprocessing(image_old_path)\n",
    "        data.append((label, pretreated_img))\n",
    "\n",
    "    return data"
   ]
  },
  {
   "cell_type": "code",
   "execution_count": 10,
   "metadata": {},
   "outputs": [],
   "source": [
    "def get_compatible_x_shape_for_save(x_set):\n",
    "    x, y, z = x_set.shape\n",
    "    return x_set.reshape(x, y * z)"
   ]
  },
  {
   "cell_type": "code",
   "execution_count": 11,
   "metadata": {},
   "outputs": [
    {
     "data": {
      "text/plain": "      label  x0  x1  x2  x3  x4  x5  x6  x7  x8  ...  x1671  x1672  x1673  \\\n0         a   1   1   1   1   1   1   1   1   1  ...      1      1      1   \n1         a   1   1   1   1   1   1   1   1   1  ...      1      1      1   \n2         a   1   1   1   1   1   1   1   1   1  ...      1      1      1   \n3         a   1   1   1   1   1   1   1   1   1  ...      1      1      1   \n4         a   1   1   1   1   1   1   1   1   1  ...      1      1      1   \n...     ...  ..  ..  ..  ..  ..  ..  ..  ..  ..  ...    ...    ...    ...   \n12072     Z   1   1   1   1   1   1   1   1   1  ...      1      1      1   \n12073     Z   1   1   1   1   1   1   1   1   1  ...      1      1      1   \n12074     Z   1   1   1   1   1   1   1   1   1  ...      1      1      1   \n12075     Z   1   1   1   1   1   1   1   1   1  ...      1      1      1   \n12076     Z   1   1   1   1   1   1   1   1   1  ...      1      1      1   \n\n       x1674  x1675  x1676  x1677  x1678  x1679  x1680  \n0          1      1      1      1      1      1      1  \n1          1      1      1      1      1      1      1  \n2          1      1      1      1      1      1      1  \n3          1      1      1      1      1      1      1  \n4          1      1      1      1      1      1      1  \n...      ...    ...    ...    ...    ...    ...    ...  \n12072      1      1      1      1      1      1      1  \n12073      1      1      1      1      1      1      1  \n12074      1      1      1      1      1      1      1  \n12075      1      1      1      1      1      1      1  \n12076      1      1      1      1      1      1      1  \n\n[12077 rows x 1682 columns]",
      "text/html": "<div>\n<style scoped>\n    .dataframe tbody tr th:only-of-type {\n        vertical-align: middle;\n    }\n\n    .dataframe tbody tr th {\n        vertical-align: top;\n    }\n\n    .dataframe thead th {\n        text-align: right;\n    }\n</style>\n<table border=\"1\" class=\"dataframe\">\n  <thead>\n    <tr style=\"text-align: right;\">\n      <th></th>\n      <th>label</th>\n      <th>x0</th>\n      <th>x1</th>\n      <th>x2</th>\n      <th>x3</th>\n      <th>x4</th>\n      <th>x5</th>\n      <th>x6</th>\n      <th>x7</th>\n      <th>x8</th>\n      <th>...</th>\n      <th>x1671</th>\n      <th>x1672</th>\n      <th>x1673</th>\n      <th>x1674</th>\n      <th>x1675</th>\n      <th>x1676</th>\n      <th>x1677</th>\n      <th>x1678</th>\n      <th>x1679</th>\n      <th>x1680</th>\n    </tr>\n  </thead>\n  <tbody>\n    <tr>\n      <th>0</th>\n      <td>a</td>\n      <td>1</td>\n      <td>1</td>\n      <td>1</td>\n      <td>1</td>\n      <td>1</td>\n      <td>1</td>\n      <td>1</td>\n      <td>1</td>\n      <td>1</td>\n      <td>...</td>\n      <td>1</td>\n      <td>1</td>\n      <td>1</td>\n      <td>1</td>\n      <td>1</td>\n      <td>1</td>\n      <td>1</td>\n      <td>1</td>\n      <td>1</td>\n      <td>1</td>\n    </tr>\n    <tr>\n      <th>1</th>\n      <td>a</td>\n      <td>1</td>\n      <td>1</td>\n      <td>1</td>\n      <td>1</td>\n      <td>1</td>\n      <td>1</td>\n      <td>1</td>\n      <td>1</td>\n      <td>1</td>\n      <td>...</td>\n      <td>1</td>\n      <td>1</td>\n      <td>1</td>\n      <td>1</td>\n      <td>1</td>\n      <td>1</td>\n      <td>1</td>\n      <td>1</td>\n      <td>1</td>\n      <td>1</td>\n    </tr>\n    <tr>\n      <th>2</th>\n      <td>a</td>\n      <td>1</td>\n      <td>1</td>\n      <td>1</td>\n      <td>1</td>\n      <td>1</td>\n      <td>1</td>\n      <td>1</td>\n      <td>1</td>\n      <td>1</td>\n      <td>...</td>\n      <td>1</td>\n      <td>1</td>\n      <td>1</td>\n      <td>1</td>\n      <td>1</td>\n      <td>1</td>\n      <td>1</td>\n      <td>1</td>\n      <td>1</td>\n      <td>1</td>\n    </tr>\n    <tr>\n      <th>3</th>\n      <td>a</td>\n      <td>1</td>\n      <td>1</td>\n      <td>1</td>\n      <td>1</td>\n      <td>1</td>\n      <td>1</td>\n      <td>1</td>\n      <td>1</td>\n      <td>1</td>\n      <td>...</td>\n      <td>1</td>\n      <td>1</td>\n      <td>1</td>\n      <td>1</td>\n      <td>1</td>\n      <td>1</td>\n      <td>1</td>\n      <td>1</td>\n      <td>1</td>\n      <td>1</td>\n    </tr>\n    <tr>\n      <th>4</th>\n      <td>a</td>\n      <td>1</td>\n      <td>1</td>\n      <td>1</td>\n      <td>1</td>\n      <td>1</td>\n      <td>1</td>\n      <td>1</td>\n      <td>1</td>\n      <td>1</td>\n      <td>...</td>\n      <td>1</td>\n      <td>1</td>\n      <td>1</td>\n      <td>1</td>\n      <td>1</td>\n      <td>1</td>\n      <td>1</td>\n      <td>1</td>\n      <td>1</td>\n      <td>1</td>\n    </tr>\n    <tr>\n      <th>...</th>\n      <td>...</td>\n      <td>...</td>\n      <td>...</td>\n      <td>...</td>\n      <td>...</td>\n      <td>...</td>\n      <td>...</td>\n      <td>...</td>\n      <td>...</td>\n      <td>...</td>\n      <td>...</td>\n      <td>...</td>\n      <td>...</td>\n      <td>...</td>\n      <td>...</td>\n      <td>...</td>\n      <td>...</td>\n      <td>...</td>\n      <td>...</td>\n      <td>...</td>\n      <td>...</td>\n    </tr>\n    <tr>\n      <th>12072</th>\n      <td>Z</td>\n      <td>1</td>\n      <td>1</td>\n      <td>1</td>\n      <td>1</td>\n      <td>1</td>\n      <td>1</td>\n      <td>1</td>\n      <td>1</td>\n      <td>1</td>\n      <td>...</td>\n      <td>1</td>\n      <td>1</td>\n      <td>1</td>\n      <td>1</td>\n      <td>1</td>\n      <td>1</td>\n      <td>1</td>\n      <td>1</td>\n      <td>1</td>\n      <td>1</td>\n    </tr>\n    <tr>\n      <th>12073</th>\n      <td>Z</td>\n      <td>1</td>\n      <td>1</td>\n      <td>1</td>\n      <td>1</td>\n      <td>1</td>\n      <td>1</td>\n      <td>1</td>\n      <td>1</td>\n      <td>1</td>\n      <td>...</td>\n      <td>1</td>\n      <td>1</td>\n      <td>1</td>\n      <td>1</td>\n      <td>1</td>\n      <td>1</td>\n      <td>1</td>\n      <td>1</td>\n      <td>1</td>\n      <td>1</td>\n    </tr>\n    <tr>\n      <th>12074</th>\n      <td>Z</td>\n      <td>1</td>\n      <td>1</td>\n      <td>1</td>\n      <td>1</td>\n      <td>1</td>\n      <td>1</td>\n      <td>1</td>\n      <td>1</td>\n      <td>1</td>\n      <td>...</td>\n      <td>1</td>\n      <td>1</td>\n      <td>1</td>\n      <td>1</td>\n      <td>1</td>\n      <td>1</td>\n      <td>1</td>\n      <td>1</td>\n      <td>1</td>\n      <td>1</td>\n    </tr>\n    <tr>\n      <th>12075</th>\n      <td>Z</td>\n      <td>1</td>\n      <td>1</td>\n      <td>1</td>\n      <td>1</td>\n      <td>1</td>\n      <td>1</td>\n      <td>1</td>\n      <td>1</td>\n      <td>1</td>\n      <td>...</td>\n      <td>1</td>\n      <td>1</td>\n      <td>1</td>\n      <td>1</td>\n      <td>1</td>\n      <td>1</td>\n      <td>1</td>\n      <td>1</td>\n      <td>1</td>\n      <td>1</td>\n    </tr>\n    <tr>\n      <th>12076</th>\n      <td>Z</td>\n      <td>1</td>\n      <td>1</td>\n      <td>1</td>\n      <td>1</td>\n      <td>1</td>\n      <td>1</td>\n      <td>1</td>\n      <td>1</td>\n      <td>1</td>\n      <td>...</td>\n      <td>1</td>\n      <td>1</td>\n      <td>1</td>\n      <td>1</td>\n      <td>1</td>\n      <td>1</td>\n      <td>1</td>\n      <td>1</td>\n      <td>1</td>\n      <td>1</td>\n    </tr>\n  </tbody>\n</table>\n<p>12077 rows × 1682 columns</p>\n</div>"
     },
     "execution_count": 11,
     "metadata": {},
     "output_type": "execute_result"
    }
   ],
   "source": [
    "def get_labeled_processed_img_dataframe(dataframe):\n",
    "    data = get_labeled_processed_img(dataframe)\n",
    "    y_raw_set, x_raw_set = list(zip(*data))\n",
    "    y_set = np.array(y_raw_set)\n",
    "    x_set = get_compatible_x_shape_for_save(np.array(x_raw_set))\n",
    "\n",
    "    x_set_frame = pd.DataFrame(x_set, columns=[f\"x{i}\" for i in range(x_set.shape[1])])\n",
    "    y_set_frame = pd.DataFrame(y_set, columns=[\"label\"])\n",
    "\n",
    "    return pd.concat([y_set_frame, x_set_frame], axis=1)\n",
    "\n",
    "\n",
    "dataset_frame =get_labeled_processed_img_dataframe(dataset_indexing_frame)"
   ]
  },
  {
   "cell_type": "markdown",
   "metadata": {},
   "source": [
    "### Fabriquer le train set et le test set\n",
    "\n",
    "Pour cela nous avons la fonction définie ci-dessous est chargée de séparer le dataset indexé initial contenu dans un dataframe pour enfin retourner un dataframe contenant le train set et un autre dataframe contenant le test set"
   ]
  },
  {
   "cell_type": "code",
   "execution_count": 12,
   "metadata": {},
   "outputs": [],
   "source": [
    "def get_train_and_test_set(dataframe, percent_of_train):\n",
    "        dataframe_train = dataframe.sample(frac=percent_of_train, random_state=60)\n",
    "        dataframe_test = dataframe[~dataframe.isin(dataframe_train)].dropna() # Sélectionne les éléments de dataframe qui ne sont pas dans dataframe_train\n",
    "\n",
    "        return dataframe_train, dataframe_test"
   ]
  },
  {
   "cell_type": "markdown",
   "metadata": {},
   "source": [
    "### On utilise les fonctions définis dans ci-dessus afin de sauvegarder proprement le dataset"
   ]
  },
  {
   "cell_type": "code",
   "execution_count": 16,
   "metadata": {},
   "outputs": [],
   "source": [
    "df_train, df_test = get_train_and_test_set(dataset_frame, PERCENT_OF_TRAIN_SET)\n",
    "\n",
    "train_dir = path.join(OUTPUT_PROCESSED_DATASET, \"train\")\n",
    "test_dir = path.join(OUTPUT_PROCESSED_DATASET, \"test\")\n",
    "\n",
    "if not os.path.exists(train_dir):\n",
    "    mkdir(train_dir)\n",
    "if not os.path.exists(test_dir):\n",
    "    mkdir(test_dir)\n",
    "\n",
    "df_train.to_csv(path.join(train_dir, \"nist_processed_train.csv\"))\n",
    "df_train.to_csv(path.join(test_dir, \"nist_processed_test.csv\"))"
   ]
  }
 ],
 "metadata": {
  "kernelspec": {
   "display_name": "Python 3 (ipykernel)",
   "language": "python",
   "name": "python3"
  },
  "language_info": {
   "codemirror_mode": {
    "name": "ipython",
    "version": 3
   },
   "file_extension": ".py",
   "mimetype": "text/x-python",
   "name": "python",
   "nbconvert_exporter": "python",
   "pygments_lexer": "ipython3",
   "version": "3.10.6"
  }
 },
 "nbformat": 4,
 "nbformat_minor": 1
}
