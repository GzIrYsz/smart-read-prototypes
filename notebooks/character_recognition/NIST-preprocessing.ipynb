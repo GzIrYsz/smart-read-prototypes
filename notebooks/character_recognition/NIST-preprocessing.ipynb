{
 "cells": [
  {
   "cell_type": "markdown",
   "metadata": {},
   "source": [
    "# Construction du dataset pour la Reconnaissance Optique de caractère et préprocessing à partir du fichier csv fabriqué par le notebook \"NIST-indexing\"\n",
    "\n",
    "Dans ce notebook sera présenté le pré-traitement du jeu de donnée [NIST 2nd](https://www.nist.gov/srd/nist-special-database-19) afin d'obtenir un nouveau jeu de donnée données plus facilement utilisable pour notre algorithme de reconnaissance de caractère\n",
    "\n",
    "Ce pré-traitement de donnée aura plusieurs objectifs :\n",
    "- Charger les images du dataset\n",
    "- Appliquer des pré-traitements sur celle-ci\n",
    "- Fabriquer un set d'entrainement et un set de test\n",
    "\n",
    "**structure du nouveau dataset obtenu:**\n",
    " - NIST-dataset\n",
    "    - train_set\n",
    "        - a\n",
    "            - a000001.png\n",
    "            - a000002.png\n",
    "            ...\n",
    "            ...\n",
    "            - a00000n.png\n",
    "        - b ....\n",
    "        ...\n",
    "        - z ...\n",
    "    - test_set\n",
    "        - a\n",
    "            - a000001.png\n",
    "            - a000002.png\n",
    "            ...\n",
    "            ...\n",
    "            - a00000n.png\n",
    "        - b ....\n",
    "        ...\n",
    "        - z ..."
   ]
  },
  {
   "cell_type": "markdown",
   "metadata": {},
   "source": [
    "## Importation des dépendances"
   ]
  },
  {
   "cell_type": "code",
   "execution_count": 162,
   "metadata": {},
   "outputs": [],
   "source": [
    "from os import path, mkdir\n",
    "import pandas as pd\n",
    "import numpy as np\n",
    "import matplotlib.pyplot as plt\n",
    "from skimage.color import rgb2gray\n",
    "from skimage.transform import resize, rescale\n",
    "from skimage.util import crop\n",
    "from skimage.io import imsave"
   ]
  },
  {
   "cell_type": "markdown",
   "metadata": {},
   "source": [
    "## Chargement du dataframe obtenu par le notebook indexing"
   ]
  },
  {
   "cell_type": "code",
   "execution_count": 163,
   "metadata": {},
   "outputs": [
    {
     "data": {
      "text/plain": "   Unnamed: 0.1  Unnamed: 0 letter  hsf_number    old_file_name new_file_name  \\\n0             0           0      a           0  hsf_0_00659.png     a0000.png   \n1             1           1      a           0  hsf_0_02848.png     a0010.png   \n2             2           2      a           0  hsf_0_03149.png     a0020.png   \n3             3           3      a           0  hsf_0_02946.png     a0030.png   \n4             4           4      a           0  hsf_0_00638.png     a0040.png   \n\n                               old_path                           new_path  \n0  ../../data/raw/NIST-dataset\\61\\hsf_0  ../../data/processed/NIST-dataset  \n1  ../../data/raw/NIST-dataset\\61\\hsf_0  ../../data/processed/NIST-dataset  \n2  ../../data/raw/NIST-dataset\\61\\hsf_0  ../../data/processed/NIST-dataset  \n3  ../../data/raw/NIST-dataset\\61\\hsf_0  ../../data/processed/NIST-dataset  \n4  ../../data/raw/NIST-dataset\\61\\hsf_0  ../../data/processed/NIST-dataset  ",
      "text/html": "<div>\n<style scoped>\n    .dataframe tbody tr th:only-of-type {\n        vertical-align: middle;\n    }\n\n    .dataframe tbody tr th {\n        vertical-align: top;\n    }\n\n    .dataframe thead th {\n        text-align: right;\n    }\n</style>\n<table border=\"1\" class=\"dataframe\">\n  <thead>\n    <tr style=\"text-align: right;\">\n      <th></th>\n      <th>Unnamed: 0.1</th>\n      <th>Unnamed: 0</th>\n      <th>letter</th>\n      <th>hsf_number</th>\n      <th>old_file_name</th>\n      <th>new_file_name</th>\n      <th>old_path</th>\n      <th>new_path</th>\n    </tr>\n  </thead>\n  <tbody>\n    <tr>\n      <th>0</th>\n      <td>0</td>\n      <td>0</td>\n      <td>a</td>\n      <td>0</td>\n      <td>hsf_0_00659.png</td>\n      <td>a0000.png</td>\n      <td>../../data/raw/NIST-dataset\\61\\hsf_0</td>\n      <td>../../data/processed/NIST-dataset</td>\n    </tr>\n    <tr>\n      <th>1</th>\n      <td>1</td>\n      <td>1</td>\n      <td>a</td>\n      <td>0</td>\n      <td>hsf_0_02848.png</td>\n      <td>a0010.png</td>\n      <td>../../data/raw/NIST-dataset\\61\\hsf_0</td>\n      <td>../../data/processed/NIST-dataset</td>\n    </tr>\n    <tr>\n      <th>2</th>\n      <td>2</td>\n      <td>2</td>\n      <td>a</td>\n      <td>0</td>\n      <td>hsf_0_03149.png</td>\n      <td>a0020.png</td>\n      <td>../../data/raw/NIST-dataset\\61\\hsf_0</td>\n      <td>../../data/processed/NIST-dataset</td>\n    </tr>\n    <tr>\n      <th>3</th>\n      <td>3</td>\n      <td>3</td>\n      <td>a</td>\n      <td>0</td>\n      <td>hsf_0_02946.png</td>\n      <td>a0030.png</td>\n      <td>../../data/raw/NIST-dataset\\61\\hsf_0</td>\n      <td>../../data/processed/NIST-dataset</td>\n    </tr>\n    <tr>\n      <th>4</th>\n      <td>4</td>\n      <td>4</td>\n      <td>a</td>\n      <td>0</td>\n      <td>hsf_0_00638.png</td>\n      <td>a0040.png</td>\n      <td>../../data/raw/NIST-dataset\\61\\hsf_0</td>\n      <td>../../data/processed/NIST-dataset</td>\n    </tr>\n  </tbody>\n</table>\n</div>"
     },
     "execution_count": 163,
     "metadata": {},
     "output_type": "execute_result"
    }
   ],
   "source": [
    "dataset = pd.read_csv(\"../../data/processed/NIST-dataset/nist.csv\")\n",
    "dataset.head(5)"
   ]
  },
  {
   "cell_type": "markdown",
   "metadata": {},
   "source": [
    "## Définition des parmètres souhaités pour le prétraitement des image"
   ]
  },
  {
   "cell_type": "code",
   "execution_count": 164,
   "metadata": {},
   "outputs": [],
   "source": [
    "NEW_IMAGE_SIZE = (50, 50)\n",
    "PERCENT_OF_TRAIN_SET = 0.7\n",
    "CROP_PX = 30\n",
    "RESCALE_PERCENT = 0.6"
   ]
  },
  {
   "cell_type": "markdown",
   "metadata": {},
   "source": [
    "## Définition de la fonction de prétraitement d'image\n",
    "Les objectifs du prétraitement des images sont de réduire la dimension des images afin de faciliter l'entrainement de notre modèle.\n",
    "Pour ce faire, lors du prétraitement, nous allons transformer l'image *rgb* en image *noire et blanche*. Toujours pour réduire la dimension de l'image, on va effectuer un rognage sur les bords de celle-ci afin de garder uniquement les informations essentielles de l'image c'est-à-dire le dessin de la lettre. Et pour finir on va redimensionner l'image pour réduire une fois de plus sa *dimension*."
   ]
  },
  {
   "cell_type": "code",
   "execution_count": 165,
   "metadata": {},
   "outputs": [],
   "source": [
    "def preprocessing(image_path):\n",
    "    img = plt.imread(image_path)\n",
    "    img_gray_scale = rgb2gray(img)\n",
    "    img_gray_scale_cropped = (crop(img_gray_scale, CROP_PX) * 255).astype(np.uint8)\n",
    "    image_processed = (rescale(img_gray_scale_cropped, RESCALE_PERCENT) * 255).astype(np.uint8)\n",
    "    # image_processed = resize(img_gray_scale_cropped, NEW_IMAGE_SIZE)\n",
    "\n",
    "    return image_processed"
   ]
  },
  {
   "cell_type": "code",
   "execution_count": 166,
   "metadata": {},
   "outputs": [
    {
     "data": {
      "text/plain": "dtype('uint8')"
     },
     "execution_count": 166,
     "metadata": {},
     "output_type": "execute_result"
    }
   ],
   "source": [
    "image_number = 19\n",
    "image_path = path.join(dataset[\"old_path\"][image_number], dataset[\"old_file_name\"][image_number])\n",
    "original_image = plt.imread(image_path)\n",
    "preprocessed_img = preprocessing(image_path)\n",
    "preprocessed_img.dtype"
   ]
  },
  {
   "cell_type": "markdown",
   "metadata": {},
   "source": [
    "Avant prétraitement"
   ]
  },
  {
   "cell_type": "code",
   "execution_count": 167,
   "metadata": {},
   "outputs": [
    {
     "data": {
      "text/plain": "<Figure size 640x480 with 1 Axes>",
      "image/png": "[encoded data removed]"
     },
     "metadata": {},
     "output_type": "display_data"
    }
   ],
   "source": [
    "plt.imshow(original_image)\n",
    "plt.show()"
   ]
  },
  {
   "cell_type": "markdown",
   "metadata": {},
   "source": [
    "Après prétraitement"
   ]
  },
  {
   "cell_type": "code",
   "execution_count": 168,
   "metadata": {},
   "outputs": [
    {
     "data": {
      "text/plain": "<Figure size 640x480 with 1 Axes>",
      "image/png": "[encoded data removed]"
     },
     "metadata": {},
     "output_type": "display_data"
    }
   ],
   "source": [
    "plt.imshow(preprocessed_img)\n",
    "plt.show()"
   ]
  },
  {
   "cell_type": "markdown",
   "metadata": {},
   "source": [
    "Comparaison des dimensions des images avant et après le prétraitement."
   ]
  },
  {
   "cell_type": "code",
   "execution_count": 169,
   "metadata": {},
   "outputs": [
    {
     "name": "stdout",
     "output_type": "stream",
     "text": [
      "(128, 128, 3)\n",
      "(41, 41)\n"
     ]
    }
   ],
   "source": [
    "print(original_image.shape)\n",
    "print(preprocessed_img.shape)"
   ]
  },
  {
   "cell_type": "markdown",
   "metadata": {},
   "source": [
    "## Sauvegarde du dataest avec les images prétraités\n",
    "\n",
    "Dans cette section, nous allons définir les fonctions qui nous permettront de sauvegarder notre dataset prétraité sur le disque en interprétant les informations du dataframe indexé."
   ]
  },
  {
   "cell_type": "markdown",
   "metadata": {},
   "source": [
    "### Fonction de sauvegarde du dataframe\n",
    "\n",
    "Cette fonction est chargée de sauvegarder de prétraiter les images et de les sauvegarder au bon endroit conformément au dataframe passé en paramètre"
   ]
  },
  {
   "cell_type": "code",
   "execution_count": 170,
   "metadata": {},
   "outputs": [],
   "source": [
    "def save_preprocessed_img_from_dataframe(dataframe, destination_folder):\n",
    "    output_folder = dataframe.head(1).values[0][7]\n",
    "    mkdir(path.join(output_folder, destination_folder))\n",
    "    for index, row in dataframe.iterrows():\n",
    "        image_old_path = path.join(row[\"old_path\"], row[\"old_file_name\"])\n",
    "        image_new_path = path.join(row[\"new_path\"], destination_folder, row[\"new_file_name\"])\n",
    "\n",
    "        pretreated_img = preprocessing(image_old_path)\n",
    "        imsave(image_new_path, pretreated_img)\n",
    "\n"
   ]
  },
  {
   "cell_type": "markdown",
   "metadata": {},
   "source": [
    "### Fabriquer le train set et le test set\n",
    "\n",
    "Pour cela nous avons la fonction définie ci-dessous est chargée de séparer le dataset indexé initial contenu dans un dataframe pour enfin retourner un dataframe contenant le train set et un autre dataframe contenant le test set"
   ]
  },
  {
   "cell_type": "code",
   "execution_count": 171,
   "metadata": {},
   "outputs": [],
   "source": [
    "def get_train_and_test_set(dataframe, percent_of_train):\n",
    "        dataframe_train = dataframe.sample(frac=percent_of_train, random_state=60)\n",
    "        dataframe_test = dataframe[~dataframe.isin(dataframe_train)].dropna() # Sélectionne les éléments de dataframe qui ne sont pas dans dataframe_train\n",
    "\n",
    "        return dataframe_train, dataframe_test"
   ]
  },
  {
   "cell_type": "markdown",
   "metadata": {},
   "source": [
    "### On utilise les fonctions définis dans ci-dessus afin de sauvegarder proprement le dataset"
   ]
  },
  {
   "cell_type": "code",
   "execution_count": 172,
   "metadata": {},
   "outputs": [],
   "source": [
    "df_train, df_test = get_train_and_test_set(dataset, PERCENT_OF_TRAIN_SET)\n",
    "save_preprocessed_img_from_dataframe(df_test, \"test\")\n",
    "save_preprocessed_img_from_dataframe(df_train, \"train\")"
   ]
  }
 ],
 "metadata": {
  "kernelspec": {
   "display_name": "Python 3 (ipykernel)",
   "language": "python",
   "name": "python3"
  },
  "language_info": {
   "codemirror_mode": {
    "name": "ipython",
    "version": 3
   },
   "file_extension": ".py",
   "mimetype": "text/x-python",
   "name": "python",
   "nbconvert_exporter": "python",
   "pygments_lexer": "ipython3",
   "version": "3.10.6"
  }
 },
 "nbformat": 4,
 "nbformat_minor": 1
}
