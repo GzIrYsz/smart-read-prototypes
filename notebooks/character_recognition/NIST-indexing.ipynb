{
 "cells": [
  {
   "cell_type": "markdown",
   "metadata": {
    "collapsed": true
   },
   "source": [
    "# Construction des dictionnaires pour la Reconnaissance Optique de caractère\n",
    "\n",
    "Dans ce notebook sera présenté le pré-traitement du jeu de donnée [NIST 2nd](https://www.nist.gov/srd/nist-special-database-19) afin d'obtenir un nouveau jeu de donnée données plus facilement utilisable pour notre algorithme de reconnaissance de caractère\n",
    "\n",
    "Ce pré-traitement de donnée aura plusieurs objectifs :\n",
    "- Sélectionner les bonnes données parmis le dataset ( uniquement les lettres majuscules ou minuscules)\n",
    "- Redimensionner les images pour obtenir des images plus petites afin de soulager notre algorithme d'OCR\n",
    "- Trier ses données pour obtenir l'arborescence de dataset qui sera décrit ci-dessous\n",
    "\n",
    "**structure du nouveau dataset obtenu:**\n",
    " - NIST-dataset\n",
    "    - train_set\n",
    "        - a\n",
    "            - a000001.png\n",
    "            - a000002.png\n",
    "            ...\n",
    "            ...\n",
    "            - a00000n.png\n",
    "        - b ....\n",
    "        ...\n",
    "        - z ...\n",
    "    - test_set\n",
    "        - a\n",
    "            - a000001.png\n",
    "            - a000002.png\n",
    "            ...\n",
    "            ...\n",
    "            - a00000n.png\n",
    "        - b ....\n",
    "        ...\n",
    "        - z ...\n",
    "\n",
    "    **Pour exécuter le notebook, renommer le dossier \"by_class\" en \"NIST-dataset\" puis placer celui-ci le sous dossier data/raw.**"
   ]
  },
  {
   "cell_type": "markdown",
   "metadata": {},
   "source": [
    "## Importation des ressources nécessaires\n",
    "\n",
    "### Importation des dépandances."
   ]
  },
  {
   "cell_type": "code",
   "execution_count": 2,
   "metadata": {
    "ExecuteTime": {
     "start_time": "2023-04-20T15:45:34.467024Z",
     "end_time": "2023-04-20T15:45:34.749755Z"
    }
   },
   "outputs": [],
   "source": [
    "import os\n",
    "from glob import glob\n",
    "from random import shuffle\n",
    "from string import ascii_lowercase, ascii_uppercase\n",
    "import pandas as pd"
   ]
  },
  {
   "cell_type": "markdown",
   "metadata": {},
   "source": [
    "## Déclaration des paramètres"
   ]
  },
  {
   "cell_type": "markdown",
   "metadata": {},
   "source": [
    "Le nombre d'HSF que l'on veut charger à une influence directe sur le temps de calculs et la quantité de ressources nécessaires pour exécuter ce notebook.\n",
    "1 HSF représente 1/8 du dataset, donc 4 HSF représenteront 1/2 du dataset"
   ]
  },
  {
   "cell_type": "code",
   "execution_count": 3,
   "metadata": {
    "ExecuteTime": {
     "start_time": "2023-04-20T15:45:34.501019Z",
     "end_time": "2023-04-20T15:45:35.146947Z"
    }
   },
   "outputs": [],
   "source": [
    "DATASET_INPUT=\"../../data/raw/NIST-dataset\" # Chemin ou l'on va récupérer le datatset\n",
    "DATASET_OUTPUT=\"../../data/processed/NIST-dataset\" # Chemin ou le nouveau dataset sera stocké\n",
    "DATASET_CSV_OUTPUT=\"../../data/processed/NIST-dataset/nist.csv\"\n",
    "NUMBER_OF_HSF = [0, 1, 2, 3, 4, 5, 6, 7] # Le nombre de HSF que l'on veut charger\n",
    "PERCENT_OF_DATA = 1\n",
    "RANDOM=True\n",
    "\n",
    "if not os.path.exists(DATASET_OUTPUT):\n",
    "    os.makedirs(DATASET_OUTPUT)"
   ]
  },
  {
   "cell_type": "markdown",
   "metadata": {},
   "source": [
    "## Importation du dataset\n",
    "### seléction des données voulus\n",
    "Dans ce présent notebook, nous voulons sélectionner uniquement les lettres a-z et A-Z. Pour ce faire on doit parcourir l'arborescence du dataset, sachant que chaque caractère sera stocké dans un dossier portant comme nom, le nombre ASCII en hexadécimal correspondant."
   ]
  },
  {
   "cell_type": "code",
   "execution_count": 4,
   "metadata": {
    "scrolled": true,
    "ExecuteTime": {
     "start_time": "2023-04-20T15:45:34.534319Z",
     "end_time": "2023-04-20T15:45:35.228565Z"
    }
   },
   "outputs": [
    {
     "data": {
      "text/plain": "['61', '62', '63', '64', '65']"
     },
     "execution_count": 4,
     "metadata": {},
     "output_type": "execute_result"
    }
   ],
   "source": [
    "alphabet_hex = [hex(ord(char)) for char in ascii_lowercase + ascii_uppercase]\n",
    "alphabet_hex_truncated = [hex_str.split(\"x\")[1] for hex_str in alphabet_hex]\n",
    "\n",
    "alphabet_hex_truncated[:5]"
   ]
  },
  {
   "cell_type": "markdown",
   "metadata": {},
   "source": [
    "## Préparation du dataframe\n",
    "\n",
    "Le but de ses opérations seront de référencer toutes les données voulues du jeu de donnée dans un dataframe panda qui sera utilisé pour effectuer les divers traitements sur les images"
   ]
  },
  {
   "cell_type": "code",
   "execution_count": 5,
   "metadata": {
    "ExecuteTime": {
     "start_time": "2023-04-20T15:45:34.551980Z",
     "end_time": "2023-04-20T15:45:35.228565Z"
    }
   },
   "outputs": [],
   "source": [
    "COLUMNS = [\"letter\", \"hsf_number\", \"old_file_name\", \"new_file_name\",\"old_path\", \"new_path\"]\n",
    "dataset = pd.DataFrame(columns=COLUMNS, dtype=str)"
   ]
  },
  {
   "cell_type": "markdown",
   "metadata": {},
   "source": [
    "## Remplir le dataset\n",
    "Maintenant que les données souhaités sont connus, nous pouvons commencer à remplir le dataset\n",
    "### Fonctions utilitaires"
   ]
  },
  {
   "cell_type": "markdown",
   "metadata": {},
   "source": [
    "Fonction pour récupérer un char depuis une chaine de charactère hexedécimal ascii"
   ]
  },
  {
   "cell_type": "code",
   "execution_count": 6,
   "metadata": {
    "ExecuteTime": {
     "start_time": "2023-04-20T15:45:34.583611Z",
     "end_time": "2023-04-20T15:45:35.309175Z"
    }
   },
   "outputs": [
    {
     "data": {
      "text/plain": "'Z'"
     },
     "execution_count": 6,
     "metadata": {},
     "output_type": "execute_result"
    }
   ],
   "source": [
    "def hex_char_to_str(ascii_hex_truncated_char):\n",
    "    ascii_hex_char = f\"0x{ascii_hex_truncated_char}\"\n",
    "    ascii_decimal = int(ascii_hex_char, 16)\n",
    "    return chr(ascii_decimal)\n",
    "\n",
    "hex_char_to_str(\"5a\") # Exemple avec la chaine troncaturé ascii de a en hexa"
   ]
  },
  {
   "cell_type": "markdown",
   "metadata": {},
   "source": [
    "Fonction pour récupérer une dictionnaire représentant une ligne du dataset"
   ]
  },
  {
   "cell_type": "code",
   "execution_count": 7,
   "metadata": {
    "ExecuteTime": {
     "start_time": "2023-04-20T15:45:34.608737Z",
     "end_time": "2023-04-20T15:45:35.313155Z"
    }
   },
   "outputs": [],
   "source": [
    "def get_new_row(letter_value, hsf_number_value, old_file_name_value, new_file_name_value, old_path_value, new_path_value):\n",
    "    new_row = {COLUMNS[0]: letter_value, COLUMNS[1]: hsf_number_value, COLUMNS[2]: old_file_name_value, COLUMNS[3]: new_file_name_value, COLUMNS[4]: old_path_value, COLUMNS[5]: new_path_value}\n",
    "\n",
    "    return new_row"
   ]
  },
  {
   "cell_type": "markdown",
   "metadata": {},
   "source": [
    "Fonction ajouter une nouvelle ligne à la fin du dataset"
   ]
  },
  {
   "cell_type": "code",
   "execution_count": 8,
   "metadata": {
    "ExecuteTime": {
     "start_time": "2023-04-20T15:45:34.629103Z",
     "end_time": "2023-04-20T15:45:35.369223Z"
    }
   },
   "outputs": [],
   "source": [
    "def dataset_append_row(row):\n",
    "    dataset.loc[len(dataset)] = row"
   ]
  },
  {
   "cell_type": "markdown",
   "metadata": {},
   "source": [
    "Fonction pour obtenir tous les fichiers logeant dans un répertoire d' un certain type"
   ]
  },
  {
   "cell_type": "code",
   "execution_count": 9,
   "metadata": {
    "scrolled": true,
    "ExecuteTime": {
     "start_time": "2023-04-20T15:45:34.650662Z",
     "end_time": "2023-04-20T15:45:35.434133Z"
    }
   },
   "outputs": [
    {
     "data": {
      "text/plain": "['../../data/raw/NIST-dataset/4a/hsf_0\\\\hsf_0_00216.png',\n '../../data/raw/NIST-dataset/4a/hsf_0\\\\hsf_0_01039.png',\n '../../data/raw/NIST-dataset/4a/hsf_0\\\\hsf_0_00201.png',\n '../../data/raw/NIST-dataset/4a/hsf_0\\\\hsf_0_01026.png',\n '../../data/raw/NIST-dataset/4a/hsf_0\\\\hsf_0_00049.png']"
     },
     "execution_count": 9,
     "metadata": {},
     "output_type": "execute_result"
    }
   ],
   "source": [
    "def get_files_in_directory(path, file_type):\n",
    "    search_path = os.path.join(path, f\"*.{file_type}\")\n",
    "    list_files = [file for file in glob(search_path)]\n",
    "    number_of_element = int(len(list_files) * PERCENT_OF_DATA)\n",
    "    if RANDOM:\n",
    "        shuffle(list_files)\n",
    "    return list_files[:number_of_element]\n",
    "    \n",
    "get_files_in_directory(\"../../data/raw/NIST-dataset/4a/hsf_0\", \"png\")[:5] # On teste le bon fonctionnement de la fonction"
   ]
  },
  {
   "cell_type": "markdown",
   "metadata": {},
   "source": [
    "Fonction pour formater un chiffre de la manière suivant:\n",
    "1 -> 001"
   ]
  },
  {
   "cell_type": "code",
   "execution_count": 10,
   "metadata": {
    "ExecuteTime": {
     "start_time": "2023-04-20T15:45:34.675602Z",
     "end_time": "2023-04-20T15:45:35.435070Z"
    }
   },
   "outputs": [],
   "source": [
    "def format_indice(indice):\n",
    "    return '{0:03}'.format(indice) # 1 -> 001"
   ]
  },
  {
   "cell_type": "markdown",
   "metadata": {},
   "source": [
    "### Remplissage effectif du dataset en utilisant les fonctions définis précédemment"
   ]
  },
  {
   "cell_type": "code",
   "execution_count": 11,
   "metadata": {
    "ExecuteTime": {
     "start_time": "2023-04-20T15:45:34.691761Z",
     "end_time": "2023-04-20T18:17:13.226635Z"
    }
   },
   "outputs": [
    {
     "name": "stdout",
     "output_type": "stream",
     "text": [
      "../../data/raw/NIST-dataset\\61\\hsf_0\n",
      "../../data/raw/NIST-dataset\\61\\hsf_1\n",
      "../../data/raw/NIST-dataset\\61\\hsf_2\n",
      "../../data/raw/NIST-dataset\\61\\hsf_3\n",
      "../../data/raw/NIST-dataset\\61\\hsf_4\n",
      "../../data/raw/NIST-dataset\\61\\hsf_5\n",
      "../../data/raw/NIST-dataset\\61\\hsf_6\n",
      "../../data/raw/NIST-dataset\\61\\hsf_7\n",
      "../../data/raw/NIST-dataset\\62\\hsf_0\n",
      "../../data/raw/NIST-dataset\\62\\hsf_1\n",
      "../../data/raw/NIST-dataset\\62\\hsf_2\n",
      "../../data/raw/NIST-dataset\\62\\hsf_3\n",
      "../../data/raw/NIST-dataset\\62\\hsf_4\n",
      "../../data/raw/NIST-dataset\\62\\hsf_5\n",
      "../../data/raw/NIST-dataset\\62\\hsf_6\n",
      "../../data/raw/NIST-dataset\\62\\hsf_7\n",
      "../../data/raw/NIST-dataset\\63\\hsf_0\n",
      "../../data/raw/NIST-dataset\\63\\hsf_1\n",
      "../../data/raw/NIST-dataset\\63\\hsf_2\n",
      "../../data/raw/NIST-dataset\\63\\hsf_3\n",
      "../../data/raw/NIST-dataset\\63\\hsf_4\n",
      "../../data/raw/NIST-dataset\\63\\hsf_5\n",
      "../../data/raw/NIST-dataset\\63\\hsf_6\n",
      "../../data/raw/NIST-dataset\\63\\hsf_7\n",
      "../../data/raw/NIST-dataset\\64\\hsf_0\n",
      "../../data/raw/NIST-dataset\\64\\hsf_1\n",
      "../../data/raw/NIST-dataset\\64\\hsf_2\n",
      "../../data/raw/NIST-dataset\\64\\hsf_3\n",
      "../../data/raw/NIST-dataset\\64\\hsf_4\n",
      "../../data/raw/NIST-dataset\\64\\hsf_5\n",
      "../../data/raw/NIST-dataset\\64\\hsf_6\n",
      "../../data/raw/NIST-dataset\\64\\hsf_7\n",
      "../../data/raw/NIST-dataset\\65\\hsf_0\n",
      "../../data/raw/NIST-dataset\\65\\hsf_1\n",
      "../../data/raw/NIST-dataset\\65\\hsf_2\n",
      "../../data/raw/NIST-dataset\\65\\hsf_3\n",
      "../../data/raw/NIST-dataset\\65\\hsf_4\n",
      "../../data/raw/NIST-dataset\\65\\hsf_5\n",
      "../../data/raw/NIST-dataset\\65\\hsf_6\n",
      "../../data/raw/NIST-dataset\\65\\hsf_7\n",
      "../../data/raw/NIST-dataset\\66\\hsf_0\n",
      "../../data/raw/NIST-dataset\\66\\hsf_1\n",
      "../../data/raw/NIST-dataset\\66\\hsf_2\n",
      "../../data/raw/NIST-dataset\\66\\hsf_3\n",
      "../../data/raw/NIST-dataset\\66\\hsf_4\n",
      "../../data/raw/NIST-dataset\\66\\hsf_5\n",
      "../../data/raw/NIST-dataset\\66\\hsf_6\n",
      "../../data/raw/NIST-dataset\\66\\hsf_7\n",
      "../../data/raw/NIST-dataset\\67\\hsf_0\n",
      "../../data/raw/NIST-dataset\\67\\hsf_1\n",
      "../../data/raw/NIST-dataset\\67\\hsf_2\n",
      "../../data/raw/NIST-dataset\\67\\hsf_3\n",
      "../../data/raw/NIST-dataset\\67\\hsf_4\n",
      "../../data/raw/NIST-dataset\\67\\hsf_5\n",
      "../../data/raw/NIST-dataset\\67\\hsf_6\n",
      "../../data/raw/NIST-dataset\\67\\hsf_7\n",
      "../../data/raw/NIST-dataset\\68\\hsf_0\n",
      "../../data/raw/NIST-dataset\\68\\hsf_1\n",
      "../../data/raw/NIST-dataset\\68\\hsf_2\n",
      "../../data/raw/NIST-dataset\\68\\hsf_3\n",
      "../../data/raw/NIST-dataset\\68\\hsf_4\n",
      "../../data/raw/NIST-dataset\\68\\hsf_5\n",
      "../../data/raw/NIST-dataset\\68\\hsf_6\n",
      "../../data/raw/NIST-dataset\\68\\hsf_7\n",
      "../../data/raw/NIST-dataset\\69\\hsf_0\n",
      "../../data/raw/NIST-dataset\\69\\hsf_1\n",
      "../../data/raw/NIST-dataset\\69\\hsf_2\n",
      "../../data/raw/NIST-dataset\\69\\hsf_3\n",
      "../../data/raw/NIST-dataset\\69\\hsf_4\n",
      "../../data/raw/NIST-dataset\\69\\hsf_5\n",
      "../../data/raw/NIST-dataset\\69\\hsf_6\n",
      "../../data/raw/NIST-dataset\\69\\hsf_7\n",
      "../../data/raw/NIST-dataset\\6a\\hsf_0\n",
      "../../data/raw/NIST-dataset\\6a\\hsf_1\n",
      "../../data/raw/NIST-dataset\\6a\\hsf_2\n",
      "../../data/raw/NIST-dataset\\6a\\hsf_3\n",
      "../../data/raw/NIST-dataset\\6a\\hsf_4\n",
      "../../data/raw/NIST-dataset\\6a\\hsf_5\n",
      "../../data/raw/NIST-dataset\\6a\\hsf_6\n",
      "../../data/raw/NIST-dataset\\6a\\hsf_7\n",
      "../../data/raw/NIST-dataset\\6b\\hsf_0\n",
      "../../data/raw/NIST-dataset\\6b\\hsf_1\n",
      "../../data/raw/NIST-dataset\\6b\\hsf_2\n",
      "../../data/raw/NIST-dataset\\6b\\hsf_3\n",
      "../../data/raw/NIST-dataset\\6b\\hsf_4\n",
      "../../data/raw/NIST-dataset\\6b\\hsf_5\n",
      "../../data/raw/NIST-dataset\\6b\\hsf_6\n",
      "../../data/raw/NIST-dataset\\6b\\hsf_7\n",
      "../../data/raw/NIST-dataset\\6c\\hsf_0\n",
      "../../data/raw/NIST-dataset\\6c\\hsf_1\n",
      "../../data/raw/NIST-dataset\\6c\\hsf_2\n",
      "../../data/raw/NIST-dataset\\6c\\hsf_3\n",
      "../../data/raw/NIST-dataset\\6c\\hsf_4\n",
      "../../data/raw/NIST-dataset\\6c\\hsf_5\n",
      "../../data/raw/NIST-dataset\\6c\\hsf_6\n",
      "../../data/raw/NIST-dataset\\6c\\hsf_7\n",
      "../../data/raw/NIST-dataset\\6d\\hsf_0\n",
      "../../data/raw/NIST-dataset\\6d\\hsf_1\n",
      "../../data/raw/NIST-dataset\\6d\\hsf_2\n",
      "../../data/raw/NIST-dataset\\6d\\hsf_3\n",
      "../../data/raw/NIST-dataset\\6d\\hsf_4\n",
      "../../data/raw/NIST-dataset\\6d\\hsf_5\n",
      "../../data/raw/NIST-dataset\\6d\\hsf_6\n",
      "../../data/raw/NIST-dataset\\6d\\hsf_7\n",
      "../../data/raw/NIST-dataset\\6e\\hsf_0\n",
      "../../data/raw/NIST-dataset\\6e\\hsf_1\n",
      "../../data/raw/NIST-dataset\\6e\\hsf_2\n",
      "../../data/raw/NIST-dataset\\6e\\hsf_3\n",
      "../../data/raw/NIST-dataset\\6e\\hsf_4\n",
      "../../data/raw/NIST-dataset\\6e\\hsf_5\n",
      "../../data/raw/NIST-dataset\\6e\\hsf_6\n",
      "../../data/raw/NIST-dataset\\6e\\hsf_7\n",
      "../../data/raw/NIST-dataset\\6f\\hsf_0\n",
      "../../data/raw/NIST-dataset\\6f\\hsf_1\n",
      "../../data/raw/NIST-dataset\\6f\\hsf_2\n",
      "../../data/raw/NIST-dataset\\6f\\hsf_3\n",
      "../../data/raw/NIST-dataset\\6f\\hsf_4\n",
      "../../data/raw/NIST-dataset\\6f\\hsf_5\n",
      "../../data/raw/NIST-dataset\\6f\\hsf_6\n",
      "../../data/raw/NIST-dataset\\6f\\hsf_7\n",
      "../../data/raw/NIST-dataset\\70\\hsf_0\n",
      "../../data/raw/NIST-dataset\\70\\hsf_1\n",
      "../../data/raw/NIST-dataset\\70\\hsf_2\n",
      "../../data/raw/NIST-dataset\\70\\hsf_3\n",
      "../../data/raw/NIST-dataset\\70\\hsf_4\n",
      "../../data/raw/NIST-dataset\\70\\hsf_5\n",
      "../../data/raw/NIST-dataset\\70\\hsf_6\n",
      "../../data/raw/NIST-dataset\\70\\hsf_7\n",
      "../../data/raw/NIST-dataset\\71\\hsf_0\n",
      "../../data/raw/NIST-dataset\\71\\hsf_1\n",
      "../../data/raw/NIST-dataset\\71\\hsf_2\n",
      "../../data/raw/NIST-dataset\\71\\hsf_3\n",
      "../../data/raw/NIST-dataset\\71\\hsf_4\n",
      "../../data/raw/NIST-dataset\\71\\hsf_5\n",
      "../../data/raw/NIST-dataset\\71\\hsf_6\n",
      "../../data/raw/NIST-dataset\\71\\hsf_7\n",
      "../../data/raw/NIST-dataset\\72\\hsf_0\n",
      "../../data/raw/NIST-dataset\\72\\hsf_1\n",
      "../../data/raw/NIST-dataset\\72\\hsf_2\n",
      "../../data/raw/NIST-dataset\\72\\hsf_3\n",
      "../../data/raw/NIST-dataset\\72\\hsf_4\n",
      "../../data/raw/NIST-dataset\\72\\hsf_5\n",
      "../../data/raw/NIST-dataset\\72\\hsf_6\n",
      "../../data/raw/NIST-dataset\\72\\hsf_7\n",
      "../../data/raw/NIST-dataset\\73\\hsf_0\n",
      "../../data/raw/NIST-dataset\\73\\hsf_1\n",
      "../../data/raw/NIST-dataset\\73\\hsf_2\n",
      "../../data/raw/NIST-dataset\\73\\hsf_3\n",
      "../../data/raw/NIST-dataset\\73\\hsf_4\n",
      "../../data/raw/NIST-dataset\\73\\hsf_5\n",
      "../../data/raw/NIST-dataset\\73\\hsf_6\n",
      "../../data/raw/NIST-dataset\\73\\hsf_7\n",
      "../../data/raw/NIST-dataset\\74\\hsf_0\n",
      "../../data/raw/NIST-dataset\\74\\hsf_1\n",
      "../../data/raw/NIST-dataset\\74\\hsf_2\n",
      "../../data/raw/NIST-dataset\\74\\hsf_3\n",
      "../../data/raw/NIST-dataset\\74\\hsf_4\n",
      "../../data/raw/NIST-dataset\\74\\hsf_5\n",
      "../../data/raw/NIST-dataset\\74\\hsf_6\n",
      "../../data/raw/NIST-dataset\\74\\hsf_7\n",
      "../../data/raw/NIST-dataset\\75\\hsf_0\n",
      "../../data/raw/NIST-dataset\\75\\hsf_1\n",
      "../../data/raw/NIST-dataset\\75\\hsf_2\n",
      "../../data/raw/NIST-dataset\\75\\hsf_3\n",
      "../../data/raw/NIST-dataset\\75\\hsf_4\n",
      "../../data/raw/NIST-dataset\\75\\hsf_5\n",
      "../../data/raw/NIST-dataset\\75\\hsf_6\n",
      "../../data/raw/NIST-dataset\\75\\hsf_7\n",
      "../../data/raw/NIST-dataset\\76\\hsf_0\n",
      "../../data/raw/NIST-dataset\\76\\hsf_1\n",
      "../../data/raw/NIST-dataset\\76\\hsf_2\n",
      "../../data/raw/NIST-dataset\\76\\hsf_3\n",
      "../../data/raw/NIST-dataset\\76\\hsf_4\n",
      "../../data/raw/NIST-dataset\\76\\hsf_5\n",
      "../../data/raw/NIST-dataset\\76\\hsf_6\n",
      "../../data/raw/NIST-dataset\\76\\hsf_7\n",
      "../../data/raw/NIST-dataset\\77\\hsf_0\n",
      "../../data/raw/NIST-dataset\\77\\hsf_1\n",
      "../../data/raw/NIST-dataset\\77\\hsf_2\n",
      "../../data/raw/NIST-dataset\\77\\hsf_3\n",
      "../../data/raw/NIST-dataset\\77\\hsf_4\n",
      "../../data/raw/NIST-dataset\\77\\hsf_5\n",
      "../../data/raw/NIST-dataset\\77\\hsf_6\n",
      "../../data/raw/NIST-dataset\\77\\hsf_7\n",
      "../../data/raw/NIST-dataset\\78\\hsf_0\n",
      "../../data/raw/NIST-dataset\\78\\hsf_1\n",
      "../../data/raw/NIST-dataset\\78\\hsf_2\n",
      "../../data/raw/NIST-dataset\\78\\hsf_3\n",
      "../../data/raw/NIST-dataset\\78\\hsf_4\n",
      "../../data/raw/NIST-dataset\\78\\hsf_5\n",
      "../../data/raw/NIST-dataset\\78\\hsf_6\n",
      "../../data/raw/NIST-dataset\\78\\hsf_7\n",
      "../../data/raw/NIST-dataset\\79\\hsf_0\n",
      "../../data/raw/NIST-dataset\\79\\hsf_1\n",
      "../../data/raw/NIST-dataset\\79\\hsf_2\n",
      "../../data/raw/NIST-dataset\\79\\hsf_3\n",
      "../../data/raw/NIST-dataset\\79\\hsf_4\n",
      "../../data/raw/NIST-dataset\\79\\hsf_5\n",
      "../../data/raw/NIST-dataset\\79\\hsf_6\n",
      "../../data/raw/NIST-dataset\\79\\hsf_7\n",
      "../../data/raw/NIST-dataset\\7a\\hsf_0\n",
      "../../data/raw/NIST-dataset\\7a\\hsf_1\n",
      "../../data/raw/NIST-dataset\\7a\\hsf_2\n",
      "../../data/raw/NIST-dataset\\7a\\hsf_3\n",
      "../../data/raw/NIST-dataset\\7a\\hsf_4\n",
      "../../data/raw/NIST-dataset\\7a\\hsf_5\n",
      "../../data/raw/NIST-dataset\\7a\\hsf_6\n",
      "../../data/raw/NIST-dataset\\7a\\hsf_7\n",
      "../../data/raw/NIST-dataset\\41\\hsf_0\n",
      "../../data/raw/NIST-dataset\\41\\hsf_1\n",
      "../../data/raw/NIST-dataset\\41\\hsf_2\n",
      "../../data/raw/NIST-dataset\\41\\hsf_3\n",
      "../../data/raw/NIST-dataset\\41\\hsf_4\n",
      "../../data/raw/NIST-dataset\\41\\hsf_5\n",
      "../../data/raw/NIST-dataset\\41\\hsf_6\n",
      "../../data/raw/NIST-dataset\\41\\hsf_7\n",
      "../../data/raw/NIST-dataset\\42\\hsf_0\n",
      "../../data/raw/NIST-dataset\\42\\hsf_1\n",
      "../../data/raw/NIST-dataset\\42\\hsf_2\n",
      "../../data/raw/NIST-dataset\\42\\hsf_3\n",
      "../../data/raw/NIST-dataset\\42\\hsf_4\n",
      "../../data/raw/NIST-dataset\\42\\hsf_5\n",
      "../../data/raw/NIST-dataset\\42\\hsf_6\n",
      "../../data/raw/NIST-dataset\\42\\hsf_7\n",
      "../../data/raw/NIST-dataset\\43\\hsf_0\n",
      "../../data/raw/NIST-dataset\\43\\hsf_1\n",
      "../../data/raw/NIST-dataset\\43\\hsf_2\n",
      "../../data/raw/NIST-dataset\\43\\hsf_3\n",
      "../../data/raw/NIST-dataset\\43\\hsf_4\n",
      "../../data/raw/NIST-dataset\\43\\hsf_5\n",
      "../../data/raw/NIST-dataset\\43\\hsf_6\n",
      "../../data/raw/NIST-dataset\\43\\hsf_7\n",
      "../../data/raw/NIST-dataset\\44\\hsf_0\n",
      "../../data/raw/NIST-dataset\\44\\hsf_1\n",
      "../../data/raw/NIST-dataset\\44\\hsf_2\n",
      "../../data/raw/NIST-dataset\\44\\hsf_3\n",
      "../../data/raw/NIST-dataset\\44\\hsf_4\n",
      "../../data/raw/NIST-dataset\\44\\hsf_5\n",
      "../../data/raw/NIST-dataset\\44\\hsf_6\n",
      "../../data/raw/NIST-dataset\\44\\hsf_7\n",
      "../../data/raw/NIST-dataset\\45\\hsf_0\n",
      "../../data/raw/NIST-dataset\\45\\hsf_1\n",
      "../../data/raw/NIST-dataset\\45\\hsf_2\n",
      "../../data/raw/NIST-dataset\\45\\hsf_3\n",
      "../../data/raw/NIST-dataset\\45\\hsf_4\n",
      "../../data/raw/NIST-dataset\\45\\hsf_5\n",
      "../../data/raw/NIST-dataset\\45\\hsf_6\n",
      "../../data/raw/NIST-dataset\\45\\hsf_7\n",
      "../../data/raw/NIST-dataset\\46\\hsf_0\n",
      "../../data/raw/NIST-dataset\\46\\hsf_1\n",
      "../../data/raw/NIST-dataset\\46\\hsf_2\n",
      "../../data/raw/NIST-dataset\\46\\hsf_3\n",
      "../../data/raw/NIST-dataset\\46\\hsf_4\n",
      "../../data/raw/NIST-dataset\\46\\hsf_5\n",
      "../../data/raw/NIST-dataset\\46\\hsf_6\n",
      "../../data/raw/NIST-dataset\\46\\hsf_7\n",
      "../../data/raw/NIST-dataset\\47\\hsf_0\n",
      "../../data/raw/NIST-dataset\\47\\hsf_1\n",
      "../../data/raw/NIST-dataset\\47\\hsf_2\n",
      "../../data/raw/NIST-dataset\\47\\hsf_3\n",
      "../../data/raw/NIST-dataset\\47\\hsf_4\n",
      "../../data/raw/NIST-dataset\\47\\hsf_5\n",
      "../../data/raw/NIST-dataset\\47\\hsf_6\n",
      "../../data/raw/NIST-dataset\\47\\hsf_7\n",
      "../../data/raw/NIST-dataset\\48\\hsf_0\n",
      "../../data/raw/NIST-dataset\\48\\hsf_1\n",
      "../../data/raw/NIST-dataset\\48\\hsf_2\n",
      "../../data/raw/NIST-dataset\\48\\hsf_3\n",
      "../../data/raw/NIST-dataset\\48\\hsf_4\n",
      "../../data/raw/NIST-dataset\\48\\hsf_5\n",
      "../../data/raw/NIST-dataset\\48\\hsf_6\n",
      "../../data/raw/NIST-dataset\\48\\hsf_7\n",
      "../../data/raw/NIST-dataset\\49\\hsf_0\n",
      "../../data/raw/NIST-dataset\\49\\hsf_1\n",
      "../../data/raw/NIST-dataset\\49\\hsf_2\n",
      "../../data/raw/NIST-dataset\\49\\hsf_3\n",
      "../../data/raw/NIST-dataset\\49\\hsf_4\n",
      "../../data/raw/NIST-dataset\\49\\hsf_5\n",
      "../../data/raw/NIST-dataset\\49\\hsf_6\n",
      "../../data/raw/NIST-dataset\\49\\hsf_7\n",
      "../../data/raw/NIST-dataset\\4a\\hsf_0\n",
      "../../data/raw/NIST-dataset\\4a\\hsf_1\n",
      "../../data/raw/NIST-dataset\\4a\\hsf_2\n",
      "../../data/raw/NIST-dataset\\4a\\hsf_3\n",
      "../../data/raw/NIST-dataset\\4a\\hsf_4\n",
      "../../data/raw/NIST-dataset\\4a\\hsf_5\n",
      "../../data/raw/NIST-dataset\\4a\\hsf_6\n",
      "../../data/raw/NIST-dataset\\4a\\hsf_7\n",
      "../../data/raw/NIST-dataset\\4b\\hsf_0\n",
      "../../data/raw/NIST-dataset\\4b\\hsf_1\n",
      "../../data/raw/NIST-dataset\\4b\\hsf_2\n",
      "../../data/raw/NIST-dataset\\4b\\hsf_3\n",
      "../../data/raw/NIST-dataset\\4b\\hsf_4\n",
      "../../data/raw/NIST-dataset\\4b\\hsf_5\n",
      "../../data/raw/NIST-dataset\\4b\\hsf_6\n",
      "../../data/raw/NIST-dataset\\4b\\hsf_7\n",
      "../../data/raw/NIST-dataset\\4c\\hsf_0\n",
      "../../data/raw/NIST-dataset\\4c\\hsf_1\n",
      "../../data/raw/NIST-dataset\\4c\\hsf_2\n",
      "../../data/raw/NIST-dataset\\4c\\hsf_3\n",
      "../../data/raw/NIST-dataset\\4c\\hsf_4\n",
      "../../data/raw/NIST-dataset\\4c\\hsf_5\n",
      "../../data/raw/NIST-dataset\\4c\\hsf_6\n",
      "../../data/raw/NIST-dataset\\4c\\hsf_7\n",
      "../../data/raw/NIST-dataset\\4d\\hsf_0\n",
      "../../data/raw/NIST-dataset\\4d\\hsf_1\n",
      "../../data/raw/NIST-dataset\\4d\\hsf_2\n",
      "../../data/raw/NIST-dataset\\4d\\hsf_3\n",
      "../../data/raw/NIST-dataset\\4d\\hsf_4\n",
      "../../data/raw/NIST-dataset\\4d\\hsf_5\n",
      "../../data/raw/NIST-dataset\\4d\\hsf_6\n",
      "../../data/raw/NIST-dataset\\4d\\hsf_7\n",
      "../../data/raw/NIST-dataset\\4e\\hsf_0\n",
      "../../data/raw/NIST-dataset\\4e\\hsf_1\n",
      "../../data/raw/NIST-dataset\\4e\\hsf_2\n",
      "../../data/raw/NIST-dataset\\4e\\hsf_3\n",
      "../../data/raw/NIST-dataset\\4e\\hsf_4\n",
      "../../data/raw/NIST-dataset\\4e\\hsf_5\n",
      "../../data/raw/NIST-dataset\\4e\\hsf_6\n",
      "../../data/raw/NIST-dataset\\4e\\hsf_7\n",
      "../../data/raw/NIST-dataset\\4f\\hsf_0\n",
      "../../data/raw/NIST-dataset\\4f\\hsf_1\n",
      "../../data/raw/NIST-dataset\\4f\\hsf_2\n",
      "../../data/raw/NIST-dataset\\4f\\hsf_3\n",
      "../../data/raw/NIST-dataset\\4f\\hsf_4\n",
      "../../data/raw/NIST-dataset\\4f\\hsf_5\n",
      "../../data/raw/NIST-dataset\\4f\\hsf_6\n",
      "../../data/raw/NIST-dataset\\4f\\hsf_7\n",
      "../../data/raw/NIST-dataset\\50\\hsf_0\n",
      "../../data/raw/NIST-dataset\\50\\hsf_1\n",
      "../../data/raw/NIST-dataset\\50\\hsf_2\n",
      "../../data/raw/NIST-dataset\\50\\hsf_3\n",
      "../../data/raw/NIST-dataset\\50\\hsf_4\n",
      "../../data/raw/NIST-dataset\\50\\hsf_5\n",
      "../../data/raw/NIST-dataset\\50\\hsf_6\n",
      "../../data/raw/NIST-dataset\\50\\hsf_7\n",
      "../../data/raw/NIST-dataset\\51\\hsf_0\n",
      "../../data/raw/NIST-dataset\\51\\hsf_1\n",
      "../../data/raw/NIST-dataset\\51\\hsf_2\n",
      "../../data/raw/NIST-dataset\\51\\hsf_3\n",
      "../../data/raw/NIST-dataset\\51\\hsf_4\n",
      "../../data/raw/NIST-dataset\\51\\hsf_5\n",
      "../../data/raw/NIST-dataset\\51\\hsf_6\n",
      "../../data/raw/NIST-dataset\\51\\hsf_7\n",
      "../../data/raw/NIST-dataset\\52\\hsf_0\n",
      "../../data/raw/NIST-dataset\\52\\hsf_1\n",
      "../../data/raw/NIST-dataset\\52\\hsf_2\n",
      "../../data/raw/NIST-dataset\\52\\hsf_3\n",
      "../../data/raw/NIST-dataset\\52\\hsf_4\n",
      "../../data/raw/NIST-dataset\\52\\hsf_5\n",
      "../../data/raw/NIST-dataset\\52\\hsf_6\n",
      "../../data/raw/NIST-dataset\\52\\hsf_7\n",
      "../../data/raw/NIST-dataset\\53\\hsf_0\n",
      "../../data/raw/NIST-dataset\\53\\hsf_1\n",
      "../../data/raw/NIST-dataset\\53\\hsf_2\n",
      "../../data/raw/NIST-dataset\\53\\hsf_3\n",
      "../../data/raw/NIST-dataset\\53\\hsf_4\n",
      "../../data/raw/NIST-dataset\\53\\hsf_5\n",
      "../../data/raw/NIST-dataset\\53\\hsf_6\n",
      "../../data/raw/NIST-dataset\\53\\hsf_7\n",
      "../../data/raw/NIST-dataset\\54\\hsf_0\n",
      "../../data/raw/NIST-dataset\\54\\hsf_1\n",
      "../../data/raw/NIST-dataset\\54\\hsf_2\n",
      "../../data/raw/NIST-dataset\\54\\hsf_3\n",
      "../../data/raw/NIST-dataset\\54\\hsf_4\n",
      "../../data/raw/NIST-dataset\\54\\hsf_5\n",
      "../../data/raw/NIST-dataset\\54\\hsf_6\n",
      "../../data/raw/NIST-dataset\\54\\hsf_7\n",
      "../../data/raw/NIST-dataset\\55\\hsf_0\n",
      "../../data/raw/NIST-dataset\\55\\hsf_1\n",
      "../../data/raw/NIST-dataset\\55\\hsf_2\n",
      "../../data/raw/NIST-dataset\\55\\hsf_3\n",
      "../../data/raw/NIST-dataset\\55\\hsf_4\n",
      "../../data/raw/NIST-dataset\\55\\hsf_5\n",
      "../../data/raw/NIST-dataset\\55\\hsf_6\n",
      "../../data/raw/NIST-dataset\\55\\hsf_7\n",
      "../../data/raw/NIST-dataset\\56\\hsf_0\n",
      "../../data/raw/NIST-dataset\\56\\hsf_1\n",
      "../../data/raw/NIST-dataset\\56\\hsf_2\n",
      "../../data/raw/NIST-dataset\\56\\hsf_3\n",
      "../../data/raw/NIST-dataset\\56\\hsf_4\n",
      "../../data/raw/NIST-dataset\\56\\hsf_5\n",
      "../../data/raw/NIST-dataset\\56\\hsf_6\n",
      "../../data/raw/NIST-dataset\\56\\hsf_7\n",
      "../../data/raw/NIST-dataset\\57\\hsf_0\n",
      "../../data/raw/NIST-dataset\\57\\hsf_1\n",
      "../../data/raw/NIST-dataset\\57\\hsf_2\n",
      "../../data/raw/NIST-dataset\\57\\hsf_3\n",
      "../../data/raw/NIST-dataset\\57\\hsf_4\n",
      "../../data/raw/NIST-dataset\\57\\hsf_5\n",
      "../../data/raw/NIST-dataset\\57\\hsf_6\n",
      "../../data/raw/NIST-dataset\\57\\hsf_7\n",
      "../../data/raw/NIST-dataset\\58\\hsf_0\n",
      "../../data/raw/NIST-dataset\\58\\hsf_1\n",
      "../../data/raw/NIST-dataset\\58\\hsf_2\n",
      "../../data/raw/NIST-dataset\\58\\hsf_3\n",
      "../../data/raw/NIST-dataset\\58\\hsf_4\n",
      "../../data/raw/NIST-dataset\\58\\hsf_5\n",
      "../../data/raw/NIST-dataset\\58\\hsf_6\n",
      "../../data/raw/NIST-dataset\\58\\hsf_7\n",
      "../../data/raw/NIST-dataset\\59\\hsf_0\n",
      "../../data/raw/NIST-dataset\\59\\hsf_1\n",
      "../../data/raw/NIST-dataset\\59\\hsf_2\n",
      "../../data/raw/NIST-dataset\\59\\hsf_3\n",
      "../../data/raw/NIST-dataset\\59\\hsf_4\n",
      "../../data/raw/NIST-dataset\\59\\hsf_5\n",
      "../../data/raw/NIST-dataset\\59\\hsf_6\n",
      "../../data/raw/NIST-dataset\\59\\hsf_7\n",
      "../../data/raw/NIST-dataset\\5a\\hsf_0\n",
      "../../data/raw/NIST-dataset\\5a\\hsf_1\n",
      "../../data/raw/NIST-dataset\\5a\\hsf_2\n",
      "../../data/raw/NIST-dataset\\5a\\hsf_3\n",
      "../../data/raw/NIST-dataset\\5a\\hsf_4\n",
      "../../data/raw/NIST-dataset\\5a\\hsf_5\n",
      "../../data/raw/NIST-dataset\\5a\\hsf_6\n",
      "../../data/raw/NIST-dataset\\5a\\hsf_7\n"
     ]
    }
   ],
   "source": [
    "for ascii_hex_truncated_char in alphabet_hex_truncated:\n",
    "    for hsf_number in NUMBER_OF_HSF:\n",
    "        path = os.path.join(DATASET_INPUT, ascii_hex_truncated_char, f\"hsf_{hsf_number}\")\n",
    "        char = hex_char_to_str(ascii_hex_truncated_char)\n",
    "        indice = 0\n",
    "        print(path) # On observe l'avancement du programme\n",
    "        for file_path in get_files_in_directory(path, \"png\"):\n",
    "            old_file_name = file_path.split(os.sep)[-1]\n",
    "            new_file_name = f\"{char}{format_indice(indice)}.png\"\n",
    "            new_row = get_new_row(char, hsf_number, old_file_name, new_file_name, path, DATASET_OUTPUT)\n",
    "            dataset_append_row(new_row)\n",
    "            indice = indice + 1"
   ]
  },
  {
   "cell_type": "markdown",
   "metadata": {},
   "source": [
    "On visualise le jeu de données obtenu"
   ]
  },
  {
   "cell_type": "code",
   "execution_count": 12,
   "metadata": {
    "ExecuteTime": {
     "start_time": "2023-04-20T18:17:13.238678Z",
     "end_time": "2023-04-20T18:17:13.284364Z"
    }
   },
   "outputs": [
    {
     "data": {
      "text/plain": "  letter  hsf_number    old_file_name new_file_name  \\\n0      a           0  hsf_0_02904.png      a000.png   \n1      a           0  hsf_0_03174.png      a001.png   \n2      a           0  hsf_0_02429.png      a002.png   \n3      a           0  hsf_0_03386.png      a003.png   \n4      a           0  hsf_0_03231.png      a004.png   \n\n                               old_path                           new_path  \n0  ../../data/raw/NIST-dataset\\61\\hsf_0  ../../data/processed/NIST-dataset  \n1  ../../data/raw/NIST-dataset\\61\\hsf_0  ../../data/processed/NIST-dataset  \n2  ../../data/raw/NIST-dataset\\61\\hsf_0  ../../data/processed/NIST-dataset  \n3  ../../data/raw/NIST-dataset\\61\\hsf_0  ../../data/processed/NIST-dataset  \n4  ../../data/raw/NIST-dataset\\61\\hsf_0  ../../data/processed/NIST-dataset  ",
      "text/html": "<div>\n<style scoped>\n    .dataframe tbody tr th:only-of-type {\n        vertical-align: middle;\n    }\n\n    .dataframe tbody tr th {\n        vertical-align: top;\n    }\n\n    .dataframe thead th {\n        text-align: right;\n    }\n</style>\n<table border=\"1\" class=\"dataframe\">\n  <thead>\n    <tr style=\"text-align: right;\">\n      <th></th>\n      <th>letter</th>\n      <th>hsf_number</th>\n      <th>old_file_name</th>\n      <th>new_file_name</th>\n      <th>old_path</th>\n      <th>new_path</th>\n    </tr>\n  </thead>\n  <tbody>\n    <tr>\n      <th>0</th>\n      <td>a</td>\n      <td>0</td>\n      <td>hsf_0_02904.png</td>\n      <td>a000.png</td>\n      <td>../../data/raw/NIST-dataset\\61\\hsf_0</td>\n      <td>../../data/processed/NIST-dataset</td>\n    </tr>\n    <tr>\n      <th>1</th>\n      <td>a</td>\n      <td>0</td>\n      <td>hsf_0_03174.png</td>\n      <td>a001.png</td>\n      <td>../../data/raw/NIST-dataset\\61\\hsf_0</td>\n      <td>../../data/processed/NIST-dataset</td>\n    </tr>\n    <tr>\n      <th>2</th>\n      <td>a</td>\n      <td>0</td>\n      <td>hsf_0_02429.png</td>\n      <td>a002.png</td>\n      <td>../../data/raw/NIST-dataset\\61\\hsf_0</td>\n      <td>../../data/processed/NIST-dataset</td>\n    </tr>\n    <tr>\n      <th>3</th>\n      <td>a</td>\n      <td>0</td>\n      <td>hsf_0_03386.png</td>\n      <td>a003.png</td>\n      <td>../../data/raw/NIST-dataset\\61\\hsf_0</td>\n      <td>../../data/processed/NIST-dataset</td>\n    </tr>\n    <tr>\n      <th>4</th>\n      <td>a</td>\n      <td>0</td>\n      <td>hsf_0_03231.png</td>\n      <td>a004.png</td>\n      <td>../../data/raw/NIST-dataset\\61\\hsf_0</td>\n      <td>../../data/processed/NIST-dataset</td>\n    </tr>\n  </tbody>\n</table>\n</div>"
     },
     "execution_count": 12,
     "metadata": {},
     "output_type": "execute_result"
    }
   ],
   "source": [
    "dataset.head(5)"
   ]
  },
  {
   "cell_type": "code",
   "execution_count": 13,
   "outputs": [
    {
     "data": {
      "text/plain": "       letter  hsf_number    old_file_name new_file_name  \\\n411297      Z           7  hsf_7_00079.png      Z449.png   \n411298      Z           7  hsf_7_00241.png      Z450.png   \n411299      Z           7  hsf_7_00096.png      Z451.png   \n411300      Z           7  hsf_7_00316.png      Z452.png   \n411301      Z           7  hsf_7_00414.png      Z453.png   \n\n                                    old_path  \\\n411297  ../../data/raw/NIST-dataset\\5a\\hsf_7   \n411298  ../../data/raw/NIST-dataset\\5a\\hsf_7   \n411299  ../../data/raw/NIST-dataset\\5a\\hsf_7   \n411300  ../../data/raw/NIST-dataset\\5a\\hsf_7   \n411301  ../../data/raw/NIST-dataset\\5a\\hsf_7   \n\n                                 new_path  \n411297  ../../data/processed/NIST-dataset  \n411298  ../../data/processed/NIST-dataset  \n411299  ../../data/processed/NIST-dataset  \n411300  ../../data/processed/NIST-dataset  \n411301  ../../data/processed/NIST-dataset  ",
      "text/html": "<div>\n<style scoped>\n    .dataframe tbody tr th:only-of-type {\n        vertical-align: middle;\n    }\n\n    .dataframe tbody tr th {\n        vertical-align: top;\n    }\n\n    .dataframe thead th {\n        text-align: right;\n    }\n</style>\n<table border=\"1\" class=\"dataframe\">\n  <thead>\n    <tr style=\"text-align: right;\">\n      <th></th>\n      <th>letter</th>\n      <th>hsf_number</th>\n      <th>old_file_name</th>\n      <th>new_file_name</th>\n      <th>old_path</th>\n      <th>new_path</th>\n    </tr>\n  </thead>\n  <tbody>\n    <tr>\n      <th>411297</th>\n      <td>Z</td>\n      <td>7</td>\n      <td>hsf_7_00079.png</td>\n      <td>Z449.png</td>\n      <td>../../data/raw/NIST-dataset\\5a\\hsf_7</td>\n      <td>../../data/processed/NIST-dataset</td>\n    </tr>\n    <tr>\n      <th>411298</th>\n      <td>Z</td>\n      <td>7</td>\n      <td>hsf_7_00241.png</td>\n      <td>Z450.png</td>\n      <td>../../data/raw/NIST-dataset\\5a\\hsf_7</td>\n      <td>../../data/processed/NIST-dataset</td>\n    </tr>\n    <tr>\n      <th>411299</th>\n      <td>Z</td>\n      <td>7</td>\n      <td>hsf_7_00096.png</td>\n      <td>Z451.png</td>\n      <td>../../data/raw/NIST-dataset\\5a\\hsf_7</td>\n      <td>../../data/processed/NIST-dataset</td>\n    </tr>\n    <tr>\n      <th>411300</th>\n      <td>Z</td>\n      <td>7</td>\n      <td>hsf_7_00316.png</td>\n      <td>Z452.png</td>\n      <td>../../data/raw/NIST-dataset\\5a\\hsf_7</td>\n      <td>../../data/processed/NIST-dataset</td>\n    </tr>\n    <tr>\n      <th>411301</th>\n      <td>Z</td>\n      <td>7</td>\n      <td>hsf_7_00414.png</td>\n      <td>Z453.png</td>\n      <td>../../data/raw/NIST-dataset\\5a\\hsf_7</td>\n      <td>../../data/processed/NIST-dataset</td>\n    </tr>\n  </tbody>\n</table>\n</div>"
     },
     "execution_count": 13,
     "metadata": {},
     "output_type": "execute_result"
    }
   ],
   "source": [
    "dataset.tail(5)"
   ],
   "metadata": {
    "collapsed": false,
    "ExecuteTime": {
     "start_time": "2023-04-20T18:17:13.268199Z",
     "end_time": "2023-04-20T18:17:13.284364Z"
    }
   }
  },
  {
   "cell_type": "markdown",
   "source": [
    "## Sauvegarde dataset listant les images et leurs noms sous forme de csv."
   ],
   "metadata": {
    "collapsed": false
   }
  },
  {
   "cell_type": "code",
   "execution_count": 14,
   "outputs": [],
   "source": [
    "dataset.to_csv(DATASET_CSV_OUTPUT)"
   ],
   "metadata": {
    "collapsed": false,
    "ExecuteTime": {
     "start_time": "2023-04-20T18:17:13.280332Z",
     "end_time": "2023-04-20T18:17:14.809269Z"
    }
   }
  },
  {
   "cell_type": "code",
   "execution_count": 15,
   "outputs": [
    {
     "data": {
      "text/plain": "   Unnamed: 0 letter  hsf_number    old_file_name new_file_name  \\\n0           0      a           0  hsf_0_02904.png      a000.png   \n1           1      a           0  hsf_0_03174.png      a001.png   \n2           2      a           0  hsf_0_02429.png      a002.png   \n3           3      a           0  hsf_0_03386.png      a003.png   \n4           4      a           0  hsf_0_03231.png      a004.png   \n\n                               old_path                           new_path  \n0  ../../data/raw/NIST-dataset\\61\\hsf_0  ../../data/processed/NIST-dataset  \n1  ../../data/raw/NIST-dataset\\61\\hsf_0  ../../data/processed/NIST-dataset  \n2  ../../data/raw/NIST-dataset\\61\\hsf_0  ../../data/processed/NIST-dataset  \n3  ../../data/raw/NIST-dataset\\61\\hsf_0  ../../data/processed/NIST-dataset  \n4  ../../data/raw/NIST-dataset\\61\\hsf_0  ../../data/processed/NIST-dataset  ",
      "text/html": "<div>\n<style scoped>\n    .dataframe tbody tr th:only-of-type {\n        vertical-align: middle;\n    }\n\n    .dataframe tbody tr th {\n        vertical-align: top;\n    }\n\n    .dataframe thead th {\n        text-align: right;\n    }\n</style>\n<table border=\"1\" class=\"dataframe\">\n  <thead>\n    <tr style=\"text-align: right;\">\n      <th></th>\n      <th>Unnamed: 0</th>\n      <th>letter</th>\n      <th>hsf_number</th>\n      <th>old_file_name</th>\n      <th>new_file_name</th>\n      <th>old_path</th>\n      <th>new_path</th>\n    </tr>\n  </thead>\n  <tbody>\n    <tr>\n      <th>0</th>\n      <td>0</td>\n      <td>a</td>\n      <td>0</td>\n      <td>hsf_0_02904.png</td>\n      <td>a000.png</td>\n      <td>../../data/raw/NIST-dataset\\61\\hsf_0</td>\n      <td>../../data/processed/NIST-dataset</td>\n    </tr>\n    <tr>\n      <th>1</th>\n      <td>1</td>\n      <td>a</td>\n      <td>0</td>\n      <td>hsf_0_03174.png</td>\n      <td>a001.png</td>\n      <td>../../data/raw/NIST-dataset\\61\\hsf_0</td>\n      <td>../../data/processed/NIST-dataset</td>\n    </tr>\n    <tr>\n      <th>2</th>\n      <td>2</td>\n      <td>a</td>\n      <td>0</td>\n      <td>hsf_0_02429.png</td>\n      <td>a002.png</td>\n      <td>../../data/raw/NIST-dataset\\61\\hsf_0</td>\n      <td>../../data/processed/NIST-dataset</td>\n    </tr>\n    <tr>\n      <th>3</th>\n      <td>3</td>\n      <td>a</td>\n      <td>0</td>\n      <td>hsf_0_03386.png</td>\n      <td>a003.png</td>\n      <td>../../data/raw/NIST-dataset\\61\\hsf_0</td>\n      <td>../../data/processed/NIST-dataset</td>\n    </tr>\n    <tr>\n      <th>4</th>\n      <td>4</td>\n      <td>a</td>\n      <td>0</td>\n      <td>hsf_0_03231.png</td>\n      <td>a004.png</td>\n      <td>../../data/raw/NIST-dataset\\61\\hsf_0</td>\n      <td>../../data/processed/NIST-dataset</td>\n    </tr>\n  </tbody>\n</table>\n</div>"
     },
     "execution_count": 15,
     "metadata": {},
     "output_type": "execute_result"
    }
   ],
   "source": [
    "df = pd.read_csv(\"../../data/processed/NIST-dataset/nist.csv\")\n",
    "df.head()"
   ],
   "metadata": {
    "collapsed": false,
    "ExecuteTime": {
     "start_time": "2023-04-20T18:17:14.810263Z",
     "end_time": "2023-04-20T18:17:15.261815Z"
    }
   }
  },
  {
   "cell_type": "code",
   "execution_count": 16,
   "outputs": [],
   "source": [
    "def addHsf(data):\n",
    "    newFName = data['new_file_name']\n",
    "    hsfN = data['hsf_number']\n",
    "    return newFName[:-4] + str(hsfN) + newFName[-4:]\n",
    "\n",
    "df['new_file_name'] = df.apply(lambda data: addHsf(data), axis=1)"
   ],
   "metadata": {
    "collapsed": false,
    "ExecuteTime": {
     "start_time": "2023-04-20T18:17:15.261815Z",
     "end_time": "2023-04-20T18:17:17.975366Z"
    }
   }
  },
  {
   "cell_type": "code",
   "execution_count": 17,
   "outputs": [
    {
     "data": {
      "text/plain": "        Unnamed: 0 letter  hsf_number    old_file_name new_file_name  \\\n241222      241222      H           2  hsf_2_00354.png     H1382.png   \n312727      312727      O           2  hsf_2_01036.png    O27812.png   \n328662      328662      P           6  hsf_6_00369.png     P3126.png   \n195163      195163      A           2  hsf_2_01540.png     A1812.png   \n117755      117755      n           2  hsf_2_02025.png    n11192.png   \n139282      139282      r           1  hsf_1_01181.png    r26381.png   \n329074      329074      P           7  hsf_7_00180.png     P2527.png   \n219432      219432      D           6  hsf_6_00099.png     D1776.png   \n186544      186544      y           3  hsf_3_00029.png     y3043.png   \n312334      312334      O           2  hsf_2_01614.png    O23882.png   \n\n                                    old_path  \\\n241222  ../../data/raw/NIST-dataset\\48\\hsf_2   \n312727  ../../data/raw/NIST-dataset\\4f\\hsf_2   \n328662  ../../data/raw/NIST-dataset\\50\\hsf_6   \n195163  ../../data/raw/NIST-dataset\\41\\hsf_2   \n117755  ../../data/raw/NIST-dataset\\6e\\hsf_2   \n139282  ../../data/raw/NIST-dataset\\72\\hsf_1   \n329074  ../../data/raw/NIST-dataset\\50\\hsf_7   \n219432  ../../data/raw/NIST-dataset\\44\\hsf_6   \n186544  ../../data/raw/NIST-dataset\\79\\hsf_3   \n312334  ../../data/raw/NIST-dataset\\4f\\hsf_2   \n\n                                 new_path  \n241222  ../../data/processed/NIST-dataset  \n312727  ../../data/processed/NIST-dataset  \n328662  ../../data/processed/NIST-dataset  \n195163  ../../data/processed/NIST-dataset  \n117755  ../../data/processed/NIST-dataset  \n139282  ../../data/processed/NIST-dataset  \n329074  ../../data/processed/NIST-dataset  \n219432  ../../data/processed/NIST-dataset  \n186544  ../../data/processed/NIST-dataset  \n312334  ../../data/processed/NIST-dataset  ",
      "text/html": "<div>\n<style scoped>\n    .dataframe tbody tr th:only-of-type {\n        vertical-align: middle;\n    }\n\n    .dataframe tbody tr th {\n        vertical-align: top;\n    }\n\n    .dataframe thead th {\n        text-align: right;\n    }\n</style>\n<table border=\"1\" class=\"dataframe\">\n  <thead>\n    <tr style=\"text-align: right;\">\n      <th></th>\n      <th>Unnamed: 0</th>\n      <th>letter</th>\n      <th>hsf_number</th>\n      <th>old_file_name</th>\n      <th>new_file_name</th>\n      <th>old_path</th>\n      <th>new_path</th>\n    </tr>\n  </thead>\n  <tbody>\n    <tr>\n      <th>241222</th>\n      <td>241222</td>\n      <td>H</td>\n      <td>2</td>\n      <td>hsf_2_00354.png</td>\n      <td>H1382.png</td>\n      <td>../../data/raw/NIST-dataset\\48\\hsf_2</td>\n      <td>../../data/processed/NIST-dataset</td>\n    </tr>\n    <tr>\n      <th>312727</th>\n      <td>312727</td>\n      <td>O</td>\n      <td>2</td>\n      <td>hsf_2_01036.png</td>\n      <td>O27812.png</td>\n      <td>../../data/raw/NIST-dataset\\4f\\hsf_2</td>\n      <td>../../data/processed/NIST-dataset</td>\n    </tr>\n    <tr>\n      <th>328662</th>\n      <td>328662</td>\n      <td>P</td>\n      <td>6</td>\n      <td>hsf_6_00369.png</td>\n      <td>P3126.png</td>\n      <td>../../data/raw/NIST-dataset\\50\\hsf_6</td>\n      <td>../../data/processed/NIST-dataset</td>\n    </tr>\n    <tr>\n      <th>195163</th>\n      <td>195163</td>\n      <td>A</td>\n      <td>2</td>\n      <td>hsf_2_01540.png</td>\n      <td>A1812.png</td>\n      <td>../../data/raw/NIST-dataset\\41\\hsf_2</td>\n      <td>../../data/processed/NIST-dataset</td>\n    </tr>\n    <tr>\n      <th>117755</th>\n      <td>117755</td>\n      <td>n</td>\n      <td>2</td>\n      <td>hsf_2_02025.png</td>\n      <td>n11192.png</td>\n      <td>../../data/raw/NIST-dataset\\6e\\hsf_2</td>\n      <td>../../data/processed/NIST-dataset</td>\n    </tr>\n    <tr>\n      <th>139282</th>\n      <td>139282</td>\n      <td>r</td>\n      <td>1</td>\n      <td>hsf_1_01181.png</td>\n      <td>r26381.png</td>\n      <td>../../data/raw/NIST-dataset\\72\\hsf_1</td>\n      <td>../../data/processed/NIST-dataset</td>\n    </tr>\n    <tr>\n      <th>329074</th>\n      <td>329074</td>\n      <td>P</td>\n      <td>7</td>\n      <td>hsf_7_00180.png</td>\n      <td>P2527.png</td>\n      <td>../../data/raw/NIST-dataset\\50\\hsf_7</td>\n      <td>../../data/processed/NIST-dataset</td>\n    </tr>\n    <tr>\n      <th>219432</th>\n      <td>219432</td>\n      <td>D</td>\n      <td>6</td>\n      <td>hsf_6_00099.png</td>\n      <td>D1776.png</td>\n      <td>../../data/raw/NIST-dataset\\44\\hsf_6</td>\n      <td>../../data/processed/NIST-dataset</td>\n    </tr>\n    <tr>\n      <th>186544</th>\n      <td>186544</td>\n      <td>y</td>\n      <td>3</td>\n      <td>hsf_3_00029.png</td>\n      <td>y3043.png</td>\n      <td>../../data/raw/NIST-dataset\\79\\hsf_3</td>\n      <td>../../data/processed/NIST-dataset</td>\n    </tr>\n    <tr>\n      <th>312334</th>\n      <td>312334</td>\n      <td>O</td>\n      <td>2</td>\n      <td>hsf_2_01614.png</td>\n      <td>O23882.png</td>\n      <td>../../data/raw/NIST-dataset\\4f\\hsf_2</td>\n      <td>../../data/processed/NIST-dataset</td>\n    </tr>\n  </tbody>\n</table>\n</div>"
     },
     "execution_count": 17,
     "metadata": {},
     "output_type": "execute_result"
    }
   ],
   "source": [
    "df.sample(n=10)"
   ],
   "metadata": {
    "collapsed": false,
    "ExecuteTime": {
     "start_time": "2023-04-20T18:17:17.977361Z",
     "end_time": "2023-04-20T18:17:18.044808Z"
    }
   }
  },
  {
   "cell_type": "code",
   "execution_count": 18,
   "outputs": [],
   "source": [
    "df.to_csv(DATASET_CSV_OUTPUT)"
   ],
   "metadata": {
    "collapsed": false,
    "ExecuteTime": {
     "start_time": "2023-04-20T18:17:18.025776Z",
     "end_time": "2023-04-20T18:17:19.585590Z"
    }
   }
  }
 ],
 "metadata": {
  "kernelspec": {
   "display_name": "Python 3 (ipykernel)",
   "language": "python",
   "name": "python3"
  },
  "language_info": {
   "codemirror_mode": {
    "name": "ipython",
    "version": 3
   },
   "file_extension": ".py",
   "mimetype": "text/x-python",
   "name": "python",
   "nbconvert_exporter": "python",
   "pygments_lexer": "ipython3",
   "version": "3.10.6"
  }
 },
 "nbformat": 4,
 "nbformat_minor": 1
}
