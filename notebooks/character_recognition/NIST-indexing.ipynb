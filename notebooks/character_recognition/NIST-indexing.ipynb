{
 "cells": [
  {
   "cell_type": "markdown",
   "metadata": {
    "collapsed": true
   },
   "source": [
    "# Construction des dictionnaires pour la Reconnaissance Optique de caractère\n",
    "\n",
    "Dans ce notebook sera présenté le pré-traitement du jeu de donnée [NIST 2nd](https://www.nist.gov/srd/nist-special-database-19) afin d'obtenir un nouveau jeu de donnée données plus facilement utilisable pour notre algorithme de reconnaissance de caractère\n",
    "\n",
    "Ce pré-traitement de donnée aura plusieurs objectifs :\n",
    "- Sélectionner les bonnes données parmis le dataset ( uniquement les lettres majuscules ou minuscules)\n",
    "- Redimensionner les images pour obtenir des images plus petites afin de soulager notre algorithme d'OCR\n",
    "- Trier ses données pour obtenir l'arborescence de dataset qui sera décrit ci-dessous\n",
    "\n",
    "**structure du nouveau dataset obtenu:**\n",
    " - NIST-dataset\n",
    "    - train_set\n",
    "        - a\n",
    "            - a000001.png\n",
    "            - a000002.png\n",
    "            ...\n",
    "            ...\n",
    "            - a00000n.png\n",
    "        - b ....\n",
    "        ...\n",
    "        - z ...\n",
    "    - test_set\n",
    "        - a\n",
    "            - a000001.png\n",
    "            - a000002.png\n",
    "            ...\n",
    "            ...\n",
    "            - a00000n.png\n",
    "        - b ....\n",
    "        ...\n",
    "        - z ...\n",
    "\n",
    "    **Pour exécuter le notebook, renommer le dossier \"by_class\" en \"NIST-dataset\" puis placer celui-ci le sous dossier data/raw.**"
   ]
  },
  {
   "cell_type": "markdown",
   "metadata": {},
   "source": [
    "## Importation des ressources nécessaires\n",
    "\n",
    "### Importation des dépandances."
   ]
  },
  {
   "cell_type": "code",
   "execution_count": 1,
   "metadata": {},
   "outputs": [],
   "source": [
    "import os\n",
    "from glob import glob\n",
    "from random import shuffle\n",
    "from string import ascii_lowercase, ascii_uppercase\n",
    "import pandas as pd"
   ]
  },
  {
   "cell_type": "markdown",
   "metadata": {},
   "source": [
    "## Déclaration des paramètres"
   ]
  },
  {
   "cell_type": "markdown",
   "metadata": {},
   "source": [
    "Le nombre d'HSF que l'on veut charger à une influence directe sur le temps de calculs et la quantité de ressources nécessaires pour exécuter ce notebook.\n",
    "1 HSF représente 1/8 du dataset, donc 4 HSF représenteront 1/2 du dataset"
   ]
  },
  {
   "cell_type": "code",
   "execution_count": 2,
   "metadata": {},
   "outputs": [],
   "source": [
    "DATASET_INPUT=\"../../data/raw/NIST-dataset\" # Chemin ou l'on va récupérer le datatset\n",
    "DATASET_OUTPUT=\"../../data/processed/NIST-dataset\" # Chemin ou le nouveau dataset sera stocké\n",
    "DATASET_CSV_OUTPUT=\"../../data/processed/NIST-dataset/nist.csv\"\n",
    "NUMBER_OF_HSF = [0, 1, 2, 3, 4, 5, 6, 7] # Le nombre de HSF que l'on veut charger\n",
    "PERCENT_OF_DATA = 1\n",
    "RANDOM=True\n",
    "\n",
    "if not os.path.exists(DATASET_OUTPUT):\n",
    "    os.makedirs(DATASET_OUTPUT)"
   ]
  },
  {
   "cell_type": "markdown",
   "metadata": {},
   "source": [
    "## Importation du dataset\n",
    "### seléction des données voulus\n",
    "Dans ce présent notebook, nous voulons sélectionner uniquement les lettres a-z et A-Z. Pour ce faire on doit parcourir l'arborescence du dataset, sachant que chaque caractère sera stocké dans un dossier portant comme nom, le nombre ASCII en hexadécimal correspondant."
   ]
  },
  {
   "cell_type": "code",
   "execution_count": 3,
   "metadata": {
    "scrolled": true
   },
   "outputs": [
    {
     "data": {
      "text/plain": "['61', '62', '63', '64', '65']"
     },
     "execution_count": 3,
     "metadata": {},
     "output_type": "execute_result"
    }
   ],
   "source": [
    "alphabet_hex = [hex(ord(char)) for char in ascii_lowercase + ascii_uppercase]\n",
    "alphabet_hex_truncated = [hex_str.split(\"x\")[1] for hex_str in alphabet_hex]\n",
    "\n",
    "alphabet_hex_truncated[:5]"
   ]
  },
  {
   "cell_type": "markdown",
   "metadata": {},
   "source": [
    "## Préparation du dataframe\n",
    "\n",
    "Le but de ses opérations seront de référencer toutes les données voulues du jeu de donnée dans un dataframe panda qui sera utilisé pour effectuer les divers traitements sur les images"
   ]
  },
  {
   "cell_type": "code",
   "execution_count": 4,
   "metadata": {},
   "outputs": [],
   "source": [
    "COLUMNS = [\"letter\", \"hsf_number\", \"old_file_name\", \"new_file_name\",\"old_path\", \"new_path\"]\n",
    "dataset = pd.DataFrame(columns=COLUMNS, dtype=str)"
   ]
  },
  {
   "cell_type": "markdown",
   "metadata": {},
   "source": [
    "## Remplir le dataset\n",
    "Maintenant que les données souhaités sont connus, nous pouvons commencer à remplir le dataset\n",
    "### Fonctions utilitaires"
   ]
  },
  {
   "cell_type": "markdown",
   "metadata": {},
   "source": [
    "Fonction pour récupérer un char depuis une chaine de charactère hexedécimal ascii"
   ]
  },
  {
   "cell_type": "code",
   "execution_count": 5,
   "metadata": {},
   "outputs": [
    {
     "data": {
      "text/plain": "'Z'"
     },
     "execution_count": 5,
     "metadata": {},
     "output_type": "execute_result"
    }
   ],
   "source": [
    "def hex_char_to_str(ascii_hex_truncated_char):\n",
    "    ascii_hex_char = f\"0x{ascii_hex_truncated_char}\"\n",
    "    ascii_decimal = int(ascii_hex_char, 16)\n",
    "    return chr(ascii_decimal)\n",
    "\n",
    "hex_char_to_str(\"5a\") # Exemple avec la chaine troncaturé ascii de a en hexa"
   ]
  },
  {
   "cell_type": "markdown",
   "metadata": {},
   "source": [
    "Fonction pour récupérer une dictionnaire représentant une ligne du dataset"
   ]
  },
  {
   "cell_type": "code",
   "execution_count": 6,
   "metadata": {},
   "outputs": [],
   "source": [
    "def get_new_row(letter_value, hsf_number_value, old_file_name_value, new_file_name_value, old_path_value, new_path_value):\n",
    "    new_row = {COLUMNS[0]: letter_value, COLUMNS[1]: hsf_number_value, COLUMNS[2]: old_file_name_value, COLUMNS[3]: new_file_name_value, COLUMNS[4]: old_path_value, COLUMNS[5]: new_path_value}\n",
    "\n",
    "    return new_row"
   ]
  },
  {
   "cell_type": "markdown",
   "metadata": {},
   "source": [
    "Fonction ajouter une nouvelle ligne à la fin du dataset"
   ]
  },
  {
   "cell_type": "code",
   "execution_count": 7,
   "metadata": {},
   "outputs": [],
   "source": [
    "def dataset_append_row(row):\n",
    "    dataset.loc[len(dataset)] = row"
   ]
  },
  {
   "cell_type": "markdown",
   "metadata": {},
   "source": [
    "Fonction pour obtenir tous les fichiers logeant dans un répertoire d' un certain type"
   ]
  },
  {
   "cell_type": "code",
   "execution_count": 8,
   "metadata": {
    "scrolled": true
   },
   "outputs": [
    {
     "data": {
      "text/plain": "['../../data/raw/NIST-dataset/4a/hsf_0\\\\hsf_0_00359.png',\n '../../data/raw/NIST-dataset/4a/hsf_0\\\\hsf_0_00925.png',\n '../../data/raw/NIST-dataset/4a/hsf_0\\\\hsf_0_00812.png',\n '../../data/raw/NIST-dataset/4a/hsf_0\\\\hsf_0_00112.png',\n '../../data/raw/NIST-dataset/4a/hsf_0\\\\hsf_0_01015.png']"
     },
     "execution_count": 8,
     "metadata": {},
     "output_type": "execute_result"
    }
   ],
   "source": [
    "def get_files_in_directory(path, file_type):\n",
    "    search_path = os.path.join(path, f\"*.{file_type}\")\n",
    "    list_files = [file for file in glob(search_path)]\n",
    "    number_of_element = int(len(list_files) * PERCENT_OF_DATA)\n",
    "    if RANDOM:\n",
    "        shuffle(list_files)\n",
    "    return list_files[:number_of_element]\n",
    "    \n",
    "get_files_in_directory(\"../../data/raw/NIST-dataset/4a/hsf_0\", \"png\")[:5] # On teste le bon fonctionnement de la fonction"
   ]
  },
  {
   "cell_type": "markdown",
   "metadata": {},
   "source": [
    "Fonction pour formater un chiffre de la manière suivant:\n",
    "1 -> 001"
   ]
  },
  {
   "cell_type": "code",
   "execution_count": 9,
   "metadata": {},
   "outputs": [],
   "source": [
    "def format_indice(indice):\n",
    "    return '{0:03}'.format(indice) # 1 -> 001"
   ]
  },
  {
   "cell_type": "markdown",
   "metadata": {},
   "source": [
    "### Remplissage effectif du dataset en utilisant les fonctions définis précédemment"
   ]
  },
  {
   "cell_type": "code",
   "execution_count": 10,
   "metadata": {},
   "outputs": [
    {
     "name": "stdout",
     "output_type": "stream",
     "text": [
      "../../data/raw/NIST-dataset\\61\\hsf_0\n",
      "../../data/raw/NIST-dataset\\61\\hsf_1\n",
      "../../data/raw/NIST-dataset\\61\\hsf_2\n",
      "../../data/raw/NIST-dataset\\61\\hsf_3\n",
      "../../data/raw/NIST-dataset\\61\\hsf_4\n",
      "../../data/raw/NIST-dataset\\61\\hsf_5\n",
      "../../data/raw/NIST-dataset\\61\\hsf_6\n",
      "../../data/raw/NIST-dataset\\61\\hsf_7\n",
      "../../data/raw/NIST-dataset\\62\\hsf_0\n",
      "../../data/raw/NIST-dataset\\62\\hsf_1\n",
      "../../data/raw/NIST-dataset\\62\\hsf_2\n",
      "../../data/raw/NIST-dataset\\62\\hsf_3\n",
      "../../data/raw/NIST-dataset\\62\\hsf_4\n",
      "../../data/raw/NIST-dataset\\62\\hsf_5\n",
      "../../data/raw/NIST-dataset\\62\\hsf_6\n",
      "../../data/raw/NIST-dataset\\62\\hsf_7\n",
      "../../data/raw/NIST-dataset\\63\\hsf_0\n",
      "../../data/raw/NIST-dataset\\63\\hsf_1\n",
      "../../data/raw/NIST-dataset\\63\\hsf_2\n",
      "../../data/raw/NIST-dataset\\63\\hsf_3\n",
      "../../data/raw/NIST-dataset\\63\\hsf_4\n",
      "../../data/raw/NIST-dataset\\63\\hsf_5\n",
      "../../data/raw/NIST-dataset\\63\\hsf_6\n",
      "../../data/raw/NIST-dataset\\63\\hsf_7\n",
      "../../data/raw/NIST-dataset\\64\\hsf_0\n",
      "../../data/raw/NIST-dataset\\64\\hsf_1\n",
      "../../data/raw/NIST-dataset\\64\\hsf_2\n",
      "../../data/raw/NIST-dataset\\64\\hsf_3\n",
      "../../data/raw/NIST-dataset\\64\\hsf_4\n",
      "../../data/raw/NIST-dataset\\64\\hsf_5\n",
      "../../data/raw/NIST-dataset\\64\\hsf_6\n",
      "../../data/raw/NIST-dataset\\64\\hsf_7\n",
      "../../data/raw/NIST-dataset\\65\\hsf_0\n",
      "../../data/raw/NIST-dataset\\65\\hsf_1\n",
      "../../data/raw/NIST-dataset\\65\\hsf_2\n",
      "../../data/raw/NIST-dataset\\65\\hsf_3\n",
      "../../data/raw/NIST-dataset\\65\\hsf_4\n",
      "../../data/raw/NIST-dataset\\65\\hsf_5\n",
      "../../data/raw/NIST-dataset\\65\\hsf_6\n",
      "../../data/raw/NIST-dataset\\65\\hsf_7\n",
      "../../data/raw/NIST-dataset\\66\\hsf_0\n",
      "../../data/raw/NIST-dataset\\66\\hsf_1\n",
      "../../data/raw/NIST-dataset\\66\\hsf_2\n",
      "../../data/raw/NIST-dataset\\66\\hsf_3\n",
      "../../data/raw/NIST-dataset\\66\\hsf_4\n",
      "../../data/raw/NIST-dataset\\66\\hsf_5\n",
      "../../data/raw/NIST-dataset\\66\\hsf_6\n",
      "../../data/raw/NIST-dataset\\66\\hsf_7\n",
      "../../data/raw/NIST-dataset\\67\\hsf_0\n",
      "../../data/raw/NIST-dataset\\67\\hsf_1\n",
      "../../data/raw/NIST-dataset\\67\\hsf_2\n",
      "../../data/raw/NIST-dataset\\67\\hsf_3\n",
      "../../data/raw/NIST-dataset\\67\\hsf_4\n",
      "../../data/raw/NIST-dataset\\67\\hsf_5\n",
      "../../data/raw/NIST-dataset\\67\\hsf_6\n",
      "../../data/raw/NIST-dataset\\67\\hsf_7\n",
      "../../data/raw/NIST-dataset\\68\\hsf_0\n",
      "../../data/raw/NIST-dataset\\68\\hsf_1\n",
      "../../data/raw/NIST-dataset\\68\\hsf_2\n",
      "../../data/raw/NIST-dataset\\68\\hsf_3\n",
      "../../data/raw/NIST-dataset\\68\\hsf_4\n",
      "../../data/raw/NIST-dataset\\68\\hsf_5\n",
      "../../data/raw/NIST-dataset\\68\\hsf_6\n",
      "../../data/raw/NIST-dataset\\68\\hsf_7\n",
      "../../data/raw/NIST-dataset\\69\\hsf_0\n",
      "../../data/raw/NIST-dataset\\69\\hsf_1\n",
      "../../data/raw/NIST-dataset\\69\\hsf_2\n",
      "../../data/raw/NIST-dataset\\69\\hsf_3\n",
      "../../data/raw/NIST-dataset\\69\\hsf_4\n",
      "../../data/raw/NIST-dataset\\69\\hsf_5\n",
      "../../data/raw/NIST-dataset\\69\\hsf_6\n",
      "../../data/raw/NIST-dataset\\69\\hsf_7\n",
      "../../data/raw/NIST-dataset\\6a\\hsf_0\n",
      "../../data/raw/NIST-dataset\\6a\\hsf_1\n",
      "../../data/raw/NIST-dataset\\6a\\hsf_2\n",
      "../../data/raw/NIST-dataset\\6a\\hsf_3\n",
      "../../data/raw/NIST-dataset\\6a\\hsf_4\n",
      "../../data/raw/NIST-dataset\\6a\\hsf_5\n",
      "../../data/raw/NIST-dataset\\6a\\hsf_6\n",
      "../../data/raw/NIST-dataset\\6a\\hsf_7\n",
      "../../data/raw/NIST-dataset\\6b\\hsf_0\n",
      "../../data/raw/NIST-dataset\\6b\\hsf_1\n",
      "../../data/raw/NIST-dataset\\6b\\hsf_2\n",
      "../../data/raw/NIST-dataset\\6b\\hsf_3\n",
      "../../data/raw/NIST-dataset\\6b\\hsf_4\n",
      "../../data/raw/NIST-dataset\\6b\\hsf_5\n",
      "../../data/raw/NIST-dataset\\6b\\hsf_6\n",
      "../../data/raw/NIST-dataset\\6b\\hsf_7\n",
      "../../data/raw/NIST-dataset\\6c\\hsf_0\n",
      "../../data/raw/NIST-dataset\\6c\\hsf_1\n",
      "../../data/raw/NIST-dataset\\6c\\hsf_2\n",
      "../../data/raw/NIST-dataset\\6c\\hsf_3\n",
      "../../data/raw/NIST-dataset\\6c\\hsf_4\n",
      "../../data/raw/NIST-dataset\\6c\\hsf_5\n",
      "../../data/raw/NIST-dataset\\6c\\hsf_6\n",
      "../../data/raw/NIST-dataset\\6c\\hsf_7\n",
      "../../data/raw/NIST-dataset\\6d\\hsf_0\n",
      "../../data/raw/NIST-dataset\\6d\\hsf_1\n",
      "../../data/raw/NIST-dataset\\6d\\hsf_2\n",
      "../../data/raw/NIST-dataset\\6d\\hsf_3\n",
      "../../data/raw/NIST-dataset\\6d\\hsf_4\n",
      "../../data/raw/NIST-dataset\\6d\\hsf_5\n",
      "../../data/raw/NIST-dataset\\6d\\hsf_6\n",
      "../../data/raw/NIST-dataset\\6d\\hsf_7\n",
      "../../data/raw/NIST-dataset\\6e\\hsf_0\n",
      "../../data/raw/NIST-dataset\\6e\\hsf_1\n",
      "../../data/raw/NIST-dataset\\6e\\hsf_2\n",
      "../../data/raw/NIST-dataset\\6e\\hsf_3\n",
      "../../data/raw/NIST-dataset\\6e\\hsf_4\n",
      "../../data/raw/NIST-dataset\\6e\\hsf_5\n",
      "../../data/raw/NIST-dataset\\6e\\hsf_6\n",
      "../../data/raw/NIST-dataset\\6e\\hsf_7\n",
      "../../data/raw/NIST-dataset\\6f\\hsf_0\n",
      "../../data/raw/NIST-dataset\\6f\\hsf_1\n",
      "../../data/raw/NIST-dataset\\6f\\hsf_2\n",
      "../../data/raw/NIST-dataset\\6f\\hsf_3\n",
      "../../data/raw/NIST-dataset\\6f\\hsf_4\n",
      "../../data/raw/NIST-dataset\\6f\\hsf_5\n",
      "../../data/raw/NIST-dataset\\6f\\hsf_6\n",
      "../../data/raw/NIST-dataset\\6f\\hsf_7\n",
      "../../data/raw/NIST-dataset\\70\\hsf_0\n",
      "../../data/raw/NIST-dataset\\70\\hsf_1\n",
      "../../data/raw/NIST-dataset\\70\\hsf_2\n",
      "../../data/raw/NIST-dataset\\70\\hsf_3\n",
      "../../data/raw/NIST-dataset\\70\\hsf_4\n",
      "../../data/raw/NIST-dataset\\70\\hsf_5\n",
      "../../data/raw/NIST-dataset\\70\\hsf_6\n",
      "../../data/raw/NIST-dataset\\70\\hsf_7\n",
      "../../data/raw/NIST-dataset\\71\\hsf_0\n",
      "../../data/raw/NIST-dataset\\71\\hsf_1\n",
      "../../data/raw/NIST-dataset\\71\\hsf_2\n",
      "../../data/raw/NIST-dataset\\71\\hsf_3\n",
      "../../data/raw/NIST-dataset\\71\\hsf_4\n",
      "../../data/raw/NIST-dataset\\71\\hsf_5\n",
      "../../data/raw/NIST-dataset\\71\\hsf_6\n",
      "../../data/raw/NIST-dataset\\71\\hsf_7\n",
      "../../data/raw/NIST-dataset\\72\\hsf_0\n",
      "../../data/raw/NIST-dataset\\72\\hsf_1\n",
      "../../data/raw/NIST-dataset\\72\\hsf_2\n",
      "../../data/raw/NIST-dataset\\72\\hsf_3\n",
      "../../data/raw/NIST-dataset\\72\\hsf_4\n",
      "../../data/raw/NIST-dataset\\72\\hsf_5\n",
      "../../data/raw/NIST-dataset\\72\\hsf_6\n",
      "../../data/raw/NIST-dataset\\72\\hsf_7\n",
      "../../data/raw/NIST-dataset\\73\\hsf_0\n",
      "../../data/raw/NIST-dataset\\73\\hsf_1\n",
      "../../data/raw/NIST-dataset\\73\\hsf_2\n",
      "../../data/raw/NIST-dataset\\73\\hsf_3\n",
      "../../data/raw/NIST-dataset\\73\\hsf_4\n",
      "../../data/raw/NIST-dataset\\73\\hsf_5\n",
      "../../data/raw/NIST-dataset\\73\\hsf_6\n",
      "../../data/raw/NIST-dataset\\73\\hsf_7\n",
      "../../data/raw/NIST-dataset\\74\\hsf_0\n",
      "../../data/raw/NIST-dataset\\74\\hsf_1\n",
      "../../data/raw/NIST-dataset\\74\\hsf_2\n",
      "../../data/raw/NIST-dataset\\74\\hsf_3\n",
      "../../data/raw/NIST-dataset\\74\\hsf_4\n",
      "../../data/raw/NIST-dataset\\74\\hsf_5\n",
      "../../data/raw/NIST-dataset\\74\\hsf_6\n",
      "../../data/raw/NIST-dataset\\74\\hsf_7\n",
      "../../data/raw/NIST-dataset\\75\\hsf_0\n",
      "../../data/raw/NIST-dataset\\75\\hsf_1\n",
      "../../data/raw/NIST-dataset\\75\\hsf_2\n",
      "../../data/raw/NIST-dataset\\75\\hsf_3\n",
      "../../data/raw/NIST-dataset\\75\\hsf_4\n",
      "../../data/raw/NIST-dataset\\75\\hsf_5\n",
      "../../data/raw/NIST-dataset\\75\\hsf_6\n",
      "../../data/raw/NIST-dataset\\75\\hsf_7\n",
      "../../data/raw/NIST-dataset\\76\\hsf_0\n",
      "../../data/raw/NIST-dataset\\76\\hsf_1\n",
      "../../data/raw/NIST-dataset\\76\\hsf_2\n",
      "../../data/raw/NIST-dataset\\76\\hsf_3\n",
      "../../data/raw/NIST-dataset\\76\\hsf_4\n",
      "../../data/raw/NIST-dataset\\76\\hsf_5\n",
      "../../data/raw/NIST-dataset\\76\\hsf_6\n",
      "../../data/raw/NIST-dataset\\76\\hsf_7\n",
      "../../data/raw/NIST-dataset\\77\\hsf_0\n",
      "../../data/raw/NIST-dataset\\77\\hsf_1\n",
      "../../data/raw/NIST-dataset\\77\\hsf_2\n",
      "../../data/raw/NIST-dataset\\77\\hsf_3\n",
      "../../data/raw/NIST-dataset\\77\\hsf_4\n",
      "../../data/raw/NIST-dataset\\77\\hsf_5\n",
      "../../data/raw/NIST-dataset\\77\\hsf_6\n",
      "../../data/raw/NIST-dataset\\77\\hsf_7\n",
      "../../data/raw/NIST-dataset\\78\\hsf_0\n",
      "../../data/raw/NIST-dataset\\78\\hsf_1\n",
      "../../data/raw/NIST-dataset\\78\\hsf_2\n",
      "../../data/raw/NIST-dataset\\78\\hsf_3\n",
      "../../data/raw/NIST-dataset\\78\\hsf_4\n",
      "../../data/raw/NIST-dataset\\78\\hsf_5\n",
      "../../data/raw/NIST-dataset\\78\\hsf_6\n",
      "../../data/raw/NIST-dataset\\78\\hsf_7\n",
      "../../data/raw/NIST-dataset\\79\\hsf_0\n",
      "../../data/raw/NIST-dataset\\79\\hsf_1\n",
      "../../data/raw/NIST-dataset\\79\\hsf_2\n",
      "../../data/raw/NIST-dataset\\79\\hsf_3\n",
      "../../data/raw/NIST-dataset\\79\\hsf_4\n",
      "../../data/raw/NIST-dataset\\79\\hsf_5\n",
      "../../data/raw/NIST-dataset\\79\\hsf_6\n",
      "../../data/raw/NIST-dataset\\79\\hsf_7\n",
      "../../data/raw/NIST-dataset\\7a\\hsf_0\n",
      "../../data/raw/NIST-dataset\\7a\\hsf_1\n",
      "../../data/raw/NIST-dataset\\7a\\hsf_2\n",
      "../../data/raw/NIST-dataset\\7a\\hsf_3\n",
      "../../data/raw/NIST-dataset\\7a\\hsf_4\n",
      "../../data/raw/NIST-dataset\\7a\\hsf_5\n",
      "../../data/raw/NIST-dataset\\7a\\hsf_6\n",
      "../../data/raw/NIST-dataset\\7a\\hsf_7\n",
      "../../data/raw/NIST-dataset\\41\\hsf_0\n",
      "../../data/raw/NIST-dataset\\41\\hsf_1\n",
      "../../data/raw/NIST-dataset\\41\\hsf_2\n",
      "../../data/raw/NIST-dataset\\41\\hsf_3\n",
      "../../data/raw/NIST-dataset\\41\\hsf_4\n",
      "../../data/raw/NIST-dataset\\41\\hsf_5\n",
      "../../data/raw/NIST-dataset\\41\\hsf_6\n",
      "../../data/raw/NIST-dataset\\41\\hsf_7\n",
      "../../data/raw/NIST-dataset\\42\\hsf_0\n",
      "../../data/raw/NIST-dataset\\42\\hsf_1\n",
      "../../data/raw/NIST-dataset\\42\\hsf_2\n",
      "../../data/raw/NIST-dataset\\42\\hsf_3\n",
      "../../data/raw/NIST-dataset\\42\\hsf_4\n",
      "../../data/raw/NIST-dataset\\42\\hsf_5\n",
      "../../data/raw/NIST-dataset\\42\\hsf_6\n",
      "../../data/raw/NIST-dataset\\42\\hsf_7\n",
      "../../data/raw/NIST-dataset\\43\\hsf_0\n",
      "../../data/raw/NIST-dataset\\43\\hsf_1\n",
      "../../data/raw/NIST-dataset\\43\\hsf_2\n",
      "../../data/raw/NIST-dataset\\43\\hsf_3\n",
      "../../data/raw/NIST-dataset\\43\\hsf_4\n",
      "../../data/raw/NIST-dataset\\43\\hsf_5\n",
      "../../data/raw/NIST-dataset\\43\\hsf_6\n",
      "../../data/raw/NIST-dataset\\43\\hsf_7\n",
      "../../data/raw/NIST-dataset\\44\\hsf_0\n",
      "../../data/raw/NIST-dataset\\44\\hsf_1\n",
      "../../data/raw/NIST-dataset\\44\\hsf_2\n",
      "../../data/raw/NIST-dataset\\44\\hsf_3\n",
      "../../data/raw/NIST-dataset\\44\\hsf_4\n",
      "../../data/raw/NIST-dataset\\44\\hsf_5\n",
      "../../data/raw/NIST-dataset\\44\\hsf_6\n",
      "../../data/raw/NIST-dataset\\44\\hsf_7\n",
      "../../data/raw/NIST-dataset\\45\\hsf_0\n",
      "../../data/raw/NIST-dataset\\45\\hsf_1\n",
      "../../data/raw/NIST-dataset\\45\\hsf_2\n",
      "../../data/raw/NIST-dataset\\45\\hsf_3\n",
      "../../data/raw/NIST-dataset\\45\\hsf_4\n",
      "../../data/raw/NIST-dataset\\45\\hsf_5\n",
      "../../data/raw/NIST-dataset\\45\\hsf_6\n",
      "../../data/raw/NIST-dataset\\45\\hsf_7\n",
      "../../data/raw/NIST-dataset\\46\\hsf_0\n",
      "../../data/raw/NIST-dataset\\46\\hsf_1\n",
      "../../data/raw/NIST-dataset\\46\\hsf_2\n",
      "../../data/raw/NIST-dataset\\46\\hsf_3\n",
      "../../data/raw/NIST-dataset\\46\\hsf_4\n",
      "../../data/raw/NIST-dataset\\46\\hsf_5\n",
      "../../data/raw/NIST-dataset\\46\\hsf_6\n",
      "../../data/raw/NIST-dataset\\46\\hsf_7\n",
      "../../data/raw/NIST-dataset\\47\\hsf_0\n",
      "../../data/raw/NIST-dataset\\47\\hsf_1\n",
      "../../data/raw/NIST-dataset\\47\\hsf_2\n",
      "../../data/raw/NIST-dataset\\47\\hsf_3\n",
      "../../data/raw/NIST-dataset\\47\\hsf_4\n",
      "../../data/raw/NIST-dataset\\47\\hsf_5\n",
      "../../data/raw/NIST-dataset\\47\\hsf_6\n",
      "../../data/raw/NIST-dataset\\47\\hsf_7\n",
      "../../data/raw/NIST-dataset\\48\\hsf_0\n",
      "../../data/raw/NIST-dataset\\48\\hsf_1\n",
      "../../data/raw/NIST-dataset\\48\\hsf_2\n",
      "../../data/raw/NIST-dataset\\48\\hsf_3\n",
      "../../data/raw/NIST-dataset\\48\\hsf_4\n",
      "../../data/raw/NIST-dataset\\48\\hsf_5\n",
      "../../data/raw/NIST-dataset\\48\\hsf_6\n",
      "../../data/raw/NIST-dataset\\48\\hsf_7\n",
      "../../data/raw/NIST-dataset\\49\\hsf_0\n",
      "../../data/raw/NIST-dataset\\49\\hsf_1\n",
      "../../data/raw/NIST-dataset\\49\\hsf_2\n",
      "../../data/raw/NIST-dataset\\49\\hsf_3\n",
      "../../data/raw/NIST-dataset\\49\\hsf_4\n",
      "../../data/raw/NIST-dataset\\49\\hsf_5\n",
      "../../data/raw/NIST-dataset\\49\\hsf_6\n",
      "../../data/raw/NIST-dataset\\49\\hsf_7\n",
      "../../data/raw/NIST-dataset\\4a\\hsf_0\n",
      "../../data/raw/NIST-dataset\\4a\\hsf_1\n",
      "../../data/raw/NIST-dataset\\4a\\hsf_2\n",
      "../../data/raw/NIST-dataset\\4a\\hsf_3\n",
      "../../data/raw/NIST-dataset\\4a\\hsf_4\n",
      "../../data/raw/NIST-dataset\\4a\\hsf_5\n",
      "../../data/raw/NIST-dataset\\4a\\hsf_6\n",
      "../../data/raw/NIST-dataset\\4a\\hsf_7\n",
      "../../data/raw/NIST-dataset\\4b\\hsf_0\n",
      "../../data/raw/NIST-dataset\\4b\\hsf_1\n",
      "../../data/raw/NIST-dataset\\4b\\hsf_2\n",
      "../../data/raw/NIST-dataset\\4b\\hsf_3\n",
      "../../data/raw/NIST-dataset\\4b\\hsf_4\n",
      "../../data/raw/NIST-dataset\\4b\\hsf_5\n",
      "../../data/raw/NIST-dataset\\4b\\hsf_6\n",
      "../../data/raw/NIST-dataset\\4b\\hsf_7\n",
      "../../data/raw/NIST-dataset\\4c\\hsf_0\n",
      "../../data/raw/NIST-dataset\\4c\\hsf_1\n",
      "../../data/raw/NIST-dataset\\4c\\hsf_2\n",
      "../../data/raw/NIST-dataset\\4c\\hsf_3\n",
      "../../data/raw/NIST-dataset\\4c\\hsf_4\n",
      "../../data/raw/NIST-dataset\\4c\\hsf_5\n",
      "../../data/raw/NIST-dataset\\4c\\hsf_6\n",
      "../../data/raw/NIST-dataset\\4c\\hsf_7\n",
      "../../data/raw/NIST-dataset\\4d\\hsf_0\n",
      "../../data/raw/NIST-dataset\\4d\\hsf_1\n",
      "../../data/raw/NIST-dataset\\4d\\hsf_2\n",
      "../../data/raw/NIST-dataset\\4d\\hsf_3\n",
      "../../data/raw/NIST-dataset\\4d\\hsf_4\n",
      "../../data/raw/NIST-dataset\\4d\\hsf_5\n",
      "../../data/raw/NIST-dataset\\4d\\hsf_6\n",
      "../../data/raw/NIST-dataset\\4d\\hsf_7\n",
      "../../data/raw/NIST-dataset\\4e\\hsf_0\n",
      "../../data/raw/NIST-dataset\\4e\\hsf_1\n",
      "../../data/raw/NIST-dataset\\4e\\hsf_2\n",
      "../../data/raw/NIST-dataset\\4e\\hsf_3\n",
      "../../data/raw/NIST-dataset\\4e\\hsf_4\n",
      "../../data/raw/NIST-dataset\\4e\\hsf_5\n",
      "../../data/raw/NIST-dataset\\4e\\hsf_6\n",
      "../../data/raw/NIST-dataset\\4e\\hsf_7\n",
      "../../data/raw/NIST-dataset\\4f\\hsf_0\n",
      "../../data/raw/NIST-dataset\\4f\\hsf_1\n",
      "../../data/raw/NIST-dataset\\4f\\hsf_2\n",
      "../../data/raw/NIST-dataset\\4f\\hsf_3\n",
      "../../data/raw/NIST-dataset\\4f\\hsf_4\n",
      "../../data/raw/NIST-dataset\\4f\\hsf_5\n",
      "../../data/raw/NIST-dataset\\4f\\hsf_6\n",
      "../../data/raw/NIST-dataset\\4f\\hsf_7\n",
      "../../data/raw/NIST-dataset\\50\\hsf_0\n",
      "../../data/raw/NIST-dataset\\50\\hsf_1\n",
      "../../data/raw/NIST-dataset\\50\\hsf_2\n",
      "../../data/raw/NIST-dataset\\50\\hsf_3\n",
      "../../data/raw/NIST-dataset\\50\\hsf_4\n",
      "../../data/raw/NIST-dataset\\50\\hsf_5\n",
      "../../data/raw/NIST-dataset\\50\\hsf_6\n",
      "../../data/raw/NIST-dataset\\50\\hsf_7\n",
      "../../data/raw/NIST-dataset\\51\\hsf_0\n",
      "../../data/raw/NIST-dataset\\51\\hsf_1\n",
      "../../data/raw/NIST-dataset\\51\\hsf_2\n",
      "../../data/raw/NIST-dataset\\51\\hsf_3\n",
      "../../data/raw/NIST-dataset\\51\\hsf_4\n",
      "../../data/raw/NIST-dataset\\51\\hsf_5\n",
      "../../data/raw/NIST-dataset\\51\\hsf_6\n",
      "../../data/raw/NIST-dataset\\51\\hsf_7\n",
      "../../data/raw/NIST-dataset\\52\\hsf_0\n",
      "../../data/raw/NIST-dataset\\52\\hsf_1\n",
      "../../data/raw/NIST-dataset\\52\\hsf_2\n",
      "../../data/raw/NIST-dataset\\52\\hsf_3\n",
      "../../data/raw/NIST-dataset\\52\\hsf_4\n",
      "../../data/raw/NIST-dataset\\52\\hsf_5\n",
      "../../data/raw/NIST-dataset\\52\\hsf_6\n",
      "../../data/raw/NIST-dataset\\52\\hsf_7\n",
      "../../data/raw/NIST-dataset\\53\\hsf_0\n",
      "../../data/raw/NIST-dataset\\53\\hsf_1\n",
      "../../data/raw/NIST-dataset\\53\\hsf_2\n",
      "../../data/raw/NIST-dataset\\53\\hsf_3\n",
      "../../data/raw/NIST-dataset\\53\\hsf_4\n",
      "../../data/raw/NIST-dataset\\53\\hsf_5\n",
      "../../data/raw/NIST-dataset\\53\\hsf_6\n",
      "../../data/raw/NIST-dataset\\53\\hsf_7\n",
      "../../data/raw/NIST-dataset\\54\\hsf_0\n",
      "../../data/raw/NIST-dataset\\54\\hsf_1\n",
      "../../data/raw/NIST-dataset\\54\\hsf_2\n",
      "../../data/raw/NIST-dataset\\54\\hsf_3\n",
      "../../data/raw/NIST-dataset\\54\\hsf_4\n",
      "../../data/raw/NIST-dataset\\54\\hsf_5\n",
      "../../data/raw/NIST-dataset\\54\\hsf_6\n",
      "../../data/raw/NIST-dataset\\54\\hsf_7\n",
      "../../data/raw/NIST-dataset\\55\\hsf_0\n",
      "../../data/raw/NIST-dataset\\55\\hsf_1\n",
      "../../data/raw/NIST-dataset\\55\\hsf_2\n",
      "../../data/raw/NIST-dataset\\55\\hsf_3\n",
      "../../data/raw/NIST-dataset\\55\\hsf_4\n",
      "../../data/raw/NIST-dataset\\55\\hsf_5\n",
      "../../data/raw/NIST-dataset\\55\\hsf_6\n",
      "../../data/raw/NIST-dataset\\55\\hsf_7\n",
      "../../data/raw/NIST-dataset\\56\\hsf_0\n",
      "../../data/raw/NIST-dataset\\56\\hsf_1\n",
      "../../data/raw/NIST-dataset\\56\\hsf_2\n",
      "../../data/raw/NIST-dataset\\56\\hsf_3\n",
      "../../data/raw/NIST-dataset\\56\\hsf_4\n",
      "../../data/raw/NIST-dataset\\56\\hsf_5\n",
      "../../data/raw/NIST-dataset\\56\\hsf_6\n",
      "../../data/raw/NIST-dataset\\56\\hsf_7\n",
      "../../data/raw/NIST-dataset\\57\\hsf_0\n",
      "../../data/raw/NIST-dataset\\57\\hsf_1\n",
      "../../data/raw/NIST-dataset\\57\\hsf_2\n",
      "../../data/raw/NIST-dataset\\57\\hsf_3\n",
      "../../data/raw/NIST-dataset\\57\\hsf_4\n",
      "../../data/raw/NIST-dataset\\57\\hsf_5\n",
      "../../data/raw/NIST-dataset\\57\\hsf_6\n",
      "../../data/raw/NIST-dataset\\57\\hsf_7\n",
      "../../data/raw/NIST-dataset\\58\\hsf_0\n",
      "../../data/raw/NIST-dataset\\58\\hsf_1\n",
      "../../data/raw/NIST-dataset\\58\\hsf_2\n",
      "../../data/raw/NIST-dataset\\58\\hsf_3\n",
      "../../data/raw/NIST-dataset\\58\\hsf_4\n",
      "../../data/raw/NIST-dataset\\58\\hsf_5\n",
      "../../data/raw/NIST-dataset\\58\\hsf_6\n",
      "../../data/raw/NIST-dataset\\58\\hsf_7\n",
      "../../data/raw/NIST-dataset\\59\\hsf_0\n",
      "../../data/raw/NIST-dataset\\59\\hsf_1\n",
      "../../data/raw/NIST-dataset\\59\\hsf_2\n",
      "../../data/raw/NIST-dataset\\59\\hsf_3\n",
      "../../data/raw/NIST-dataset\\59\\hsf_4\n",
      "../../data/raw/NIST-dataset\\59\\hsf_5\n",
      "../../data/raw/NIST-dataset\\59\\hsf_6\n",
      "../../data/raw/NIST-dataset\\59\\hsf_7\n",
      "../../data/raw/NIST-dataset\\5a\\hsf_0\n",
      "../../data/raw/NIST-dataset\\5a\\hsf_1\n",
      "../../data/raw/NIST-dataset\\5a\\hsf_2\n",
      "../../data/raw/NIST-dataset\\5a\\hsf_3\n",
      "../../data/raw/NIST-dataset\\5a\\hsf_4\n",
      "../../data/raw/NIST-dataset\\5a\\hsf_5\n",
      "../../data/raw/NIST-dataset\\5a\\hsf_6\n",
      "../../data/raw/NIST-dataset\\5a\\hsf_7\n"
     ]
    }
   ],
   "source": [
    "for ascii_hex_truncated_char in alphabet_hex_truncated:\n",
    "    for hsf_number in NUMBER_OF_HSF:\n",
    "        path = os.path.join(DATASET_INPUT, ascii_hex_truncated_char, f\"hsf_{hsf_number}\")\n",
    "        char = hex_char_to_str(ascii_hex_truncated_char)\n",
    "        indice = 0\n",
    "        print(path) # On observe l'avancement du programme\n",
    "        for file_path in get_files_in_directory(path, \"png\"):\n",
    "            old_file_name = file_path.split(os.sep)[-1]\n",
    "            new_file_name = f\"{char}{format_indice(indice)}.png\"\n",
    "            new_row = get_new_row(char, hsf_number, old_file_name, new_file_name, path, DATASET_OUTPUT)\n",
    "            dataset_append_row(new_row)\n",
    "            indice = indice + 1"
   ]
  },
  {
   "cell_type": "markdown",
   "metadata": {},
   "source": [
    "On visualise le jeu de données obtenu"
   ]
  },
  {
   "cell_type": "code",
   "execution_count": 11,
   "metadata": {},
   "outputs": [
    {
     "data": {
      "text/plain": "  letter  hsf_number    old_file_name new_file_name  \\\n0      a           0  hsf_0_00659.png      a000.png   \n1      a           0  hsf_0_02848.png      a001.png   \n2      a           0  hsf_0_03149.png      a002.png   \n3      a           0  hsf_0_02946.png      a003.png   \n4      a           0  hsf_0_00638.png      a004.png   \n\n                               old_path                           new_path  \n0  ../../data/raw/NIST-dataset\\61\\hsf_0  ../../data/processed/NIST-dataset  \n1  ../../data/raw/NIST-dataset\\61\\hsf_0  ../../data/processed/NIST-dataset  \n2  ../../data/raw/NIST-dataset\\61\\hsf_0  ../../data/processed/NIST-dataset  \n3  ../../data/raw/NIST-dataset\\61\\hsf_0  ../../data/processed/NIST-dataset  \n4  ../../data/raw/NIST-dataset\\61\\hsf_0  ../../data/processed/NIST-dataset  ",
      "text/html": "<div>\n<style scoped>\n    .dataframe tbody tr th:only-of-type {\n        vertical-align: middle;\n    }\n\n    .dataframe tbody tr th {\n        vertical-align: top;\n    }\n\n    .dataframe thead th {\n        text-align: right;\n    }\n</style>\n<table border=\"1\" class=\"dataframe\">\n  <thead>\n    <tr style=\"text-align: right;\">\n      <th></th>\n      <th>letter</th>\n      <th>hsf_number</th>\n      <th>old_file_name</th>\n      <th>new_file_name</th>\n      <th>old_path</th>\n      <th>new_path</th>\n    </tr>\n  </thead>\n  <tbody>\n    <tr>\n      <th>0</th>\n      <td>a</td>\n      <td>0</td>\n      <td>hsf_0_00659.png</td>\n      <td>a000.png</td>\n      <td>../../data/raw/NIST-dataset\\61\\hsf_0</td>\n      <td>../../data/processed/NIST-dataset</td>\n    </tr>\n    <tr>\n      <th>1</th>\n      <td>a</td>\n      <td>0</td>\n      <td>hsf_0_02848.png</td>\n      <td>a001.png</td>\n      <td>../../data/raw/NIST-dataset\\61\\hsf_0</td>\n      <td>../../data/processed/NIST-dataset</td>\n    </tr>\n    <tr>\n      <th>2</th>\n      <td>a</td>\n      <td>0</td>\n      <td>hsf_0_03149.png</td>\n      <td>a002.png</td>\n      <td>../../data/raw/NIST-dataset\\61\\hsf_0</td>\n      <td>../../data/processed/NIST-dataset</td>\n    </tr>\n    <tr>\n      <th>3</th>\n      <td>a</td>\n      <td>0</td>\n      <td>hsf_0_02946.png</td>\n      <td>a003.png</td>\n      <td>../../data/raw/NIST-dataset\\61\\hsf_0</td>\n      <td>../../data/processed/NIST-dataset</td>\n    </tr>\n    <tr>\n      <th>4</th>\n      <td>a</td>\n      <td>0</td>\n      <td>hsf_0_00638.png</td>\n      <td>a004.png</td>\n      <td>../../data/raw/NIST-dataset\\61\\hsf_0</td>\n      <td>../../data/processed/NIST-dataset</td>\n    </tr>\n  </tbody>\n</table>\n</div>"
     },
     "execution_count": 11,
     "metadata": {},
     "output_type": "execute_result"
    }
   ],
   "source": [
    "dataset.head(5)"
   ]
  },
  {
   "cell_type": "code",
   "execution_count": 12,
   "outputs": [
    {
     "data": {
      "text/plain": "       letter  hsf_number    old_file_name new_file_name  \\\n411297      Z           7  hsf_7_00021.png      Z449.png   \n411298      Z           7  hsf_7_00273.png      Z450.png   \n411299      Z           7  hsf_7_00298.png      Z451.png   \n411300      Z           7  hsf_7_00333.png      Z452.png   \n411301      Z           7  hsf_7_00145.png      Z453.png   \n\n                                    old_path  \\\n411297  ../../data/raw/NIST-dataset\\5a\\hsf_7   \n411298  ../../data/raw/NIST-dataset\\5a\\hsf_7   \n411299  ../../data/raw/NIST-dataset\\5a\\hsf_7   \n411300  ../../data/raw/NIST-dataset\\5a\\hsf_7   \n411301  ../../data/raw/NIST-dataset\\5a\\hsf_7   \n\n                                 new_path  \n411297  ../../data/processed/NIST-dataset  \n411298  ../../data/processed/NIST-dataset  \n411299  ../../data/processed/NIST-dataset  \n411300  ../../data/processed/NIST-dataset  \n411301  ../../data/processed/NIST-dataset  ",
      "text/html": "<div>\n<style scoped>\n    .dataframe tbody tr th:only-of-type {\n        vertical-align: middle;\n    }\n\n    .dataframe tbody tr th {\n        vertical-align: top;\n    }\n\n    .dataframe thead th {\n        text-align: right;\n    }\n</style>\n<table border=\"1\" class=\"dataframe\">\n  <thead>\n    <tr style=\"text-align: right;\">\n      <th></th>\n      <th>letter</th>\n      <th>hsf_number</th>\n      <th>old_file_name</th>\n      <th>new_file_name</th>\n      <th>old_path</th>\n      <th>new_path</th>\n    </tr>\n  </thead>\n  <tbody>\n    <tr>\n      <th>411297</th>\n      <td>Z</td>\n      <td>7</td>\n      <td>hsf_7_00021.png</td>\n      <td>Z449.png</td>\n      <td>../../data/raw/NIST-dataset\\5a\\hsf_7</td>\n      <td>../../data/processed/NIST-dataset</td>\n    </tr>\n    <tr>\n      <th>411298</th>\n      <td>Z</td>\n      <td>7</td>\n      <td>hsf_7_00273.png</td>\n      <td>Z450.png</td>\n      <td>../../data/raw/NIST-dataset\\5a\\hsf_7</td>\n      <td>../../data/processed/NIST-dataset</td>\n    </tr>\n    <tr>\n      <th>411299</th>\n      <td>Z</td>\n      <td>7</td>\n      <td>hsf_7_00298.png</td>\n      <td>Z451.png</td>\n      <td>../../data/raw/NIST-dataset\\5a\\hsf_7</td>\n      <td>../../data/processed/NIST-dataset</td>\n    </tr>\n    <tr>\n      <th>411300</th>\n      <td>Z</td>\n      <td>7</td>\n      <td>hsf_7_00333.png</td>\n      <td>Z452.png</td>\n      <td>../../data/raw/NIST-dataset\\5a\\hsf_7</td>\n      <td>../../data/processed/NIST-dataset</td>\n    </tr>\n    <tr>\n      <th>411301</th>\n      <td>Z</td>\n      <td>7</td>\n      <td>hsf_7_00145.png</td>\n      <td>Z453.png</td>\n      <td>../../data/raw/NIST-dataset\\5a\\hsf_7</td>\n      <td>../../data/processed/NIST-dataset</td>\n    </tr>\n  </tbody>\n</table>\n</div>"
     },
     "execution_count": 12,
     "metadata": {},
     "output_type": "execute_result"
    }
   ],
   "source": [
    "dataset.tail(5)"
   ],
   "metadata": {
    "collapsed": false
   }
  },
  {
   "cell_type": "markdown",
   "source": [
    "## Sauvegarde dataset listant les images et leurs noms sous forme de csv."
   ],
   "metadata": {
    "collapsed": false
   }
  },
  {
   "cell_type": "code",
   "execution_count": 13,
   "outputs": [],
   "source": [
    "dataset.to_csv(DATASET_CSV_OUTPUT)"
   ],
   "metadata": {
    "collapsed": false
   }
  },
  {
   "cell_type": "code",
   "execution_count": 21,
   "outputs": [
    {
     "data": {
      "text/plain": "   Unnamed: 0 letter  hsf_number    old_file_name new_file_name  \\\n0           0      a           0  hsf_0_00659.png      a000.png   \n1           1      a           0  hsf_0_02848.png      a001.png   \n2           2      a           0  hsf_0_03149.png      a002.png   \n3           3      a           0  hsf_0_02946.png      a003.png   \n4           4      a           0  hsf_0_00638.png      a004.png   \n\n                               old_path                           new_path  \n0  ../../data/raw/NIST-dataset\\61\\hsf_0  ../../data/processed/NIST-dataset  \n1  ../../data/raw/NIST-dataset\\61\\hsf_0  ../../data/processed/NIST-dataset  \n2  ../../data/raw/NIST-dataset\\61\\hsf_0  ../../data/processed/NIST-dataset  \n3  ../../data/raw/NIST-dataset\\61\\hsf_0  ../../data/processed/NIST-dataset  \n4  ../../data/raw/NIST-dataset\\61\\hsf_0  ../../data/processed/NIST-dataset  ",
      "text/html": "<div>\n<style scoped>\n    .dataframe tbody tr th:only-of-type {\n        vertical-align: middle;\n    }\n\n    .dataframe tbody tr th {\n        vertical-align: top;\n    }\n\n    .dataframe thead th {\n        text-align: right;\n    }\n</style>\n<table border=\"1\" class=\"dataframe\">\n  <thead>\n    <tr style=\"text-align: right;\">\n      <th></th>\n      <th>Unnamed: 0</th>\n      <th>letter</th>\n      <th>hsf_number</th>\n      <th>old_file_name</th>\n      <th>new_file_name</th>\n      <th>old_path</th>\n      <th>new_path</th>\n    </tr>\n  </thead>\n  <tbody>\n    <tr>\n      <th>0</th>\n      <td>0</td>\n      <td>a</td>\n      <td>0</td>\n      <td>hsf_0_00659.png</td>\n      <td>a000.png</td>\n      <td>../../data/raw/NIST-dataset\\61\\hsf_0</td>\n      <td>../../data/processed/NIST-dataset</td>\n    </tr>\n    <tr>\n      <th>1</th>\n      <td>1</td>\n      <td>a</td>\n      <td>0</td>\n      <td>hsf_0_02848.png</td>\n      <td>a001.png</td>\n      <td>../../data/raw/NIST-dataset\\61\\hsf_0</td>\n      <td>../../data/processed/NIST-dataset</td>\n    </tr>\n    <tr>\n      <th>2</th>\n      <td>2</td>\n      <td>a</td>\n      <td>0</td>\n      <td>hsf_0_03149.png</td>\n      <td>a002.png</td>\n      <td>../../data/raw/NIST-dataset\\61\\hsf_0</td>\n      <td>../../data/processed/NIST-dataset</td>\n    </tr>\n    <tr>\n      <th>3</th>\n      <td>3</td>\n      <td>a</td>\n      <td>0</td>\n      <td>hsf_0_02946.png</td>\n      <td>a003.png</td>\n      <td>../../data/raw/NIST-dataset\\61\\hsf_0</td>\n      <td>../../data/processed/NIST-dataset</td>\n    </tr>\n    <tr>\n      <th>4</th>\n      <td>4</td>\n      <td>a</td>\n      <td>0</td>\n      <td>hsf_0_00638.png</td>\n      <td>a004.png</td>\n      <td>../../data/raw/NIST-dataset\\61\\hsf_0</td>\n      <td>../../data/processed/NIST-dataset</td>\n    </tr>\n  </tbody>\n</table>\n</div>"
     },
     "execution_count": 21,
     "metadata": {},
     "output_type": "execute_result"
    }
   ],
   "source": [
    "df = pd.read_csv(\"../../data/processed/NIST-dataset/nist.csv\")\n",
    "df.head()"
   ],
   "metadata": {
    "collapsed": false
   }
  },
  {
   "cell_type": "code",
   "execution_count": 26,
   "outputs": [],
   "source": [
    "def addHsf(data):\n",
    "    newFName = data['new_file_name']\n",
    "    hsfN = data['hsf_number']\n",
    "    return newFName[:-4] + str(hsfN) + newFName[-4:]\n",
    "\n",
    "df['new_file_name'] = df.apply(lambda data: addHsf(data), axis=1)"
   ],
   "metadata": {
    "collapsed": false
   }
  },
  {
   "cell_type": "code",
   "execution_count": 28,
   "outputs": [
    {
     "data": {
      "text/plain": "        Unnamed: 0 letter  hsf_number    old_file_name new_file_name  \\\n298880      298880      O           0  hsf_0_06878.png    O84760.png   \n352690      352690      S           1  hsf_1_03649.png    S58431.png   \n252851      252851      I           2  hsf_2_00887.png     I8132.png   \n381944      381944      U           1  hsf_1_01781.png    U33041.png   \n308721      308721      O           1  hsf_1_06868.png    O84071.png   \n68445        68445      g           6  hsf_6_00378.png     g4396.png   \n218546      218546      D           3  hsf_3_00411.png     D1733.png   \n289355      289355      N           4  hsf_4_00356.png     N3474.png   \n88605        88605      l           0  hsf_0_03395.png    l12710.png   \n155553      155553      t           0  hsf_0_06937.png    t48500.png   \n\n                                    old_path  \\\n298880  ../../data/raw/NIST-dataset\\4f\\hsf_0   \n352690  ../../data/raw/NIST-dataset\\53\\hsf_1   \n252851  ../../data/raw/NIST-dataset\\49\\hsf_2   \n381944  ../../data/raw/NIST-dataset\\55\\hsf_1   \n308721  ../../data/raw/NIST-dataset\\4f\\hsf_1   \n68445   ../../data/raw/NIST-dataset\\67\\hsf_6   \n218546  ../../data/raw/NIST-dataset\\44\\hsf_3   \n289355  ../../data/raw/NIST-dataset\\4e\\hsf_4   \n88605   ../../data/raw/NIST-dataset\\6c\\hsf_0   \n155553  ../../data/raw/NIST-dataset\\74\\hsf_0   \n\n                                 new_path  \n298880  ../../data/processed/NIST-dataset  \n352690  ../../data/processed/NIST-dataset  \n252851  ../../data/processed/NIST-dataset  \n381944  ../../data/processed/NIST-dataset  \n308721  ../../data/processed/NIST-dataset  \n68445   ../../data/processed/NIST-dataset  \n218546  ../../data/processed/NIST-dataset  \n289355  ../../data/processed/NIST-dataset  \n88605   ../../data/processed/NIST-dataset  \n155553  ../../data/processed/NIST-dataset  ",
      "text/html": "<div>\n<style scoped>\n    .dataframe tbody tr th:only-of-type {\n        vertical-align: middle;\n    }\n\n    .dataframe tbody tr th {\n        vertical-align: top;\n    }\n\n    .dataframe thead th {\n        text-align: right;\n    }\n</style>\n<table border=\"1\" class=\"dataframe\">\n  <thead>\n    <tr style=\"text-align: right;\">\n      <th></th>\n      <th>Unnamed: 0</th>\n      <th>letter</th>\n      <th>hsf_number</th>\n      <th>old_file_name</th>\n      <th>new_file_name</th>\n      <th>old_path</th>\n      <th>new_path</th>\n    </tr>\n  </thead>\n  <tbody>\n    <tr>\n      <th>298880</th>\n      <td>298880</td>\n      <td>O</td>\n      <td>0</td>\n      <td>hsf_0_06878.png</td>\n      <td>O84760.png</td>\n      <td>../../data/raw/NIST-dataset\\4f\\hsf_0</td>\n      <td>../../data/processed/NIST-dataset</td>\n    </tr>\n    <tr>\n      <th>352690</th>\n      <td>352690</td>\n      <td>S</td>\n      <td>1</td>\n      <td>hsf_1_03649.png</td>\n      <td>S58431.png</td>\n      <td>../../data/raw/NIST-dataset\\53\\hsf_1</td>\n      <td>../../data/processed/NIST-dataset</td>\n    </tr>\n    <tr>\n      <th>252851</th>\n      <td>252851</td>\n      <td>I</td>\n      <td>2</td>\n      <td>hsf_2_00887.png</td>\n      <td>I8132.png</td>\n      <td>../../data/raw/NIST-dataset\\49\\hsf_2</td>\n      <td>../../data/processed/NIST-dataset</td>\n    </tr>\n    <tr>\n      <th>381944</th>\n      <td>381944</td>\n      <td>U</td>\n      <td>1</td>\n      <td>hsf_1_01781.png</td>\n      <td>U33041.png</td>\n      <td>../../data/raw/NIST-dataset\\55\\hsf_1</td>\n      <td>../../data/processed/NIST-dataset</td>\n    </tr>\n    <tr>\n      <th>308721</th>\n      <td>308721</td>\n      <td>O</td>\n      <td>1</td>\n      <td>hsf_1_06868.png</td>\n      <td>O84071.png</td>\n      <td>../../data/raw/NIST-dataset\\4f\\hsf_1</td>\n      <td>../../data/processed/NIST-dataset</td>\n    </tr>\n    <tr>\n      <th>68445</th>\n      <td>68445</td>\n      <td>g</td>\n      <td>6</td>\n      <td>hsf_6_00378.png</td>\n      <td>g4396.png</td>\n      <td>../../data/raw/NIST-dataset\\67\\hsf_6</td>\n      <td>../../data/processed/NIST-dataset</td>\n    </tr>\n    <tr>\n      <th>218546</th>\n      <td>218546</td>\n      <td>D</td>\n      <td>3</td>\n      <td>hsf_3_00411.png</td>\n      <td>D1733.png</td>\n      <td>../../data/raw/NIST-dataset\\44\\hsf_3</td>\n      <td>../../data/processed/NIST-dataset</td>\n    </tr>\n    <tr>\n      <th>289355</th>\n      <td>289355</td>\n      <td>N</td>\n      <td>4</td>\n      <td>hsf_4_00356.png</td>\n      <td>N3474.png</td>\n      <td>../../data/raw/NIST-dataset\\4e\\hsf_4</td>\n      <td>../../data/processed/NIST-dataset</td>\n    </tr>\n    <tr>\n      <th>88605</th>\n      <td>88605</td>\n      <td>l</td>\n      <td>0</td>\n      <td>hsf_0_03395.png</td>\n      <td>l12710.png</td>\n      <td>../../data/raw/NIST-dataset\\6c\\hsf_0</td>\n      <td>../../data/processed/NIST-dataset</td>\n    </tr>\n    <tr>\n      <th>155553</th>\n      <td>155553</td>\n      <td>t</td>\n      <td>0</td>\n      <td>hsf_0_06937.png</td>\n      <td>t48500.png</td>\n      <td>../../data/raw/NIST-dataset\\74\\hsf_0</td>\n      <td>../../data/processed/NIST-dataset</td>\n    </tr>\n  </tbody>\n</table>\n</div>"
     },
     "execution_count": 28,
     "metadata": {},
     "output_type": "execute_result"
    }
   ],
   "source": [
    "df.sample(n=10)"
   ],
   "metadata": {
    "collapsed": false
   }
  },
  {
   "cell_type": "code",
   "execution_count": 29,
   "outputs": [],
   "source": [
    "df.to_csv(DATASET_CSV_OUTPUT)"
   ],
   "metadata": {
    "collapsed": false
   }
  }
 ],
 "metadata": {
  "kernelspec": {
   "display_name": "Python 3 (ipykernel)",
   "language": "python",
   "name": "python3"
  },
  "language_info": {
   "codemirror_mode": {
    "name": "ipython",
    "version": 3
   },
   "file_extension": ".py",
   "mimetype": "text/x-python",
   "name": "python",
   "nbconvert_exporter": "python",
   "pygments_lexer": "ipython3",
   "version": "3.10.6"
  }
 },
 "nbformat": 4,
 "nbformat_minor": 1
}
