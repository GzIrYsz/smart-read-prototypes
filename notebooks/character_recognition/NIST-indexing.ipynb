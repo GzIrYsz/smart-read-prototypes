{
 "cells": [
  {
   "cell_type": "markdown",
   "metadata": {
    "collapsed": true
   },
   "source": [
    "# Construction des dictionnaires pour la Reconnaissance Optique de caractère\n",
    "\n",
    "Dans ce notebook sera présenté le pré-traitement du jeu de donnée [NIST 2nd](https://www.nist.gov/srd/nist-special-database-19) afin d'obtenir un nouveau jeu de donnée données plus facilement utilisable pour notre algorithme de reconnaissance de caractère\n",
    "\n",
    "Ce pré-traitement de donnée aura plusieurs objectifs :\n",
    "- Sélectionner les bonnes données parmis le dataset ( uniquement les lettres majuscules ou minuscules)\n",
    "- Redimensionner les images pour obtenir des images plus petites afin de soulager notre algorithme d'OCR\n",
    "- Trier ses données pour obtenir l'arborescence de dataset qui sera décrit ci-dessous\n",
    "\n",
    "**structure du nouveau dataset obtenu:**\n",
    " - NIST-dataset\n",
    "    - train_set\n",
    "        - a\n",
    "            - a000001.png\n",
    "            - a000002.png\n",
    "            ...\n",
    "            ...\n",
    "            - a00000n.png\n",
    "        - b ....\n",
    "        ...\n",
    "        - z ...\n",
    "    - test_set\n",
    "        - a\n",
    "            - a000001.png\n",
    "            - a000002.png\n",
    "            ...\n",
    "            ...\n",
    "            - a00000n.png\n",
    "        - b ....\n",
    "        ...\n",
    "        - z ...\n",
    "\n",
    "    **Pour exécuter le notebook, renommer le dossier \"by_class\" en \"NIST-dataset\" puis placer celui-ci le sous dossier data/raw.**"
   ]
  },
  {
   "cell_type": "markdown",
   "metadata": {},
   "source": [
    "## Importation des ressources nécessaires\n",
    "\n",
    "### Importation des dépandances."
   ]
  },
  {
   "cell_type": "code",
   "execution_count": 1,
   "metadata": {},
   "outputs": [],
   "source": [
    "import os\n",
    "from glob import glob\n",
    "from random import shuffle\n",
    "from string import ascii_lowercase, ascii_uppercase\n",
    "import pandas as pd"
   ]
  },
  {
   "cell_type": "markdown",
   "metadata": {},
   "source": [
    "## Déclaration des paramètres"
   ]
  },
  {
   "cell_type": "markdown",
   "metadata": {},
   "source": [
    "Le nombre d'HSF que l'on veut charger à une influence directe sur le temps de calculs et la quantité de ressources nécessaires pour exécuter ce notebook.\n",
    "1 HSF représente 1/8 du dataset, donc 4 HSF représenteront 1/2 du dataset"
   ]
  },
  {
   "cell_type": "code",
   "execution_count": 2,
   "metadata": {},
   "outputs": [],
   "source": [
    "DATASET_INPUT=\"../../data/raw/NIST-dataset\" # Chemin ou l'on va récupérer le datatset\n",
    "DATASET_OUTPUT=\"../../data/processed/NIST-dataset\" # Chemin ou le nouveau dataset sera stocké\n",
    "DATASET_CSV_OUTPUT=\"../../data/pretreated/NIST-dataset/nist.csv\"\n",
    "NUMBER_OF_HSF = [0] # Le nombre de HSF que l'on veut charger\n",
    "PERCENT_OF_DATA = 0.1\n",
    "RANDOM=True"
   ]
  },
  {
   "cell_type": "markdown",
   "metadata": {},
   "source": [
    "## Importation du dataset\n",
    "### seléction des données voulus\n",
    "Dans ce présent notebook, nous voulons sélectionner uniquement les lettres a-z et A-Z. Pour ce faire on doit parcourir l'arborescence du dataset, sachant que chaque caractère sera stocké dans un dossier portant comme nom, le nombre ASCII en hexadécimal correspondant."
   ]
  },
  {
   "cell_type": "code",
   "execution_count": 3,
   "metadata": {
    "scrolled": true
   },
   "outputs": [
    {
     "data": {
      "text/plain": "['61', '62', '63', '64', '65']"
     },
     "execution_count": 3,
     "metadata": {},
     "output_type": "execute_result"
    }
   ],
   "source": [
    "alphabet_hex = [hex(ord(char)) for char in ascii_lowercase + ascii_uppercase]\n",
    "alphabet_hex_truncated = [hex_str.split(\"x\")[1] for hex_str in alphabet_hex]\n",
    "\n",
    "alphabet_hex_truncated[:5]"
   ]
  },
  {
   "cell_type": "markdown",
   "metadata": {},
   "source": [
    "## Préparation du dataframe\n",
    "\n",
    "Le but de ses opérations seront de référencer toutes les données voulues du jeu de donnée dans un dataframe panda qui sera utilisé pour effectuer les divers traitements sur les images"
   ]
  },
  {
   "cell_type": "code",
   "execution_count": 4,
   "metadata": {},
   "outputs": [],
   "source": [
    "COLUMNS = [\"letter\", \"hsf_number\", \"old_file_name\", \"new_file_name\",\"old_path\", \"new_path\"]\n",
    "dataset = pd.DataFrame(columns=COLUMNS, dtype=str)"
   ]
  },
  {
   "cell_type": "markdown",
   "metadata": {},
   "source": [
    "## Remplir le dataset\n",
    "Maintenant que les données souhaités sont connus, nous pouvons commencer à remplir le dataset\n",
    "### Fonctions utilitaires"
   ]
  },
  {
   "cell_type": "markdown",
   "metadata": {},
   "source": [
    "Fonction pour récupérer un char depuis une chaine de charactère hexedécimal ascii"
   ]
  },
  {
   "cell_type": "code",
   "execution_count": 5,
   "metadata": {},
   "outputs": [
    {
     "data": {
      "text/plain": "'Z'"
     },
     "execution_count": 5,
     "metadata": {},
     "output_type": "execute_result"
    }
   ],
   "source": [
    "def hex_char_to_str(ascii_hex_truncated_char):\n",
    "    ascii_hex_char = f\"0x{ascii_hex_truncated_char}\"\n",
    "    ascii_decimal = int(ascii_hex_char, 16)\n",
    "    return chr(ascii_decimal)\n",
    "\n",
    "hex_char_to_str(\"5a\") # Exemple avec la chaine troncaturé ascii de a en hexa"
   ]
  },
  {
   "cell_type": "markdown",
   "metadata": {},
   "source": [
    "Fonction pour récupérer une dictionnaire représentant une ligne du dataset"
   ]
  },
  {
   "cell_type": "code",
   "execution_count": 6,
   "metadata": {},
   "outputs": [],
   "source": [
    "def get_new_row(letter_value, hsf_number_value, old_file_name_value, new_file_name_value, old_path_value, new_path_value):\n",
    "    new_row = {COLUMNS[0]: letter_value, COLUMNS[1]: hsf_number_value, COLUMNS[2]: old_file_name_value, COLUMNS[3]: new_file_name_value, COLUMNS[4]: old_path_value, COLUMNS[5]: new_path_value}\n",
    "\n",
    "    return new_row"
   ]
  },
  {
   "cell_type": "markdown",
   "metadata": {},
   "source": [
    "Fonction ajouter une nouvelle ligne à la fin du dataset"
   ]
  },
  {
   "cell_type": "code",
   "execution_count": 7,
   "metadata": {},
   "outputs": [],
   "source": [
    "def dataset_append_row(row):\n",
    "    dataset.loc[len(dataset)] = row"
   ]
  },
  {
   "cell_type": "markdown",
   "metadata": {},
   "source": [
    "Fonction pour obtenir tous les fichiers logeant dans un répertoire d' un certain type"
   ]
  },
  {
   "cell_type": "code",
   "execution_count": 8,
   "metadata": {
    "scrolled": true
   },
   "outputs": [
    {
     "data": {
      "text/plain": "['../../data/raw/NIST-dataset/4a/hsf_0/hsf_0_00819.png',\n '../../data/raw/NIST-dataset/4a/hsf_0/hsf_0_00646.png',\n '../../data/raw/NIST-dataset/4a/hsf_0/hsf_0_00802.png',\n '../../data/raw/NIST-dataset/4a/hsf_0/hsf_0_00342.png',\n '../../data/raw/NIST-dataset/4a/hsf_0/hsf_0_00321.png']"
     },
     "execution_count": 8,
     "metadata": {},
     "output_type": "execute_result"
    }
   ],
   "source": [
    "def get_files_in_directory(path, file_type):\n",
    "    search_path = os.path.join(path, f\"*.{file_type}\")\n",
    "    list_files = [file for file in glob(search_path)]\n",
    "    number_of_element = int(len(list_files) * PERCENT_OF_DATA)\n",
    "    if RANDOM:\n",
    "        shuffle(list_files)\n",
    "    return list_files[:number_of_element]\n",
    "    \n",
    "get_files_in_directory(\"../../data/raw/NIST-dataset/4a/hsf_0\", \"png\")[:5] # On teste le bon fonctionnement de la fonction"
   ]
  },
  {
   "cell_type": "markdown",
   "metadata": {},
   "source": [
    "Fonction pour formater un chiffre de la manière suivant:\n",
    "1 -> 001"
   ]
  },
  {
   "cell_type": "code",
   "execution_count": 9,
   "metadata": {},
   "outputs": [],
   "source": [
    "def format_indice(indice):\n",
    "    return '{0:03}'.format(indice) # 1 -> 001"
   ]
  },
  {
   "cell_type": "markdown",
   "metadata": {},
   "source": [
    "### Remplissage effectif du dataset en utilisant les fonctions définis précédemment"
   ]
  },
  {
   "cell_type": "code",
   "execution_count": 10,
   "metadata": {},
   "outputs": [
    {
     "name": "stdout",
     "output_type": "stream",
     "text": [
      "../../data/raw/NIST-dataset/61/hsf_0\n",
      "../../data/raw/NIST-dataset/62/hsf_0\n",
      "../../data/raw/NIST-dataset/63/hsf_0\n",
      "../../data/raw/NIST-dataset/64/hsf_0\n",
      "../../data/raw/NIST-dataset/65/hsf_0\n",
      "../../data/raw/NIST-dataset/66/hsf_0\n",
      "../../data/raw/NIST-dataset/67/hsf_0\n",
      "../../data/raw/NIST-dataset/68/hsf_0\n",
      "../../data/raw/NIST-dataset/69/hsf_0\n",
      "../../data/raw/NIST-dataset/6a/hsf_0\n",
      "../../data/raw/NIST-dataset/6b/hsf_0\n",
      "../../data/raw/NIST-dataset/6c/hsf_0\n",
      "../../data/raw/NIST-dataset/6d/hsf_0\n",
      "../../data/raw/NIST-dataset/6e/hsf_0\n",
      "../../data/raw/NIST-dataset/6f/hsf_0\n",
      "../../data/raw/NIST-dataset/70/hsf_0\n",
      "../../data/raw/NIST-dataset/71/hsf_0\n",
      "../../data/raw/NIST-dataset/72/hsf_0\n",
      "../../data/raw/NIST-dataset/73/hsf_0\n",
      "../../data/raw/NIST-dataset/74/hsf_0\n",
      "../../data/raw/NIST-dataset/75/hsf_0\n",
      "../../data/raw/NIST-dataset/76/hsf_0\n",
      "../../data/raw/NIST-dataset/77/hsf_0\n",
      "../../data/raw/NIST-dataset/78/hsf_0\n",
      "../../data/raw/NIST-dataset/79/hsf_0\n",
      "../../data/raw/NIST-dataset/7a/hsf_0\n",
      "../../data/raw/NIST-dataset/41/hsf_0\n",
      "../../data/raw/NIST-dataset/42/hsf_0\n",
      "../../data/raw/NIST-dataset/43/hsf_0\n",
      "../../data/raw/NIST-dataset/44/hsf_0\n",
      "../../data/raw/NIST-dataset/45/hsf_0\n",
      "../../data/raw/NIST-dataset/46/hsf_0\n",
      "../../data/raw/NIST-dataset/47/hsf_0\n",
      "../../data/raw/NIST-dataset/48/hsf_0\n",
      "../../data/raw/NIST-dataset/49/hsf_0\n",
      "../../data/raw/NIST-dataset/4a/hsf_0\n",
      "../../data/raw/NIST-dataset/4b/hsf_0\n",
      "../../data/raw/NIST-dataset/4c/hsf_0\n",
      "../../data/raw/NIST-dataset/4d/hsf_0\n",
      "../../data/raw/NIST-dataset/4e/hsf_0\n",
      "../../data/raw/NIST-dataset/4f/hsf_0\n",
      "../../data/raw/NIST-dataset/50/hsf_0\n",
      "../../data/raw/NIST-dataset/51/hsf_0\n",
      "../../data/raw/NIST-dataset/52/hsf_0\n",
      "../../data/raw/NIST-dataset/53/hsf_0\n",
      "../../data/raw/NIST-dataset/54/hsf_0\n",
      "../../data/raw/NIST-dataset/55/hsf_0\n",
      "../../data/raw/NIST-dataset/56/hsf_0\n",
      "../../data/raw/NIST-dataset/57/hsf_0\n",
      "../../data/raw/NIST-dataset/58/hsf_0\n",
      "../../data/raw/NIST-dataset/59/hsf_0\n",
      "../../data/raw/NIST-dataset/5a/hsf_0\n"
     ]
    }
   ],
   "source": [
    "for ascii_hex_truncated_char in alphabet_hex_truncated:\n",
    "    for hsf_number in NUMBER_OF_HSF:\n",
    "        path = os.path.join(DATASET_INPUT, ascii_hex_truncated_char, f\"hsf_{hsf_number}\")\n",
    "        char = hex_char_to_str(ascii_hex_truncated_char)\n",
    "        indice = 0\n",
    "        print(path) # On observe l'avancement du programme\n",
    "        for file_path in get_files_in_directory(path, \"png\"):\n",
    "            old_file_name = file_path.split(os.sep)[-1]\n",
    "            new_file_name = f\"{char}{format_indice(indice)}.png\"\n",
    "            new_row = get_new_row(char, hsf_number, old_file_name, new_file_name, path, DATASET_OUTPUT)\n",
    "            dataset_append_row(new_row)\n",
    "            indice = indice + 1"
   ]
  },
  {
   "cell_type": "markdown",
   "metadata": {},
   "source": [
    "On visualise le jeu de données obtenu"
   ]
  },
  {
   "cell_type": "code",
   "execution_count": 11,
   "metadata": {},
   "outputs": [
    {
     "data": {
      "text/plain": "  letter  hsf_number    old_file_name new_file_name  \\\n0      a           0  hsf_0_00165.png      a000.png   \n1      a           0  hsf_0_01232.png      a001.png   \n2      a           0  hsf_0_00029.png      a002.png   \n3      a           0  hsf_0_02687.png      a003.png   \n4      a           0  hsf_0_01890.png      a004.png   \n\n                               old_path                           new_path  \n0  ../../data/raw/NIST-dataset/61/hsf_0  ../../data/processed/NIST-dataset  \n1  ../../data/raw/NIST-dataset/61/hsf_0  ../../data/processed/NIST-dataset  \n2  ../../data/raw/NIST-dataset/61/hsf_0  ../../data/processed/NIST-dataset  \n3  ../../data/raw/NIST-dataset/61/hsf_0  ../../data/processed/NIST-dataset  \n4  ../../data/raw/NIST-dataset/61/hsf_0  ../../data/processed/NIST-dataset  ",
      "text/html": "<div>\n<style scoped>\n    .dataframe tbody tr th:only-of-type {\n        vertical-align: middle;\n    }\n\n    .dataframe tbody tr th {\n        vertical-align: top;\n    }\n\n    .dataframe thead th {\n        text-align: right;\n    }\n</style>\n<table border=\"1\" class=\"dataframe\">\n  <thead>\n    <tr style=\"text-align: right;\">\n      <th></th>\n      <th>letter</th>\n      <th>hsf_number</th>\n      <th>old_file_name</th>\n      <th>new_file_name</th>\n      <th>old_path</th>\n      <th>new_path</th>\n    </tr>\n  </thead>\n  <tbody>\n    <tr>\n      <th>0</th>\n      <td>a</td>\n      <td>0</td>\n      <td>hsf_0_00165.png</td>\n      <td>a000.png</td>\n      <td>../../data/raw/NIST-dataset/61/hsf_0</td>\n      <td>../../data/processed/NIST-dataset</td>\n    </tr>\n    <tr>\n      <th>1</th>\n      <td>a</td>\n      <td>0</td>\n      <td>hsf_0_01232.png</td>\n      <td>a001.png</td>\n      <td>../../data/raw/NIST-dataset/61/hsf_0</td>\n      <td>../../data/processed/NIST-dataset</td>\n    </tr>\n    <tr>\n      <th>2</th>\n      <td>a</td>\n      <td>0</td>\n      <td>hsf_0_00029.png</td>\n      <td>a002.png</td>\n      <td>../../data/raw/NIST-dataset/61/hsf_0</td>\n      <td>../../data/processed/NIST-dataset</td>\n    </tr>\n    <tr>\n      <th>3</th>\n      <td>a</td>\n      <td>0</td>\n      <td>hsf_0_02687.png</td>\n      <td>a003.png</td>\n      <td>../../data/raw/NIST-dataset/61/hsf_0</td>\n      <td>../../data/processed/NIST-dataset</td>\n    </tr>\n    <tr>\n      <th>4</th>\n      <td>a</td>\n      <td>0</td>\n      <td>hsf_0_01890.png</td>\n      <td>a004.png</td>\n      <td>../../data/raw/NIST-dataset/61/hsf_0</td>\n      <td>../../data/processed/NIST-dataset</td>\n    </tr>\n  </tbody>\n</table>\n</div>"
     },
     "execution_count": 11,
     "metadata": {},
     "output_type": "execute_result"
    }
   ],
   "source": [
    "dataset.head(5)"
   ]
  },
  {
   "cell_type": "code",
   "execution_count": 12,
   "outputs": [
    {
     "data": {
      "text/plain": "      letter  hsf_number    old_file_name new_file_name  \\\n12072      Z           0  hsf_0_00160.png      Z036.png   \n12073      Z           0  hsf_0_00255.png      Z037.png   \n12074      Z           0  hsf_0_00196.png      Z038.png   \n12075      Z           0  hsf_0_00284.png      Z039.png   \n12076      Z           0  hsf_0_00132.png      Z040.png   \n\n                                   old_path                           new_path  \n12072  ../../data/raw/NIST-dataset/5a/hsf_0  ../../data/processed/NIST-dataset  \n12073  ../../data/raw/NIST-dataset/5a/hsf_0  ../../data/processed/NIST-dataset  \n12074  ../../data/raw/NIST-dataset/5a/hsf_0  ../../data/processed/NIST-dataset  \n12075  ../../data/raw/NIST-dataset/5a/hsf_0  ../../data/processed/NIST-dataset  \n12076  ../../data/raw/NIST-dataset/5a/hsf_0  ../../data/processed/NIST-dataset  ",
      "text/html": "<div>\n<style scoped>\n    .dataframe tbody tr th:only-of-type {\n        vertical-align: middle;\n    }\n\n    .dataframe tbody tr th {\n        vertical-align: top;\n    }\n\n    .dataframe thead th {\n        text-align: right;\n    }\n</style>\n<table border=\"1\" class=\"dataframe\">\n  <thead>\n    <tr style=\"text-align: right;\">\n      <th></th>\n      <th>letter</th>\n      <th>hsf_number</th>\n      <th>old_file_name</th>\n      <th>new_file_name</th>\n      <th>old_path</th>\n      <th>new_path</th>\n    </tr>\n  </thead>\n  <tbody>\n    <tr>\n      <th>12072</th>\n      <td>Z</td>\n      <td>0</td>\n      <td>hsf_0_00160.png</td>\n      <td>Z036.png</td>\n      <td>../../data/raw/NIST-dataset/5a/hsf_0</td>\n      <td>../../data/processed/NIST-dataset</td>\n    </tr>\n    <tr>\n      <th>12073</th>\n      <td>Z</td>\n      <td>0</td>\n      <td>hsf_0_00255.png</td>\n      <td>Z037.png</td>\n      <td>../../data/raw/NIST-dataset/5a/hsf_0</td>\n      <td>../../data/processed/NIST-dataset</td>\n    </tr>\n    <tr>\n      <th>12074</th>\n      <td>Z</td>\n      <td>0</td>\n      <td>hsf_0_00196.png</td>\n      <td>Z038.png</td>\n      <td>../../data/raw/NIST-dataset/5a/hsf_0</td>\n      <td>../../data/processed/NIST-dataset</td>\n    </tr>\n    <tr>\n      <th>12075</th>\n      <td>Z</td>\n      <td>0</td>\n      <td>hsf_0_00284.png</td>\n      <td>Z039.png</td>\n      <td>../../data/raw/NIST-dataset/5a/hsf_0</td>\n      <td>../../data/processed/NIST-dataset</td>\n    </tr>\n    <tr>\n      <th>12076</th>\n      <td>Z</td>\n      <td>0</td>\n      <td>hsf_0_00132.png</td>\n      <td>Z040.png</td>\n      <td>../../data/raw/NIST-dataset/5a/hsf_0</td>\n      <td>../../data/processed/NIST-dataset</td>\n    </tr>\n  </tbody>\n</table>\n</div>"
     },
     "execution_count": 12,
     "metadata": {},
     "output_type": "execute_result"
    }
   ],
   "source": [
    "dataset.tail(5)"
   ],
   "metadata": {
    "collapsed": false
   }
  },
  {
   "cell_type": "markdown",
   "source": [
    "## Sauvegarde dataset listant les images et leurs noms sous forme de csv."
   ],
   "metadata": {
    "collapsed": false
   }
  },
  {
   "cell_type": "code",
   "execution_count": 13,
   "outputs": [],
   "source": [
    "dataset.to_csv(DATASET_CSV_OUTPUT)"
   ],
   "metadata": {
    "collapsed": false
   }
  }
 ],
 "metadata": {
  "kernelspec": {
   "display_name": "Python 3 (ipykernel)",
   "language": "python",
   "name": "python3"
  },
  "language_info": {
   "codemirror_mode": {
    "name": "ipython",
    "version": 3
   },
   "file_extension": ".py",
   "mimetype": "text/x-python",
   "name": "python",
   "nbconvert_exporter": "python",
   "pygments_lexer": "ipython3",
   "version": "3.10.6"
  }
 },
 "nbformat": 4,
 "nbformat_minor": 1
}
