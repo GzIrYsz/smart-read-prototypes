{
 "cells": [
  {
   "cell_type": "markdown",
   "source": [
    "# Création d'un fichier CSV de tests pour le chargement du dataset en Java\n",
    "\n",
    "Le but de ce notebook est de créer un petit fichier CSV permettant de tester la classe `DatasetLoader`. Le fichier de test sera basé sur le dataset d'entrainement."
   ],
   "metadata": {
    "collapsed": false
   }
  },
  {
   "cell_type": "markdown",
   "source": [
    "## Importation des dépendances\n",
    "\n",
    "Les dépendances nécessaires à la création du CSV de test sont :\n",
    "- [pandas](https://pandas.pydata.org/)"
   ],
   "metadata": {
    "collapsed": false
   }
  },
  {
   "cell_type": "code",
   "execution_count": 1,
   "outputs": [],
   "source": [
    "from os import path, makedirs\n",
    "from datetime import datetime\n",
    "\n",
    "import pandas as pd"
   ],
   "metadata": {
    "collapsed": false,
    "ExecuteTime": {
     "start_time": "2023-04-22T21:51:46.929446Z",
     "end_time": "2023-04-22T21:51:47.247056Z"
    }
   }
  },
  {
   "cell_type": "markdown",
   "source": [
    "## Définition des paramètres\n",
    "\n",
    "On définit ici les paramètres du notebook :\n",
    "- l'emplacement du dataset initial\n",
    "- l'empacement de sortie\n",
    "- la taille du CSV de test"
   ],
   "metadata": {
    "collapsed": false
   }
  },
  {
   "cell_type": "code",
   "execution_count": 2,
   "outputs": [],
   "source": [
    "DATASET_PATH = \"../../data/processed/NIST-dataset/train/nist_processed_train.csv\"\n",
    "OUTPUT_PATH = \"../../data/processed/test\"\n",
    "TEST_FILE_SIZE = 50"
   ],
   "metadata": {
    "collapsed": false,
    "ExecuteTime": {
     "start_time": "2023-04-22T21:51:47.248041Z",
     "end_time": "2023-04-22T21:51:47.251552Z"
    }
   }
  },
  {
   "cell_type": "markdown",
   "source": [
    "On crée le dossier de sortie s'il n'existe pas déjà."
   ],
   "metadata": {
    "collapsed": false
   }
  },
  {
   "cell_type": "code",
   "execution_count": 3,
   "outputs": [],
   "source": [
    "if not path.exists(OUTPUT_PATH):\n",
    "    makedirs(OUTPUT_PATH)"
   ],
   "metadata": {
    "collapsed": false,
    "ExecuteTime": {
     "start_time": "2023-04-22T21:51:47.252570Z",
     "end_time": "2023-04-22T21:51:47.255054Z"
    }
   }
  },
  {
   "cell_type": "markdown",
   "source": [
    "## Chargement du dataset\n",
    "\n",
    "On charge ici le dataset initial afin de pouvoir en extraire une partie."
   ],
   "metadata": {
    "collapsed": false
   }
  },
  {
   "cell_type": "code",
   "execution_count": 4,
   "outputs": [
    {
     "data": {
      "text/plain": "   Unnamed: 0 label  x0  x1  x2  x3  x4  x5  x6  x7  ...  x1671  x1672  x1673  \\\n0      160182     t   1   1   1   1   1   1   1   1  ...      1      1      1   \n1      279562     M   1   1   1   1   1   1   1   1  ...      1      1      1   \n2      289423     N   1   1   1   1   1   1   1   1  ...      1      1      1   \n3      189193     z   1   1   1   1   1   1   1   1  ...      1      1      1   \n4      295409     O   1   1   1   1   1   1   1   1  ...      1      1      1   \n\n   x1674  x1675  x1676  x1677  x1678  x1679  x1680  \n0      1      1      1      1      1      1      1  \n1      1      1      1      1      1      1      1  \n2      1      1      1      1      1      1      1  \n3      1      1      1      1      1      1      1  \n4      1      1      1      1      1      1      1  \n\n[5 rows x 1683 columns]",
      "text/html": "<div>\n<style scoped>\n    .dataframe tbody tr th:only-of-type {\n        vertical-align: middle;\n    }\n\n    .dataframe tbody tr th {\n        vertical-align: top;\n    }\n\n    .dataframe thead th {\n        text-align: right;\n    }\n</style>\n<table border=\"1\" class=\"dataframe\">\n  <thead>\n    <tr style=\"text-align: right;\">\n      <th></th>\n      <th>Unnamed: 0</th>\n      <th>label</th>\n      <th>x0</th>\n      <th>x1</th>\n      <th>x2</th>\n      <th>x3</th>\n      <th>x4</th>\n      <th>x5</th>\n      <th>x6</th>\n      <th>x7</th>\n      <th>...</th>\n      <th>x1671</th>\n      <th>x1672</th>\n      <th>x1673</th>\n      <th>x1674</th>\n      <th>x1675</th>\n      <th>x1676</th>\n      <th>x1677</th>\n      <th>x1678</th>\n      <th>x1679</th>\n      <th>x1680</th>\n    </tr>\n  </thead>\n  <tbody>\n    <tr>\n      <th>0</th>\n      <td>160182</td>\n      <td>t</td>\n      <td>1</td>\n      <td>1</td>\n      <td>1</td>\n      <td>1</td>\n      <td>1</td>\n      <td>1</td>\n      <td>1</td>\n      <td>1</td>\n      <td>...</td>\n      <td>1</td>\n      <td>1</td>\n      <td>1</td>\n      <td>1</td>\n      <td>1</td>\n      <td>1</td>\n      <td>1</td>\n      <td>1</td>\n      <td>1</td>\n      <td>1</td>\n    </tr>\n    <tr>\n      <th>1</th>\n      <td>279562</td>\n      <td>M</td>\n      <td>1</td>\n      <td>1</td>\n      <td>1</td>\n      <td>1</td>\n      <td>1</td>\n      <td>1</td>\n      <td>1</td>\n      <td>1</td>\n      <td>...</td>\n      <td>1</td>\n      <td>1</td>\n      <td>1</td>\n      <td>1</td>\n      <td>1</td>\n      <td>1</td>\n      <td>1</td>\n      <td>1</td>\n      <td>1</td>\n      <td>1</td>\n    </tr>\n    <tr>\n      <th>2</th>\n      <td>289423</td>\n      <td>N</td>\n      <td>1</td>\n      <td>1</td>\n      <td>1</td>\n      <td>1</td>\n      <td>1</td>\n      <td>1</td>\n      <td>1</td>\n      <td>1</td>\n      <td>...</td>\n      <td>1</td>\n      <td>1</td>\n      <td>1</td>\n      <td>1</td>\n      <td>1</td>\n      <td>1</td>\n      <td>1</td>\n      <td>1</td>\n      <td>1</td>\n      <td>1</td>\n    </tr>\n    <tr>\n      <th>3</th>\n      <td>189193</td>\n      <td>z</td>\n      <td>1</td>\n      <td>1</td>\n      <td>1</td>\n      <td>1</td>\n      <td>1</td>\n      <td>1</td>\n      <td>1</td>\n      <td>1</td>\n      <td>...</td>\n      <td>1</td>\n      <td>1</td>\n      <td>1</td>\n      <td>1</td>\n      <td>1</td>\n      <td>1</td>\n      <td>1</td>\n      <td>1</td>\n      <td>1</td>\n      <td>1</td>\n    </tr>\n    <tr>\n      <th>4</th>\n      <td>295409</td>\n      <td>O</td>\n      <td>1</td>\n      <td>1</td>\n      <td>1</td>\n      <td>1</td>\n      <td>1</td>\n      <td>1</td>\n      <td>1</td>\n      <td>1</td>\n      <td>...</td>\n      <td>1</td>\n      <td>1</td>\n      <td>1</td>\n      <td>1</td>\n      <td>1</td>\n      <td>1</td>\n      <td>1</td>\n      <td>1</td>\n      <td>1</td>\n      <td>1</td>\n    </tr>\n  </tbody>\n</table>\n<p>5 rows × 1683 columns</p>\n</div>"
     },
     "execution_count": 4,
     "metadata": {},
     "output_type": "execute_result"
    }
   ],
   "source": [
    "data = pd.read_csv(DATASET_PATH)\n",
    "data.head()"
   ],
   "metadata": {
    "collapsed": false,
    "ExecuteTime": {
     "start_time": "2023-04-22T21:51:47.256053Z",
     "end_time": "2023-04-22T21:52:17.545684Z"
    }
   }
  },
  {
   "cell_type": "markdown",
   "source": [
    "## Création du fichier de test\n",
    "\n",
    "On crée le fichier CSV de test en prenant des lignes aléatoires du dataset."
   ],
   "metadata": {
    "collapsed": false
   }
  },
  {
   "cell_type": "code",
   "execution_count": 5,
   "outputs": [
    {
     "data": {
      "text/plain": "        Unnamed: 0 label  x0  x1  x2  x3  x4  x5  x6  x7  ...  x1671  x1672  \\\n251555      401453     X   1   1   1   1   1   1   1   1  ...      1      1   \n179881      305175     O   1   1   1   1   1   1   1   1  ...      1      1   \n263019      358258     S   1   1   1   1   1   1   1   1  ...      1      1   \n183159      102920     l   1   1   1   1   1   1   1   1  ...      1      1   \n224648      286207     N   1   1   1   1   1   1   1   1  ...      1      1   \n\n        x1673  x1674  x1675  x1676  x1677  x1678  x1679  x1680  \n251555      1      1      1      1      1      1      1      1  \n179881      1      1      1      1      1      1      1      1  \n263019      1      1      1      1      1      1      1      1  \n183159      1      1      1      1      1      1      1      1  \n224648      1      1      1      1      1      1      1      1  \n\n[5 rows x 1683 columns]",
      "text/html": "<div>\n<style scoped>\n    .dataframe tbody tr th:only-of-type {\n        vertical-align: middle;\n    }\n\n    .dataframe tbody tr th {\n        vertical-align: top;\n    }\n\n    .dataframe thead th {\n        text-align: right;\n    }\n</style>\n<table border=\"1\" class=\"dataframe\">\n  <thead>\n    <tr style=\"text-align: right;\">\n      <th></th>\n      <th>Unnamed: 0</th>\n      <th>label</th>\n      <th>x0</th>\n      <th>x1</th>\n      <th>x2</th>\n      <th>x3</th>\n      <th>x4</th>\n      <th>x5</th>\n      <th>x6</th>\n      <th>x7</th>\n      <th>...</th>\n      <th>x1671</th>\n      <th>x1672</th>\n      <th>x1673</th>\n      <th>x1674</th>\n      <th>x1675</th>\n      <th>x1676</th>\n      <th>x1677</th>\n      <th>x1678</th>\n      <th>x1679</th>\n      <th>x1680</th>\n    </tr>\n  </thead>\n  <tbody>\n    <tr>\n      <th>251555</th>\n      <td>401453</td>\n      <td>X</td>\n      <td>1</td>\n      <td>1</td>\n      <td>1</td>\n      <td>1</td>\n      <td>1</td>\n      <td>1</td>\n      <td>1</td>\n      <td>1</td>\n      <td>...</td>\n      <td>1</td>\n      <td>1</td>\n      <td>1</td>\n      <td>1</td>\n      <td>1</td>\n      <td>1</td>\n      <td>1</td>\n      <td>1</td>\n      <td>1</td>\n      <td>1</td>\n    </tr>\n    <tr>\n      <th>179881</th>\n      <td>305175</td>\n      <td>O</td>\n      <td>1</td>\n      <td>1</td>\n      <td>1</td>\n      <td>1</td>\n      <td>1</td>\n      <td>1</td>\n      <td>1</td>\n      <td>1</td>\n      <td>...</td>\n      <td>1</td>\n      <td>1</td>\n      <td>1</td>\n      <td>1</td>\n      <td>1</td>\n      <td>1</td>\n      <td>1</td>\n      <td>1</td>\n      <td>1</td>\n      <td>1</td>\n    </tr>\n    <tr>\n      <th>263019</th>\n      <td>358258</td>\n      <td>S</td>\n      <td>1</td>\n      <td>1</td>\n      <td>1</td>\n      <td>1</td>\n      <td>1</td>\n      <td>1</td>\n      <td>1</td>\n      <td>1</td>\n      <td>...</td>\n      <td>1</td>\n      <td>1</td>\n      <td>1</td>\n      <td>1</td>\n      <td>1</td>\n      <td>1</td>\n      <td>1</td>\n      <td>1</td>\n      <td>1</td>\n      <td>1</td>\n    </tr>\n    <tr>\n      <th>183159</th>\n      <td>102920</td>\n      <td>l</td>\n      <td>1</td>\n      <td>1</td>\n      <td>1</td>\n      <td>1</td>\n      <td>1</td>\n      <td>1</td>\n      <td>1</td>\n      <td>1</td>\n      <td>...</td>\n      <td>1</td>\n      <td>1</td>\n      <td>1</td>\n      <td>1</td>\n      <td>1</td>\n      <td>1</td>\n      <td>1</td>\n      <td>1</td>\n      <td>1</td>\n      <td>1</td>\n    </tr>\n    <tr>\n      <th>224648</th>\n      <td>286207</td>\n      <td>N</td>\n      <td>1</td>\n      <td>1</td>\n      <td>1</td>\n      <td>1</td>\n      <td>1</td>\n      <td>1</td>\n      <td>1</td>\n      <td>1</td>\n      <td>...</td>\n      <td>1</td>\n      <td>1</td>\n      <td>1</td>\n      <td>1</td>\n      <td>1</td>\n      <td>1</td>\n      <td>1</td>\n      <td>1</td>\n      <td>1</td>\n      <td>1</td>\n    </tr>\n  </tbody>\n</table>\n<p>5 rows × 1683 columns</p>\n</div>"
     },
     "execution_count": 5,
     "metadata": {},
     "output_type": "execute_result"
    }
   ],
   "source": [
    "output_content = data.sample(n=TEST_FILE_SIZE)\n",
    "output_content.head()"
   ],
   "metadata": {
    "collapsed": false,
    "ExecuteTime": {
     "start_time": "2023-04-22T21:52:17.547684Z",
     "end_time": "2023-04-22T21:52:17.571598Z"
    }
   }
  },
  {
   "cell_type": "markdown",
   "source": [
    "## Enregistrement du CSV de test\n",
    "\n",
    "On enregistre le fichier de test à l'emplacement spécifié dans les paramètres en haut du notebook."
   ],
   "metadata": {
    "collapsed": false
   }
  },
  {
   "cell_type": "code",
   "execution_count": 6,
   "outputs": [],
   "source": [
    "FILE_NAME = datetime.now().strftime(\"%Y%m%d-%H%M%S\") + \".csv\"\n",
    "output_content.to_csv(path.join(OUTPUT_PATH, FILE_NAME))"
   ],
   "metadata": {
    "collapsed": false,
    "ExecuteTime": {
     "start_time": "2023-04-22T21:52:17.570601Z",
     "end_time": "2023-04-22T21:52:17.718762Z"
    }
   }
  }
 ],
 "metadata": {
  "kernelspec": {
   "display_name": "Python 3",
   "language": "python",
   "name": "python3"
  },
  "language_info": {
   "codemirror_mode": {
    "name": "ipython",
    "version": 2
   },
   "file_extension": ".py",
   "mimetype": "text/x-python",
   "name": "python",
   "nbconvert_exporter": "python",
   "pygments_lexer": "ipython2",
   "version": "2.7.6"
  }
 },
 "nbformat": 4,
 "nbformat_minor": 0
}
