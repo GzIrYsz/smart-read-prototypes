{
 "cells": [
  {
   "cell_type": "markdown",
   "source": [
    "# Prétraitement du dataset [Voisins](http://www.lexique.org/)\n",
    "\n",
    "Ce notebook expose le prétraitement effectué sur le dataset [Voisins](http://www.lexique.org/) pour une utilisation dans le cadre du projet [SmartRead](https://github.com/mipi-and-co/smart-read).\n",
    "\n",
    "## Importation des dépendances\n",
    "\n",
    "- [pandas](https://pandas.pydata.org/) - pour le chargement et l'affichage des données\n",
    "- [matplotlib](https://matplotlib.org/) - pour la représentation des données sous forme graphique"
   ],
   "metadata": {
    "collapsed": false
   }
  },
  {
   "cell_type": "code",
   "execution_count": 1,
   "outputs": [],
   "source": [
    "import pandas as pd\n",
    "import matplotlib.pyplot as plt"
   ],
   "metadata": {
    "collapsed": false
   }
  },
  {
   "cell_type": "markdown",
   "source": [
    "## Chargement du dataset en mémoire\n",
    "\n",
    "Le dataset à prétraiter est consistué de 130000 entrées.\n",
    "\n",
    "Chaque ligne consiste en 5 colonnes :\n",
    "1) Le mot\n",
    "2) Le nombre de voisins orthographiques de ce mot\n",
    "3) La liste des voisins\n",
    "4) La fréquence de ces voisins (par millions)\n",
    "5) La fréquence cumulée de tous les voisins"
   ],
   "metadata": {
    "collapsed": false
   }
  },
  {
   "cell_type": "code",
   "execution_count": 2,
   "outputs": [
    {
     "data": {
      "text/plain": "                   Graph  NbVoisOrth                   VoisOrth  \\\n120579  universalisation           0                        NaN   \n75457            morille           3  gorille, zorille, mouille   \n128225          étonnées           0                        NaN   \n18536           capucins           2         capucine, capucino   \n58406           helvètes           0                        NaN   \n67988        lamentaient           0                        NaN   \n47745             expiré           3     empiré, expira, expire   \n94502      radiodiffusée           1              radiodiffusés   \n66730              jenny           1                      penny   \n83018          paressant           2       caressant, paressait   \n\n            FreqVoisOrth  FreqCum  \n120579               NaN      NaN  \n75457   1.65, 0.03, 2.71     4.39  \n128225               NaN      NaN  \n18536         0.35, 0.03     0.38  \n58406                NaN      NaN  \n67988                NaN      NaN  \n47745   0.23, 0.39, 1.03     1.65  \n94502               0.03     0.03  \n66730               0.42     0.42  \n83018         5.19, 0.13     5.32  ",
      "text/html": "<div>\n<style scoped>\n    .dataframe tbody tr th:only-of-type {\n        vertical-align: middle;\n    }\n\n    .dataframe tbody tr th {\n        vertical-align: top;\n    }\n\n    .dataframe thead th {\n        text-align: right;\n    }\n</style>\n<table border=\"1\" class=\"dataframe\">\n  <thead>\n    <tr style=\"text-align: right;\">\n      <th></th>\n      <th>Graph</th>\n      <th>NbVoisOrth</th>\n      <th>VoisOrth</th>\n      <th>FreqVoisOrth</th>\n      <th>FreqCum</th>\n    </tr>\n  </thead>\n  <tbody>\n    <tr>\n      <th>120579</th>\n      <td>universalisation</td>\n      <td>0</td>\n      <td>NaN</td>\n      <td>NaN</td>\n      <td>NaN</td>\n    </tr>\n    <tr>\n      <th>75457</th>\n      <td>morille</td>\n      <td>3</td>\n      <td>gorille, zorille, mouille</td>\n      <td>1.65, 0.03, 2.71</td>\n      <td>4.39</td>\n    </tr>\n    <tr>\n      <th>128225</th>\n      <td>étonnées</td>\n      <td>0</td>\n      <td>NaN</td>\n      <td>NaN</td>\n      <td>NaN</td>\n    </tr>\n    <tr>\n      <th>18536</th>\n      <td>capucins</td>\n      <td>2</td>\n      <td>capucine, capucino</td>\n      <td>0.35, 0.03</td>\n      <td>0.38</td>\n    </tr>\n    <tr>\n      <th>58406</th>\n      <td>helvètes</td>\n      <td>0</td>\n      <td>NaN</td>\n      <td>NaN</td>\n      <td>NaN</td>\n    </tr>\n    <tr>\n      <th>67988</th>\n      <td>lamentaient</td>\n      <td>0</td>\n      <td>NaN</td>\n      <td>NaN</td>\n      <td>NaN</td>\n    </tr>\n    <tr>\n      <th>47745</th>\n      <td>expiré</td>\n      <td>3</td>\n      <td>empiré, expira, expire</td>\n      <td>0.23, 0.39, 1.03</td>\n      <td>1.65</td>\n    </tr>\n    <tr>\n      <th>94502</th>\n      <td>radiodiffusée</td>\n      <td>1</td>\n      <td>radiodiffusés</td>\n      <td>0.03</td>\n      <td>0.03</td>\n    </tr>\n    <tr>\n      <th>66730</th>\n      <td>jenny</td>\n      <td>1</td>\n      <td>penny</td>\n      <td>0.42</td>\n      <td>0.42</td>\n    </tr>\n    <tr>\n      <th>83018</th>\n      <td>paressant</td>\n      <td>2</td>\n      <td>caressant, paressait</td>\n      <td>5.19, 0.13</td>\n      <td>5.32</td>\n    </tr>\n  </tbody>\n</table>\n</div>"
     },
     "execution_count": 2,
     "metadata": {},
     "output_type": "execute_result"
    }
   ],
   "source": [
    "# Chargement du dataset\n",
    "data = pd.read_table(filepath_or_buffer=\"../../data/raw/voisins.tsv\")\n",
    "\n",
    "# Affichage de 10 lignes au hasard\n",
    "data.sample(n=10)"
   ],
   "metadata": {
    "collapsed": false
   }
  },
  {
   "cell_type": "code",
   "execution_count": 3,
   "outputs": [
    {
     "name": "stdout",
     "output_type": "stream",
     "text": [
      "<class 'pandas.core.frame.DataFrame'>\n",
      "RangeIndex: 128918 entries, 0 to 128917\n",
      "Data columns (total 5 columns):\n",
      " #   Column        Non-Null Count   Dtype  \n",
      "---  ------        --------------   -----  \n",
      " 0   Graph         128918 non-null  object \n",
      " 1   NbVoisOrth    128918 non-null  int64  \n",
      " 2   VoisOrth      66711 non-null   object \n",
      " 3   FreqVoisOrth  66711 non-null   object \n",
      " 4   FreqCum       66711 non-null   float64\n",
      "dtypes: float64(1), int64(1), object(3)\n",
      "memory usage: 4.9+ MB\n"
     ]
    }
   ],
   "source": [
    "data.info()"
   ],
   "metadata": {
    "collapsed": false
   }
  },
  {
   "cell_type": "markdown",
   "source": [
    "## Récupération des données utiles\n",
    "\n",
    "Dans le cadre du projet, toutes les données de ce dataset nous sont utiles !"
   ],
   "metadata": {
    "collapsed": false
   }
  }
 ],
 "metadata": {
  "kernelspec": {
   "display_name": "Python 3",
   "language": "python",
   "name": "python3"
  },
  "language_info": {
   "codemirror_mode": {
    "name": "ipython",
    "version": 2
   },
   "file_extension": ".py",
   "mimetype": "text/x-python",
   "name": "python",
   "nbconvert_exporter": "python",
   "pygments_lexer": "ipython2",
   "version": "2.7.6"
  }
 },
 "nbformat": 4,
 "nbformat_minor": 0
}
