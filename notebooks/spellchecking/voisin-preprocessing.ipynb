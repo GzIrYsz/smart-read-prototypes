{
 "cells": [
  {
   "cell_type": "markdown",
   "metadata": {},
   "source": [
    "# Prétraitement du dataset [Voisins](http://www.lexique.org/)\n",
    "\n",
    "Ce notebook expose le prétraitement effectué sur le dataset [Voisins](http://www.lexique.org/) pour une utilisation dans le cadre du projet [SmartRead](https://github.com/mipi-and-co/smart-read).\n",
    "\n",
    "## Importation des dépendances\n",
    "\n",
    "- [pandas](https://pandas.pydata.org/) - pour le chargement et l'affichage des données\n",
    "- [matplotlib](https://matplotlib.org/) - pour la représentation des données sous forme graphique"
   ]
  },
  {
   "cell_type": "code",
   "execution_count": 1,
   "metadata": {},
   "outputs": [],
   "source": [
    "import pandas as pd\n",
    "import matplotlib.pyplot as plt"
   ]
  },
  {
   "cell_type": "markdown",
   "metadata": {},
   "source": [
    "## Chargement du dataset en mémoire\n",
    "\n",
    "Le dataset à prétraiter est consistué de 130000 entrées.\n",
    "\n",
    "Chaque ligne consiste en 5 colonnes :\n",
    "1) Le mot\n",
    "2) Le nombre de voisins orthographiques de ce mot\n",
    "3) La liste des voisins\n",
    "4) La fréquence de ces voisins (par millions)\n",
    "5) La fréquence cumulée de tous les voisins"
   ]
  },
  {
   "cell_type": "code",
   "execution_count": 2,
   "metadata": {},
   "outputs": [
    {
     "data": {
      "text/plain": "                   Graph  NbVoisOrth  \\\n42285        emboîtèrent           0   \n35696   décentralisateur           0   \n111540     stérilisation           0   \n70498            lâcheté           0   \n39149             dépens           2   \n39456       dépositaires           0   \n74778             mollet           6   \n48078      expérimentait           2   \n97815    regrettablement           0   \n5565        androstérone           0   \n\n                                              VoisOrth  \\\n42285                                              NaN   \n35696                                              NaN   \n111540                                             NaN   \n70498                                              NaN   \n39149                                   défens, dépend   \n39456                                              NaN   \n74778   collet, follet, rollet, millet, mollit, molles   \n48078                     expérimentant, expérimentais   \n97815                                              NaN   \n5565                                               NaN   \n\n                              FreqVoisOrth  FreqCum  \n42285                                  NaN      NaN  \n35696                                  NaN      NaN  \n111540                                 NaN      NaN  \n70498                                  NaN      NaN  \n39149                          0.03, 37.13    37.16  \n39456                                  NaN      NaN  \n74778   2.23, 0.68, 0.06, 1.16, 0.19, 7.68    12.00  \n48078                           0.35, 0.10     0.45  \n97815                                  NaN      NaN  \n5565                                   NaN      NaN  ",
      "text/html": "<div>\n<style scoped>\n    .dataframe tbody tr th:only-of-type {\n        vertical-align: middle;\n    }\n\n    .dataframe tbody tr th {\n        vertical-align: top;\n    }\n\n    .dataframe thead th {\n        text-align: right;\n    }\n</style>\n<table border=\"1\" class=\"dataframe\">\n  <thead>\n    <tr style=\"text-align: right;\">\n      <th></th>\n      <th>Graph</th>\n      <th>NbVoisOrth</th>\n      <th>VoisOrth</th>\n      <th>FreqVoisOrth</th>\n      <th>FreqCum</th>\n    </tr>\n  </thead>\n  <tbody>\n    <tr>\n      <th>42285</th>\n      <td>emboîtèrent</td>\n      <td>0</td>\n      <td>NaN</td>\n      <td>NaN</td>\n      <td>NaN</td>\n    </tr>\n    <tr>\n      <th>35696</th>\n      <td>décentralisateur</td>\n      <td>0</td>\n      <td>NaN</td>\n      <td>NaN</td>\n      <td>NaN</td>\n    </tr>\n    <tr>\n      <th>111540</th>\n      <td>stérilisation</td>\n      <td>0</td>\n      <td>NaN</td>\n      <td>NaN</td>\n      <td>NaN</td>\n    </tr>\n    <tr>\n      <th>70498</th>\n      <td>lâcheté</td>\n      <td>0</td>\n      <td>NaN</td>\n      <td>NaN</td>\n      <td>NaN</td>\n    </tr>\n    <tr>\n      <th>39149</th>\n      <td>dépens</td>\n      <td>2</td>\n      <td>défens, dépend</td>\n      <td>0.03, 37.13</td>\n      <td>37.16</td>\n    </tr>\n    <tr>\n      <th>39456</th>\n      <td>dépositaires</td>\n      <td>0</td>\n      <td>NaN</td>\n      <td>NaN</td>\n      <td>NaN</td>\n    </tr>\n    <tr>\n      <th>74778</th>\n      <td>mollet</td>\n      <td>6</td>\n      <td>collet, follet, rollet, millet, mollit, molles</td>\n      <td>2.23, 0.68, 0.06, 1.16, 0.19, 7.68</td>\n      <td>12.00</td>\n    </tr>\n    <tr>\n      <th>48078</th>\n      <td>expérimentait</td>\n      <td>2</td>\n      <td>expérimentant, expérimentais</td>\n      <td>0.35, 0.10</td>\n      <td>0.45</td>\n    </tr>\n    <tr>\n      <th>97815</th>\n      <td>regrettablement</td>\n      <td>0</td>\n      <td>NaN</td>\n      <td>NaN</td>\n      <td>NaN</td>\n    </tr>\n    <tr>\n      <th>5565</th>\n      <td>androstérone</td>\n      <td>0</td>\n      <td>NaN</td>\n      <td>NaN</td>\n      <td>NaN</td>\n    </tr>\n  </tbody>\n</table>\n</div>"
     },
     "execution_count": 2,
     "metadata": {},
     "output_type": "execute_result"
    }
   ],
   "source": [
    "# Chargement du dataset\n",
    "data = pd.read_table(filepath_or_buffer=\"../../data/raw/voisins.tsv\")\n",
    "\n",
    "# Affichage de 10 lignes au hasard\n",
    "data.sample(n=10)"
   ]
  },
  {
   "cell_type": "code",
   "execution_count": 3,
   "metadata": {},
   "outputs": [
    {
     "name": "stdout",
     "output_type": "stream",
     "text": [
      "<class 'pandas.core.frame.DataFrame'>\n",
      "RangeIndex: 128918 entries, 0 to 128917\n",
      "Data columns (total 5 columns):\n",
      " #   Column        Non-Null Count   Dtype  \n",
      "---  ------        --------------   -----  \n",
      " 0   Graph         128918 non-null  object \n",
      " 1   NbVoisOrth    128918 non-null  int64  \n",
      " 2   VoisOrth      66711 non-null   object \n",
      " 3   FreqVoisOrth  66711 non-null   object \n",
      " 4   FreqCum       66711 non-null   float64\n",
      "dtypes: float64(1), int64(1), object(3)\n",
      "memory usage: 4.9+ MB\n"
     ]
    }
   ],
   "source": [
    "data.info()"
   ]
  },
  {
   "cell_type": "markdown",
   "metadata": {},
   "source": [
    "## Récupération des données utiles\n",
    "\n",
    "Dans le cadre du projet, toutes les données de ce dataset nous sont utiles !"
   ]
  }
 ],
 "metadata": {
  "kernelspec": {
   "display_name": "Python 3 (ipykernel)",
   "language": "python",
   "name": "python3"
  },
  "language_info": {
   "codemirror_mode": {
    "name": "ipython",
    "version": 3
   },
   "file_extension": ".py",
   "mimetype": "text/x-python",
   "name": "python",
   "nbconvert_exporter": "python",
   "pygments_lexer": "ipython3",
   "version": "3.11.1"
  }
 },
 "nbformat": 4,
 "nbformat_minor": 1
}
