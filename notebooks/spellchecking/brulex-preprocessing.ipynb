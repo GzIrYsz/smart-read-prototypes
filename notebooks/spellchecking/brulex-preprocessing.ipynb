{
 "cells": [
  {
   "cell_type": "markdown",
   "source": [
    "# Prétraitement du dataset [Brulex](https://google.fr)"
   ],
   "metadata": {
    "collapsed": false
   }
  },
  {
   "cell_type": "code",
   "execution_count": 1,
   "outputs": [],
   "source": [
    "import pandas as pd\n",
    "import matplotlib.pyplot as plt"
   ],
   "metadata": {
    "collapsed": false
   }
  },
  {
   "cell_type": "code",
   "execution_count": 2,
   "outputs": [
    {
     "data": {
      "text/plain": "             graph        phons cgram genre nmbre    frfrm    frlex  cfrlex  \\\n0                a            a    NO     m   NaN     2531     2531     340   \n1                à            a    PR   NaN   NaN  2010176  2010176     630   \n2      abaissement       abèsmâ    NO     m   NaN      676      676     283   \n3         abaisser        abésé    VB   NaN   NaN     1671     1671     322   \n4          abandon        abâdô    NO     m   NaN     3497     3497     354   \n5       abandonner      abâdoné    VB   NaN   NaN     9814     9814     399   \n6           abaque         abak    NO     m   NaN        0        0       0   \n7       abasourdir    abazuRdiR    VB   NaN   NaN       12       12     111   \n8   abasourdissant   abazuRdisâ    AJ     m   NaN        4        4      69   \n9  abasourdissante  abazuRdisât    AJ     f   NaN       -1        4      69   \n\n   nvarphon  schwa  ...           mgraph  pugraph  puphon  nbhom  nbhomg  \\\n0         0      0  ...                A        3       2      0       0   \n1         0      0  ...                A        2       2      0       0   \n2         0      0  ...      ABAISSEMENT        8       5      0       0   \n3         0      0  ...         ABAISSER        8       4      0       0   \n4         0      0  ...          ABANDON        8       5      0       0   \n5         0      0  ...       ABANDONNER        8       5      0       0   \n6         0      0  ...           ABAQUE        4       4      0       0   \n7         0      0  ...       ABASOURDIR       10       9      0       0   \n8         0      0  ...   ABASOURDISSANT       15      11      0       0   \n9         0      0  ...  ABASOURDISSANTE       15      11      0       0   \n\n   nbhomp nvoisort      phons1      phons2  freqdigr  \n0       1        0           V           V      0.00  \n1       1        0           V           V      0.00  \n2       0        0      VCVCCV      VBVSNV      2.94  \n3       0        0       VCVCV       VBVSV      2.88  \n4       0        0       VCVCV       VBVBV      2.63  \n5       0        0     VCVCVCV     VBVBVNV      2.74  \n6       0        0        VCVC        VBVP      2.50  \n7       0        0   VCVCVCCVC   VBVZVLBVL      2.68  \n8       0        0  VCVCVCCVCV  VBVZVLBVSV      2.76  \n9       0        0  VCVCVCCVCV  VBVZVLBVSV      2.76  \n\n[10 rows x 28 columns]",
      "text/html": "<div>\n<style scoped>\n    .dataframe tbody tr th:only-of-type {\n        vertical-align: middle;\n    }\n\n    .dataframe tbody tr th {\n        vertical-align: top;\n    }\n\n    .dataframe thead th {\n        text-align: right;\n    }\n</style>\n<table border=\"1\" class=\"dataframe\">\n  <thead>\n    <tr style=\"text-align: right;\">\n      <th></th>\n      <th>graph</th>\n      <th>phons</th>\n      <th>cgram</th>\n      <th>genre</th>\n      <th>nmbre</th>\n      <th>frfrm</th>\n      <th>frlex</th>\n      <th>cfrlex</th>\n      <th>nvarphon</th>\n      <th>schwa</th>\n      <th>...</th>\n      <th>mgraph</th>\n      <th>pugraph</th>\n      <th>puphon</th>\n      <th>nbhom</th>\n      <th>nbhomg</th>\n      <th>nbhomp</th>\n      <th>nvoisort</th>\n      <th>phons1</th>\n      <th>phons2</th>\n      <th>freqdigr</th>\n    </tr>\n  </thead>\n  <tbody>\n    <tr>\n      <th>0</th>\n      <td>a</td>\n      <td>a</td>\n      <td>NO</td>\n      <td>m</td>\n      <td>NaN</td>\n      <td>2531</td>\n      <td>2531</td>\n      <td>340</td>\n      <td>0</td>\n      <td>0</td>\n      <td>...</td>\n      <td>A</td>\n      <td>3</td>\n      <td>2</td>\n      <td>0</td>\n      <td>0</td>\n      <td>1</td>\n      <td>0</td>\n      <td>V</td>\n      <td>V</td>\n      <td>0.00</td>\n    </tr>\n    <tr>\n      <th>1</th>\n      <td>à</td>\n      <td>a</td>\n      <td>PR</td>\n      <td>NaN</td>\n      <td>NaN</td>\n      <td>2010176</td>\n      <td>2010176</td>\n      <td>630</td>\n      <td>0</td>\n      <td>0</td>\n      <td>...</td>\n      <td>A</td>\n      <td>2</td>\n      <td>2</td>\n      <td>0</td>\n      <td>0</td>\n      <td>1</td>\n      <td>0</td>\n      <td>V</td>\n      <td>V</td>\n      <td>0.00</td>\n    </tr>\n    <tr>\n      <th>2</th>\n      <td>abaissement</td>\n      <td>abèsmâ</td>\n      <td>NO</td>\n      <td>m</td>\n      <td>NaN</td>\n      <td>676</td>\n      <td>676</td>\n      <td>283</td>\n      <td>0</td>\n      <td>0</td>\n      <td>...</td>\n      <td>ABAISSEMENT</td>\n      <td>8</td>\n      <td>5</td>\n      <td>0</td>\n      <td>0</td>\n      <td>0</td>\n      <td>0</td>\n      <td>VCVCCV</td>\n      <td>VBVSNV</td>\n      <td>2.94</td>\n    </tr>\n    <tr>\n      <th>3</th>\n      <td>abaisser</td>\n      <td>abésé</td>\n      <td>VB</td>\n      <td>NaN</td>\n      <td>NaN</td>\n      <td>1671</td>\n      <td>1671</td>\n      <td>322</td>\n      <td>0</td>\n      <td>0</td>\n      <td>...</td>\n      <td>ABAISSER</td>\n      <td>8</td>\n      <td>4</td>\n      <td>0</td>\n      <td>0</td>\n      <td>0</td>\n      <td>0</td>\n      <td>VCVCV</td>\n      <td>VBVSV</td>\n      <td>2.88</td>\n    </tr>\n    <tr>\n      <th>4</th>\n      <td>abandon</td>\n      <td>abâdô</td>\n      <td>NO</td>\n      <td>m</td>\n      <td>NaN</td>\n      <td>3497</td>\n      <td>3497</td>\n      <td>354</td>\n      <td>0</td>\n      <td>0</td>\n      <td>...</td>\n      <td>ABANDON</td>\n      <td>8</td>\n      <td>5</td>\n      <td>0</td>\n      <td>0</td>\n      <td>0</td>\n      <td>0</td>\n      <td>VCVCV</td>\n      <td>VBVBV</td>\n      <td>2.63</td>\n    </tr>\n    <tr>\n      <th>5</th>\n      <td>abandonner</td>\n      <td>abâdoné</td>\n      <td>VB</td>\n      <td>NaN</td>\n      <td>NaN</td>\n      <td>9814</td>\n      <td>9814</td>\n      <td>399</td>\n      <td>0</td>\n      <td>0</td>\n      <td>...</td>\n      <td>ABANDONNER</td>\n      <td>8</td>\n      <td>5</td>\n      <td>0</td>\n      <td>0</td>\n      <td>0</td>\n      <td>0</td>\n      <td>VCVCVCV</td>\n      <td>VBVBVNV</td>\n      <td>2.74</td>\n    </tr>\n    <tr>\n      <th>6</th>\n      <td>abaque</td>\n      <td>abak</td>\n      <td>NO</td>\n      <td>m</td>\n      <td>NaN</td>\n      <td>0</td>\n      <td>0</td>\n      <td>0</td>\n      <td>0</td>\n      <td>0</td>\n      <td>...</td>\n      <td>ABAQUE</td>\n      <td>4</td>\n      <td>4</td>\n      <td>0</td>\n      <td>0</td>\n      <td>0</td>\n      <td>0</td>\n      <td>VCVC</td>\n      <td>VBVP</td>\n      <td>2.50</td>\n    </tr>\n    <tr>\n      <th>7</th>\n      <td>abasourdir</td>\n      <td>abazuRdiR</td>\n      <td>VB</td>\n      <td>NaN</td>\n      <td>NaN</td>\n      <td>12</td>\n      <td>12</td>\n      <td>111</td>\n      <td>0</td>\n      <td>0</td>\n      <td>...</td>\n      <td>ABASOURDIR</td>\n      <td>10</td>\n      <td>9</td>\n      <td>0</td>\n      <td>0</td>\n      <td>0</td>\n      <td>0</td>\n      <td>VCVCVCCVC</td>\n      <td>VBVZVLBVL</td>\n      <td>2.68</td>\n    </tr>\n    <tr>\n      <th>8</th>\n      <td>abasourdissant</td>\n      <td>abazuRdisâ</td>\n      <td>AJ</td>\n      <td>m</td>\n      <td>NaN</td>\n      <td>4</td>\n      <td>4</td>\n      <td>69</td>\n      <td>0</td>\n      <td>0</td>\n      <td>...</td>\n      <td>ABASOURDISSANT</td>\n      <td>15</td>\n      <td>11</td>\n      <td>0</td>\n      <td>0</td>\n      <td>0</td>\n      <td>0</td>\n      <td>VCVCVCCVCV</td>\n      <td>VBVZVLBVSV</td>\n      <td>2.76</td>\n    </tr>\n    <tr>\n      <th>9</th>\n      <td>abasourdissante</td>\n      <td>abazuRdisât</td>\n      <td>AJ</td>\n      <td>f</td>\n      <td>NaN</td>\n      <td>-1</td>\n      <td>4</td>\n      <td>69</td>\n      <td>0</td>\n      <td>0</td>\n      <td>...</td>\n      <td>ABASOURDISSANTE</td>\n      <td>15</td>\n      <td>11</td>\n      <td>0</td>\n      <td>0</td>\n      <td>0</td>\n      <td>0</td>\n      <td>VCVCVCCVCV</td>\n      <td>VBVZVLBVSV</td>\n      <td>2.76</td>\n    </tr>\n  </tbody>\n</table>\n<p>10 rows × 28 columns</p>\n</div>"
     },
     "execution_count": 2,
     "metadata": {},
     "output_type": "execute_result"
    }
   ],
   "source": [
    "data = pd.read_csv(filepath_or_buffer=\"../../data/raw/Brulex.csv\")\n",
    "data.head(10)"
   ],
   "metadata": {
    "collapsed": false
   }
  }
 ],
 "metadata": {
  "kernelspec": {
   "display_name": "Python 3",
   "language": "python",
   "name": "python3"
  },
  "language_info": {
   "codemirror_mode": {
    "name": "ipython",
    "version": 2
   },
   "file_extension": ".py",
   "mimetype": "text/x-python",
   "name": "python",
   "nbconvert_exporter": "python",
   "pygments_lexer": "ipython2",
   "version": "2.7.6"
  }
 },
 "nbformat": 4,
 "nbformat_minor": 0
}
