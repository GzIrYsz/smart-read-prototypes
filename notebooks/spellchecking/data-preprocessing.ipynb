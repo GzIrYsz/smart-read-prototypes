{
 "cells": [
  {
   "cell_type": "markdown",
   "id": "848f69b6",
   "metadata": {},
   "source": [
    "# Construction des dictionnaires pour la Correction Lexicale\n",
    "\n",
    "Dans ce notebook sera présenté le pré-traitement du jeu de donnée [Lexique3](https://chrplr.github.io/openlexicon/datasets-info/) afin d'obtenir des données utilisables par notre algorithme de correction lexicale.\n",
    "\n",
    "Ce pré-traitement de donnée aura plusieurs objectifs :\n",
    "- Nettoyer le jeu de données de toutes ses impuretés (doublons, accents, etc...)\n",
    "- Augmenter la vitesse de notre algo de correction lexicale en divisant le dataset\n",
    "\n",
    "**Pour exécuter le notebook, mettre le dossier xlsx de Lexique3 dans le dossier dataset en le nommant liste_de_mots.xlsx**"
   ]
  },
  {
   "cell_type": "markdown",
   "id": "818c8242",
   "metadata": {},
   "source": [
    "## Importation des ressources nécessaires\n",
    "\n",
    "### Importation des dépandances."
   ]
  },
  {
   "cell_type": "code",
   "execution_count": 1,
   "id": "62de8115",
   "metadata": {},
   "outputs": [],
   "source": [
    "from pathlib import Path\n",
    "from unidecode import unidecode\n",
    "import pandas as pd\n",
    "import matplotlib.pyplot as plt"
   ]
  },
  {
   "cell_type": "markdown",
   "id": "39af46e6",
   "metadata": {},
   "source": [
    "### Importation du dataset en format excel\n"
   ]
  },
  {
   "cell_type": "code",
   "execution_count": 2,
   "id": "6ab5c45e",
   "metadata": {},
   "outputs": [
    {
     "data": {
      "text/plain": "         ortho       phon        lemme cgram genre nombre  freqlemfilms2  \\\n0            a          a            a   NOM     m    NaN          81.36   \n1            a          a        avoir   AUX   NaN    NaN       18559.22   \n2            a          a        avoir   VER   NaN    NaN       13572.40   \n3    a capella    akapEla    a capella   ADV   NaN    NaN           0.04   \n4   a cappella    akapEla   a cappella   ADV   NaN    NaN           0.04   \n5  a contrario  ak§tRaRjo  a contrario   ADV   NaN    NaN           0.00   \n6   a fortiori  afORsjoRi   a fortiori   ADV   NaN    NaN           0.04   \n7     a giorno   adZjORno     a giorno   ADV   NaN    NaN           0.00   \n8       a jeun        aZ1       à jeun   ADV   NaN    NaN           1.45   \n9   a l'instar    al5staR   a l'instar   PRE   NaN    NaN           0.26   \n\n   freqlemlivres  freqfilms2  freqlivres  ...     orthrenv   phonrenv  \\\n0          58.65       81.36       58.65  ...            a          a   \n1       12800.81     6350.91     2926.69  ...            a          a   \n2        6426.49     5498.34     1669.39  ...            a          a   \n3           0.07        0.04        0.07  ...    allepac a    alEpaka   \n4           0.07        0.04        0.07  ...   alleppac a    alEpaka   \n5           0.27        0.00        0.27  ...  oirartnoc a  ojRaRt§ka   \n6           0.88        0.04        0.88  ...   iroitrof a  iRojsROfa   \n7           0.27        0.00        0.27  ...     onroig a   onROjZda   \n8           3.85        0.18        0.00  ...       nuej a        1Za   \n9           0.00        0.26        0.00  ...   ratsni'l a    Rats5la   \n\n       orthosyll   cgramortho  deflem  defobs old20 pld20    morphoder  \\\n0              a  NOM,AUX,VER     NaN     NaN  1.00  1.00            a   \n1              a  NOM,AUX,VER     NaN     NaN  1.00  1.00        avoir   \n2              a  NOM,AUX,VER    93.0    16.0  1.00  1.00        avoir   \n3    a ca-pel-la          ADV     NaN     NaN  3.85  2.85    a-capella   \n4   a cap-pel-la          ADV     NaN     NaN  4.60  2.85   a-cappella   \n5  a con-tra-rio          ADV     NaN     NaN  4.30  3.30  a-contrario   \n6   a for-tio-ri          ADV     NaN     NaN  4.40  3.95   a-fortiori   \n7      a gior-no          ADV     NaN     NaN  3.85  3.85     a-giorno   \n8         a jeun          ADV     NaN     NaN  2.90  1.60       à-jeun   \n9    a l'ins-tar          PRE     NaN     NaN  4.80  3.00   a-l'instar   \n\n   nbmorph  \n0        1  \n1        1  \n2        1  \n3        2  \n4        2  \n5        2  \n6        2  \n7        2  \n8        2  \n9        2  \n\n[10 rows x 35 columns]",
      "text/html": "<div>\n<style scoped>\n    .dataframe tbody tr th:only-of-type {\n        vertical-align: middle;\n    }\n\n    .dataframe tbody tr th {\n        vertical-align: top;\n    }\n\n    .dataframe thead th {\n        text-align: right;\n    }\n</style>\n<table border=\"1\" class=\"dataframe\">\n  <thead>\n    <tr style=\"text-align: right;\">\n      <th></th>\n      <th>ortho</th>\n      <th>phon</th>\n      <th>lemme</th>\n      <th>cgram</th>\n      <th>genre</th>\n      <th>nombre</th>\n      <th>freqlemfilms2</th>\n      <th>freqlemlivres</th>\n      <th>freqfilms2</th>\n      <th>freqlivres</th>\n      <th>...</th>\n      <th>orthrenv</th>\n      <th>phonrenv</th>\n      <th>orthosyll</th>\n      <th>cgramortho</th>\n      <th>deflem</th>\n      <th>defobs</th>\n      <th>old20</th>\n      <th>pld20</th>\n      <th>morphoder</th>\n      <th>nbmorph</th>\n    </tr>\n  </thead>\n  <tbody>\n    <tr>\n      <th>0</th>\n      <td>a</td>\n      <td>a</td>\n      <td>a</td>\n      <td>NOM</td>\n      <td>m</td>\n      <td>NaN</td>\n      <td>81.36</td>\n      <td>58.65</td>\n      <td>81.36</td>\n      <td>58.65</td>\n      <td>...</td>\n      <td>a</td>\n      <td>a</td>\n      <td>a</td>\n      <td>NOM,AUX,VER</td>\n      <td>NaN</td>\n      <td>NaN</td>\n      <td>1.00</td>\n      <td>1.00</td>\n      <td>a</td>\n      <td>1</td>\n    </tr>\n    <tr>\n      <th>1</th>\n      <td>a</td>\n      <td>a</td>\n      <td>avoir</td>\n      <td>AUX</td>\n      <td>NaN</td>\n      <td>NaN</td>\n      <td>18559.22</td>\n      <td>12800.81</td>\n      <td>6350.91</td>\n      <td>2926.69</td>\n      <td>...</td>\n      <td>a</td>\n      <td>a</td>\n      <td>a</td>\n      <td>NOM,AUX,VER</td>\n      <td>NaN</td>\n      <td>NaN</td>\n      <td>1.00</td>\n      <td>1.00</td>\n      <td>avoir</td>\n      <td>1</td>\n    </tr>\n    <tr>\n      <th>2</th>\n      <td>a</td>\n      <td>a</td>\n      <td>avoir</td>\n      <td>VER</td>\n      <td>NaN</td>\n      <td>NaN</td>\n      <td>13572.40</td>\n      <td>6426.49</td>\n      <td>5498.34</td>\n      <td>1669.39</td>\n      <td>...</td>\n      <td>a</td>\n      <td>a</td>\n      <td>a</td>\n      <td>NOM,AUX,VER</td>\n      <td>93.0</td>\n      <td>16.0</td>\n      <td>1.00</td>\n      <td>1.00</td>\n      <td>avoir</td>\n      <td>1</td>\n    </tr>\n    <tr>\n      <th>3</th>\n      <td>a capella</td>\n      <td>akapEla</td>\n      <td>a capella</td>\n      <td>ADV</td>\n      <td>NaN</td>\n      <td>NaN</td>\n      <td>0.04</td>\n      <td>0.07</td>\n      <td>0.04</td>\n      <td>0.07</td>\n      <td>...</td>\n      <td>allepac a</td>\n      <td>alEpaka</td>\n      <td>a ca-pel-la</td>\n      <td>ADV</td>\n      <td>NaN</td>\n      <td>NaN</td>\n      <td>3.85</td>\n      <td>2.85</td>\n      <td>a-capella</td>\n      <td>2</td>\n    </tr>\n    <tr>\n      <th>4</th>\n      <td>a cappella</td>\n      <td>akapEla</td>\n      <td>a cappella</td>\n      <td>ADV</td>\n      <td>NaN</td>\n      <td>NaN</td>\n      <td>0.04</td>\n      <td>0.07</td>\n      <td>0.04</td>\n      <td>0.07</td>\n      <td>...</td>\n      <td>alleppac a</td>\n      <td>alEpaka</td>\n      <td>a cap-pel-la</td>\n      <td>ADV</td>\n      <td>NaN</td>\n      <td>NaN</td>\n      <td>4.60</td>\n      <td>2.85</td>\n      <td>a-cappella</td>\n      <td>2</td>\n    </tr>\n    <tr>\n      <th>5</th>\n      <td>a contrario</td>\n      <td>ak§tRaRjo</td>\n      <td>a contrario</td>\n      <td>ADV</td>\n      <td>NaN</td>\n      <td>NaN</td>\n      <td>0.00</td>\n      <td>0.27</td>\n      <td>0.00</td>\n      <td>0.27</td>\n      <td>...</td>\n      <td>oirartnoc a</td>\n      <td>ojRaRt§ka</td>\n      <td>a con-tra-rio</td>\n      <td>ADV</td>\n      <td>NaN</td>\n      <td>NaN</td>\n      <td>4.30</td>\n      <td>3.30</td>\n      <td>a-contrario</td>\n      <td>2</td>\n    </tr>\n    <tr>\n      <th>6</th>\n      <td>a fortiori</td>\n      <td>afORsjoRi</td>\n      <td>a fortiori</td>\n      <td>ADV</td>\n      <td>NaN</td>\n      <td>NaN</td>\n      <td>0.04</td>\n      <td>0.88</td>\n      <td>0.04</td>\n      <td>0.88</td>\n      <td>...</td>\n      <td>iroitrof a</td>\n      <td>iRojsROfa</td>\n      <td>a for-tio-ri</td>\n      <td>ADV</td>\n      <td>NaN</td>\n      <td>NaN</td>\n      <td>4.40</td>\n      <td>3.95</td>\n      <td>a-fortiori</td>\n      <td>2</td>\n    </tr>\n    <tr>\n      <th>7</th>\n      <td>a giorno</td>\n      <td>adZjORno</td>\n      <td>a giorno</td>\n      <td>ADV</td>\n      <td>NaN</td>\n      <td>NaN</td>\n      <td>0.00</td>\n      <td>0.27</td>\n      <td>0.00</td>\n      <td>0.27</td>\n      <td>...</td>\n      <td>onroig a</td>\n      <td>onROjZda</td>\n      <td>a gior-no</td>\n      <td>ADV</td>\n      <td>NaN</td>\n      <td>NaN</td>\n      <td>3.85</td>\n      <td>3.85</td>\n      <td>a-giorno</td>\n      <td>2</td>\n    </tr>\n    <tr>\n      <th>8</th>\n      <td>a jeun</td>\n      <td>aZ1</td>\n      <td>à jeun</td>\n      <td>ADV</td>\n      <td>NaN</td>\n      <td>NaN</td>\n      <td>1.45</td>\n      <td>3.85</td>\n      <td>0.18</td>\n      <td>0.00</td>\n      <td>...</td>\n      <td>nuej a</td>\n      <td>1Za</td>\n      <td>a jeun</td>\n      <td>ADV</td>\n      <td>NaN</td>\n      <td>NaN</td>\n      <td>2.90</td>\n      <td>1.60</td>\n      <td>à-jeun</td>\n      <td>2</td>\n    </tr>\n    <tr>\n      <th>9</th>\n      <td>a l'instar</td>\n      <td>al5staR</td>\n      <td>a l'instar</td>\n      <td>PRE</td>\n      <td>NaN</td>\n      <td>NaN</td>\n      <td>0.26</td>\n      <td>0.00</td>\n      <td>0.26</td>\n      <td>0.00</td>\n      <td>...</td>\n      <td>ratsni'l a</td>\n      <td>Rats5la</td>\n      <td>a l'ins-tar</td>\n      <td>PRE</td>\n      <td>NaN</td>\n      <td>NaN</td>\n      <td>4.80</td>\n      <td>3.00</td>\n      <td>a-l'instar</td>\n      <td>2</td>\n    </tr>\n  </tbody>\n</table>\n<p>10 rows × 35 columns</p>\n</div>"
     },
     "execution_count": 2,
     "metadata": {},
     "output_type": "execute_result"
    }
   ],
   "source": [
    "data = pd.read_table(filepath_or_buffer=\"../../data/raw/Lexique383.tsv\")\n",
    "data.head(10)"
   ]
  },
  {
   "cell_type": "markdown",
   "id": "be88d4c9",
   "metadata": {},
   "source": [
    "## Pré-traitement des données pour la création du dataset"
   ]
  },
  {
   "cell_type": "markdown",
   "id": "962f91b0",
   "metadata": {},
   "source": [
    "### Organisation du dataset\n",
    "\n",
    "Récupération des colonnes utiles, dans notre cas, nous avons juste besoin de la colonne **ortho** pour **orthographe** des mots."
   ]
  },
  {
   "cell_type": "code",
   "execution_count": 3,
   "id": "4ee2e9ee",
   "metadata": {},
   "outputs": [
    {
     "data": {
      "text/plain": "           ortho\n0              a\n3      a capella\n4     a cappella\n5    a contrario\n6     a fortiori\n7       a giorno\n8         a jeun\n9     a l'instar\n10  a posteriori\n11      a priori",
      "text/html": "<div>\n<style scoped>\n    .dataframe tbody tr th:only-of-type {\n        vertical-align: middle;\n    }\n\n    .dataframe tbody tr th {\n        vertical-align: top;\n    }\n\n    .dataframe thead th {\n        text-align: right;\n    }\n</style>\n<table border=\"1\" class=\"dataframe\">\n  <thead>\n    <tr style=\"text-align: right;\">\n      <th></th>\n      <th>ortho</th>\n    </tr>\n  </thead>\n  <tbody>\n    <tr>\n      <th>0</th>\n      <td>a</td>\n    </tr>\n    <tr>\n      <th>3</th>\n      <td>a capella</td>\n    </tr>\n    <tr>\n      <th>4</th>\n      <td>a cappella</td>\n    </tr>\n    <tr>\n      <th>5</th>\n      <td>a contrario</td>\n    </tr>\n    <tr>\n      <th>6</th>\n      <td>a fortiori</td>\n    </tr>\n    <tr>\n      <th>7</th>\n      <td>a giorno</td>\n    </tr>\n    <tr>\n      <th>8</th>\n      <td>a jeun</td>\n    </tr>\n    <tr>\n      <th>9</th>\n      <td>a l'instar</td>\n    </tr>\n    <tr>\n      <th>10</th>\n      <td>a posteriori</td>\n    </tr>\n    <tr>\n      <th>11</th>\n      <td>a priori</td>\n    </tr>\n  </tbody>\n</table>\n</div>"
     },
     "execution_count": 3,
     "metadata": {},
     "output_type": "execute_result"
    }
   ],
   "source": [
    "dataset = pd.DataFrame(data[\"ortho\"], dtype=str)\n",
    "dataset.drop_duplicates(keep = 'first', inplace=True) # Supression des doublons\n",
    "dataset.head(10)"
   ]
  },
  {
   "cell_type": "markdown",
   "id": "16d92957",
   "metadata": {},
   "source": [
    "### Nettoyage du dataset"
   ]
  },
  {
   "cell_type": "markdown",
   "id": "c18ff416",
   "metadata": {},
   "source": [
    "#### Suppression des accents et autres caractères français compliquant l'utilisation du jeu de données"
   ]
  },
  {
   "cell_type": "code",
   "execution_count": 4,
   "id": "eb811230",
   "metadata": {},
   "outputs": [
    {
     "name": "stdout",
     "output_type": "stream",
     "text": [
      "Avant conversion\n"
     ]
    },
    {
     "data": {
      "text/plain": "          ortho\n142685  ôtèrent\n142686      ôté\n142688     ôtée\n142690    ôtées\n142692     ôtés",
      "text/html": "<div>\n<style scoped>\n    .dataframe tbody tr th:only-of-type {\n        vertical-align: middle;\n    }\n\n    .dataframe tbody tr th {\n        vertical-align: top;\n    }\n\n    .dataframe thead th {\n        text-align: right;\n    }\n</style>\n<table border=\"1\" class=\"dataframe\">\n  <thead>\n    <tr style=\"text-align: right;\">\n      <th></th>\n      <th>ortho</th>\n    </tr>\n  </thead>\n  <tbody>\n    <tr>\n      <th>142685</th>\n      <td>ôtèrent</td>\n    </tr>\n    <tr>\n      <th>142686</th>\n      <td>ôté</td>\n    </tr>\n    <tr>\n      <th>142688</th>\n      <td>ôtée</td>\n    </tr>\n    <tr>\n      <th>142690</th>\n      <td>ôtées</td>\n    </tr>\n    <tr>\n      <th>142692</th>\n      <td>ôtés</td>\n    </tr>\n  </tbody>\n</table>\n</div>"
     },
     "execution_count": 4,
     "metadata": {},
     "output_type": "execute_result"
    }
   ],
   "source": [
    "print(\"Avant conversion\")\n",
    "dataset.tail()"
   ]
  },
  {
   "cell_type": "markdown",
   "id": "0fc091d4",
   "metadata": {},
   "source": [
    "Opération de conversion des str avec accents en str sans accents"
   ]
  },
  {
   "cell_type": "code",
   "execution_count": 5,
   "id": "c53765c0",
   "metadata": {},
   "outputs": [
    {
     "name": "stdout",
     "output_type": "stream",
     "text": [
      "Après conversion\n"
     ]
    },
    {
     "data": {
      "text/plain": "          ortho\n142685  oterent\n142686      ote\n142688     otee\n142690    otees\n142692     otes",
      "text/html": "<div>\n<style scoped>\n    .dataframe tbody tr th:only-of-type {\n        vertical-align: middle;\n    }\n\n    .dataframe tbody tr th {\n        vertical-align: top;\n    }\n\n    .dataframe thead th {\n        text-align: right;\n    }\n</style>\n<table border=\"1\" class=\"dataframe\">\n  <thead>\n    <tr style=\"text-align: right;\">\n      <th></th>\n      <th>ortho</th>\n    </tr>\n  </thead>\n  <tbody>\n    <tr>\n      <th>142685</th>\n      <td>oterent</td>\n    </tr>\n    <tr>\n      <th>142686</th>\n      <td>ote</td>\n    </tr>\n    <tr>\n      <th>142688</th>\n      <td>otee</td>\n    </tr>\n    <tr>\n      <th>142690</th>\n      <td>otees</td>\n    </tr>\n    <tr>\n      <th>142692</th>\n      <td>otes</td>\n    </tr>\n  </tbody>\n</table>\n</div>"
     },
     "execution_count": 5,
     "metadata": {},
     "output_type": "execute_result"
    }
   ],
   "source": [
    "dataset = dataset.applymap(unidecode)\n",
    "dataset.head(10)\n",
    "\n",
    "print(\"Après conversion\")\n",
    "dataset.tail()"
   ]
  },
  {
   "cell_type": "markdown",
   "id": "33cb44ec",
   "metadata": {},
   "source": [
    "### Triage le dataset\n",
    "\n",
    "Le tri du dataset par nombre de lettre aura pour but de séparer le dataset en sous fichier pour ainsi augmenter la vitesse de calcule de \"la distance de Levensthein\" en sélectionnant ces fichers en fonctions du mot demandé"
   ]
  },
  {
   "cell_type": "markdown",
   "id": "8edd82be",
   "metadata": {},
   "source": [
    "#### Analyse de la répartition des mots par nombre de caractères dans le dataset\n",
    "\n",
    "Pour cela, on crée une nouvelle colonne nb_caractères qui contiendra le nombre de caractères contenue dans chaque mots en fonction de la ligne de celui-ci"
   ]
  },
  {
   "cell_type": "code",
   "execution_count": 6,
   "id": "96b6e2a9",
   "metadata": {},
   "outputs": [
    {
     "data": {
      "text/plain": "   ortho\n0      1\n3      9\n4     10\n5     11\n6     10",
      "text/html": "<div>\n<style scoped>\n    .dataframe tbody tr th:only-of-type {\n        vertical-align: middle;\n    }\n\n    .dataframe tbody tr th {\n        vertical-align: top;\n    }\n\n    .dataframe thead th {\n        text-align: right;\n    }\n</style>\n<table border=\"1\" class=\"dataframe\">\n  <thead>\n    <tr style=\"text-align: right;\">\n      <th></th>\n      <th>ortho</th>\n    </tr>\n  </thead>\n  <tbody>\n    <tr>\n      <th>0</th>\n      <td>1</td>\n    </tr>\n    <tr>\n      <th>3</th>\n      <td>9</td>\n    </tr>\n    <tr>\n      <th>4</th>\n      <td>10</td>\n    </tr>\n    <tr>\n      <th>5</th>\n      <td>11</td>\n    </tr>\n    <tr>\n      <th>6</th>\n      <td>10</td>\n    </tr>\n  </tbody>\n</table>\n</div>"
     },
     "execution_count": 6,
     "metadata": {},
     "output_type": "execute_result"
    }
   ],
   "source": [
    "dataset_nb_caracteres = dataset.applymap(len)\n",
    "dataset_nb_caracteres.head()"
   ]
  },
  {
   "cell_type": "markdown",
   "id": "4e35648e",
   "metadata": {},
   "source": [
    "Création du nouveau dataframe \"dataset_3\" contenant comme colonne:\n",
    "-mot\n",
    "-nombre de caractères"
   ]
  },
  {
   "cell_type": "code",
   "execution_count": 7,
   "id": "cfd7a6f1",
   "metadata": {},
   "outputs": [
    {
     "data": {
      "text/plain": "           mot  nb_caracteres\n0            a              1\n3    a capella              9\n4   a cappella             10\n5  a contrario             11\n6   a fortiori             10",
      "text/html": "<div>\n<style scoped>\n    .dataframe tbody tr th:only-of-type {\n        vertical-align: middle;\n    }\n\n    .dataframe tbody tr th {\n        vertical-align: top;\n    }\n\n    .dataframe thead th {\n        text-align: right;\n    }\n</style>\n<table border=\"1\" class=\"dataframe\">\n  <thead>\n    <tr style=\"text-align: right;\">\n      <th></th>\n      <th>mot</th>\n      <th>nb_caracteres</th>\n    </tr>\n  </thead>\n  <tbody>\n    <tr>\n      <th>0</th>\n      <td>a</td>\n      <td>1</td>\n    </tr>\n    <tr>\n      <th>3</th>\n      <td>a capella</td>\n      <td>9</td>\n    </tr>\n    <tr>\n      <th>4</th>\n      <td>a cappella</td>\n      <td>10</td>\n    </tr>\n    <tr>\n      <th>5</th>\n      <td>a contrario</td>\n      <td>11</td>\n    </tr>\n    <tr>\n      <th>6</th>\n      <td>a fortiori</td>\n      <td>10</td>\n    </tr>\n  </tbody>\n</table>\n</div>"
     },
     "execution_count": 7,
     "metadata": {},
     "output_type": "execute_result"
    }
   ],
   "source": [
    "dataset_2 = pd.DataFrame({\"mot\": dataset[\"ortho\"], \"nb_caracteres\": dataset_nb_caracteres[\"ortho\"]})\n",
    "dataset_2.head()"
   ]
  },
  {
   "cell_type": "markdown",
   "id": "2eca9e19",
   "metadata": {},
   "source": [
    "Affichage de l'histogramme de la répartition du nombre de mots en fonction du nombre de caractère."
   ]
  },
  {
   "cell_type": "code",
   "execution_count": 8,
   "id": "1f4bcd36",
   "metadata": {},
   "outputs": [
    {
     "data": {
      "text/plain": "<AxesSubplot: >"
     },
     "execution_count": 8,
     "metadata": {},
     "output_type": "execute_result"
    },
    {
     "data": {
      "text/plain": "<Figure size 640x480 with 1 Axes>",
      "image/png": "[encoded data removed]"
     },
     "metadata": {},
     "output_type": "display_data"
    }
   ],
   "source": [
    "dataset_2[\"nb_caracteres\"].value_counts().plot(kind=\"bar\")"
   ]
  },
  {
   "cell_type": "markdown",
   "id": "9deabd3c",
   "metadata": {},
   "source": [
    "#### Regroupement des mots par nombre de caractère.\n",
    "\n",
    "On regroupe les mots par nombre de caractère afin d'obtenir une répartition plus uniformes des ensembles de mots"
   ]
  },
  {
   "cell_type": "code",
   "execution_count": 9,
   "id": "254ed3c0",
   "metadata": {},
   "outputs": [
    {
     "data": {
      "text/plain": "0         a\n12104     b\n19237     c\n34926     d\n46861     e\n54699     f\n60589     g\n67816     i\n73954     j\n75126     k\n75459     l\n78755     m\n86465     n\n88628     o\n103794    q\n117200    s\n126652    t\n133411    u\n133900    v\n137226    w\n137326    x\n137349    y\n137441    z\n137701    a\n137798    e\n142663    o\nName: mot, dtype: object"
     },
     "execution_count": 9,
     "metadata": {},
     "output_type": "execute_result"
    }
   ],
   "source": [
    "dict_dataset_mots_par_nb_carac = {}\n",
    "for i in range(1, 26):\n",
    "    df = dataset_2 # Varaible intermédiaire pour simplifier l'écriture de la ligne suivante\n",
    "    dict_dataset_mots_par_nb_carac[i] = df[df[\"nb_caracteres\"] == i][\"mot\"] # On sélectionne uniquement la colonne des mots; plus besoin de la colonne du nombre de caractères\n",
    "\n",
    "dict_dataset_mots_par_nb_carac[1]"
   ]
  },
  {
   "cell_type": "markdown",
   "id": "bd53c966",
   "metadata": {},
   "source": [
    "#### Regroupement des catégories où il y a peu de mots ensemble\n",
    "\n",
    "Dans notre cas on va créer une nouvelle catégorie qui va reprendre tous les mots ayant les nombres de caractères ci-dessous:\n",
    "**(14, 4, 15, 3, 16, 17, 2, 18, 19, 1, 20, 21, 22, 23, 24, 25)**.\n",
    "\n",
    "**ps: dans l'utilisation de SmartRead nous ne regroupons aucune données pour des raisons techniques**."
   ]
  },
  {
   "cell_type": "code",
   "execution_count": 11,
   "id": "52267d05",
   "metadata": {},
   "outputs": [
    {
     "data": {
      "text/plain": "Empty DataFrame\nColumns: []\nIndex: []",
      "text/html": "<div>\n<style scoped>\n    .dataframe tbody tr th:only-of-type {\n        vertical-align: middle;\n    }\n\n    .dataframe tbody tr th {\n        vertical-align: top;\n    }\n\n    .dataframe thead th {\n        text-align: right;\n    }\n</style>\n<table border=\"1\" class=\"dataframe\">\n  <thead>\n    <tr style=\"text-align: right;\">\n      <th></th>\n    </tr>\n  </thead>\n  <tbody>\n  </tbody>\n</table>\n</div>"
     },
     "execution_count": 11,
     "metadata": {},
     "output_type": "execute_result"
    }
   ],
   "source": [
    "groupe_autre = []\n",
    "dataset_autre = pd.DataFrame(dtype=str)\n",
    "\n",
    "for i in groupe_autre:\n",
    "    dataset_autre = pd.concat((dataset_autre, dict_dataset_mots_par_nb_carac[i]))\n",
    "# dataset_autre.columns = [\"mot\"] plus besoin car on effectue aucun regroupement\n",
    "dataset_autre"
   ]
  },
  {
   "cell_type": "markdown",
   "id": "02531747",
   "metadata": {},
   "source": [
    "##### Création du dataset final dans un dictionnaire"
   ]
  },
  {
   "cell_type": "code",
   "execution_count": 12,
   "id": "e4797eb6",
   "metadata": {},
   "outputs": [],
   "source": [
    "dict_final_dataset = {}\n",
    "dict_final_dataset[\"autre\"] = dataset_autre\n",
    "\n",
    "for i in range(1, 26):\n",
    "    if i not in groupe_autre:\n",
    "        dict_final_dataset[i] = dict_dataset_mots_par_nb_carac[i]"
   ]
  },
  {
   "cell_type": "markdown",
   "id": "967987a8",
   "metadata": {},
   "source": [
    "##### Affichage de la répartition des ensembles de  mots"
   ]
  },
  {
   "cell_type": "code",
   "execution_count": 13,
   "id": "106b8c6d",
   "metadata": {},
   "outputs": [
    {
     "name": "stdout",
     "output_type": "stream",
     "text": [
      "{'autre': 0, 1: 26, 2: 107, 3: 618, 4: 2232, 5: 5684, 6: 10956, 7: 16335, 8: 19981, 9: 20039, 10: 17300, 11: 13038, 12: 8653, 13: 5170, 14: 2773, 15: 1415, 16: 692, 17: 305, 18: 158, 19: 91, 20: 36, 21: 22, 22: 12, 23: 4, 24: 5, 25: 1}\n"
     ]
    },
    {
     "data": {
      "text/plain": "([<matplotlib.axis.XTick at 0x7f9910b70190>,\n  <matplotlib.axis.XTick at 0x7f9910b70160>,\n  <matplotlib.axis.XTick at 0x7f9910b4f8e0>,\n  <matplotlib.axis.XTick at 0x7f99109a72b0>,\n  <matplotlib.axis.XTick at 0x7f99109a7d60>,\n  <matplotlib.axis.XTick at 0x7f99109e02b0>,\n  <matplotlib.axis.XTick at 0x7f99109e0d60>,\n  <matplotlib.axis.XTick at 0x7f99109e1810>,\n  <matplotlib.axis.XTick at 0x7f99109e22c0>,\n  <matplotlib.axis.XTick at 0x7f9910b73c10>,\n  <matplotlib.axis.XTick at 0x7f99109e2b90>,\n  <matplotlib.axis.XTick at 0x7f99109e3640>,\n  <matplotlib.axis.XTick at 0x7f99109e3d90>,\n  <matplotlib.axis.XTick at 0x7f99109f0be0>,\n  <matplotlib.axis.XTick at 0x7f99109e0910>,\n  <matplotlib.axis.XTick at 0x7f99109f14e0>,\n  <matplotlib.axis.XTick at 0x7f99109f1f90>,\n  <matplotlib.axis.XTick at 0x7f99109f2a40>,\n  <matplotlib.axis.XTick at 0x7f99109f34f0>,\n  <matplotlib.axis.XTick at 0x7f99109f2290>,\n  <matplotlib.axis.XTick at 0x7f99109f3df0>,\n  <matplotlib.axis.XTick at 0x7f9910a0c8e0>,\n  <matplotlib.axis.XTick at 0x7f9910a0d390>,\n  <matplotlib.axis.XTick at 0x7f9910a0de40>,\n  <matplotlib.axis.XTick at 0x7f9910a0ccd0>,\n  <matplotlib.axis.XTick at 0x7f9910a0e6b0>],\n [Text(0, 0, 'autre'),\n  Text(1, 0, '1'),\n  Text(2, 0, '2'),\n  Text(3, 0, '3'),\n  Text(4, 0, '4'),\n  Text(5, 0, '5'),\n  Text(6, 0, '6'),\n  Text(7, 0, '7'),\n  Text(8, 0, '8'),\n  Text(9, 0, '9'),\n  Text(10, 0, '10'),\n  Text(11, 0, '11'),\n  Text(12, 0, '12'),\n  Text(13, 0, '13'),\n  Text(14, 0, '14'),\n  Text(15, 0, '15'),\n  Text(16, 0, '16'),\n  Text(17, 0, '17'),\n  Text(18, 0, '18'),\n  Text(19, 0, '19'),\n  Text(20, 0, '20'),\n  Text(21, 0, '21'),\n  Text(22, 0, '22'),\n  Text(23, 0, '23'),\n  Text(24, 0, '24'),\n  Text(25, 0, '25')])"
     },
     "execution_count": 13,
     "metadata": {},
     "output_type": "execute_result"
    },
    {
     "data": {
      "text/plain": "<Figure size 640x480 with 1 Axes>",
      "image/png": "[encoded data removed]"
     },
     "metadata": {},
     "output_type": "display_data"
    }
   ],
   "source": [
    "dict_final_dataset_repartion_mots = {}\n",
    "\n",
    "for key, value in dict_final_dataset.items():\n",
    "    dict_final_dataset_repartion_mots[key] = len(value.index)\n",
    "\n",
    "print(dict_final_dataset_repartion_mots)\n",
    "plt.bar(range(len(dict_final_dataset_repartion_mots)), list(dict_final_dataset_repartion_mots.values()), align='center')\n",
    "plt.xticks(range(len(dict_final_dataset_repartion_mots)), list(dict_final_dataset_repartion_mots.keys()))"
   ]
  },
  {
   "cell_type": "markdown",
   "id": "b8b28b06",
   "metadata": {},
   "source": [
    "##### Sauvegarde du dataset sur le PC"
   ]
  },
  {
   "cell_type": "code",
   "execution_count": 14,
   "id": "af41ca2f",
   "metadata": {},
   "outputs": [],
   "source": [
    "SAVE_PATH = Path(\"../../data/pretreated/lexique3\")\n",
    "for key in dict_final_dataset.keys():\n",
    "    dict_final_dataset[key].to_csv(SAVE_PATH / f\"mots_{key}.csv\", index=False)"
   ]
  }
 ],
 "metadata": {
  "kernelspec": {
   "display_name": "Python 3 (ipykernel)",
   "language": "python",
   "name": "python3"
  },
  "language_info": {
   "codemirror_mode": {
    "name": "ipython",
    "version": 3
   },
   "file_extension": ".py",
   "mimetype": "text/x-python",
   "name": "python",
   "nbconvert_exporter": "python",
   "pygments_lexer": "ipython3",
   "version": "3.11.1"
  },
  "vscode": {
   "interpreter": {
    "hash": "9244ba990cb9167d000ed53547d873aef74d718570944566aedb44fcca32ff7b"
   }
  }
 },
 "nbformat": 4,
 "nbformat_minor": 5
}
